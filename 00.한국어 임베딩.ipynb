{
 "cells": [
  {
   "cell_type": "markdown",
   "metadata": {},
   "source": [
    "# 1. 임베딩(embedding)"
   ]
  },
  {
   "cell_type": "markdown",
   "metadata": {},
   "source": [
    "## 1) 임베딩 정의"
   ]
  },
  {
   "cell_type": "markdown",
   "metadata": {},
   "source": [
    "**자연어 처리(NLP)에서 임베딩이란,** <br>\n",
    "사람이 쓰는 자연어를 기계가 이해할 수 있는 숫자의 나열인 벡터로 바꾼 결과 혹은 그 일련의 과정 전체를 의미한다."
   ]
  },
  {
   "cell_type": "markdown",
   "metadata": {},
   "source": [
    "## 2) 임베딩 역할"
   ]
  },
  {
   "cell_type": "markdown",
   "metadata": {},
   "source": [
    "1. 단어/문장 간 관련도 계산 : 단어나 문장 간의 관계를 나타낼 수 있음\n",
    "- 의미적/문법적 정보 함축 : 단어의 정보가 벡터로 담겨있어서 유추 평가가 가능(사칙연산이 가능:: 아들 - 딸 + 소녀 = 소년)\n",
    "- 전이 학습 : 임베딩을 다른 딥러닝 모델의 입력값으로 쓰는 기법(추후 공부 더 필요)"
   ]
  },
  {
   "cell_type": "markdown",
   "metadata": {},
   "source": [
    "## 3) 환경"
   ]
  },
  {
   "cell_type": "markdown",
   "metadata": {},
   "source": [
    "- 임베딩 모델 중 GPU가 필요한 모델이 존재(고성능)\n",
    "- 리눅스에서만 돌아가는 모델도 있음\n",
    "- docker를 이용하면 윈도우든 리눅스든 상관없이 우분투 환경에서 실행 가능<br>\n",
    "(docker: 컨데이너 기반의 오픈소스 가상화 플랫폼//자세히 알고 싶다면 [여기](https://subicura.com/2017/01/19/docker-guide-for-beginners-1.html))\n",
    "- GPU가 필요한데 CPU만 있다면 AWS를 사용해야함"
   ]
  },
  {
   "cell_type": "code",
   "execution_count": null,
   "metadata": {},
   "outputs": [],
   "source": []
  },
  {
   "cell_type": "code",
   "execution_count": null,
   "metadata": {},
   "outputs": [],
   "source": []
  },
  {
   "cell_type": "code",
   "execution_count": null,
   "metadata": {},
   "outputs": [],
   "source": []
  },
  {
   "cell_type": "code",
   "execution_count": null,
   "metadata": {},
   "outputs": [],
   "source": []
  },
  {
   "cell_type": "code",
   "execution_count": null,
   "metadata": {},
   "outputs": [],
   "source": []
  }
 ],
 "metadata": {
  "kernelspec": {
   "display_name": "Python 3",
   "language": "python",
   "name": "python3"
  },
  "language_info": {
   "codemirror_mode": {
    "name": "ipython",
    "version": 3
   },
   "file_extension": ".py",
   "mimetype": "text/x-python",
   "name": "python",
   "nbconvert_exporter": "python",
   "pygments_lexer": "ipython3",
   "version": "3.7.3"
  }
 },
 "nbformat": 4,
 "nbformat_minor": 2
}
