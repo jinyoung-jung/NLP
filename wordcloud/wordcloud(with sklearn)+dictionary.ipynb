{
 "cells": [
  {
   "cell_type": "markdown",
   "metadata": {},
   "source": [
    "# 워드클라우드"
   ]
  },
  {
   "cell_type": "markdown",
   "metadata": {},
   "source": [
    "* 프로세스\n",
    "    1. 데이터로드 \n",
    "    - 데이터 탐색\n",
    "    - 분석 범주 선정\n",
    "    - 텍스트 전처리(이메일, ip주소, 특수기호 제거)\n",
    "    - 추출 품사 선정\n",
    "    - 형태소 분석\n",
    "    - 빈도표 생성\n",
    "    - 단어 정제(불용어, 오류 단어 등)\n",
    "    - 빈도표 확인\n",
    "    - 워드클라우드 설정(모양, 폰트, 색상)\n",
    "    - 워드클라우드 그리기\n",
    "    - 인사이트 도출"
   ]
  },
  {
   "cell_type": "markdown",
   "metadata": {},
   "source": [
    "**1.데이터로드**"
   ]
  },
  {
   "cell_type": "code",
   "execution_count": 8,
   "metadata": {},
   "outputs": [
    {
     "name": "stdout",
     "output_type": "stream",
     "text": [
      "관측치 수:245\n"
     ]
    },
    {
     "data": {
      "text/html": [
       "<div>\n",
       "<style scoped>\n",
       "    .dataframe tbody tr th:only-of-type {\n",
       "        vertical-align: middle;\n",
       "    }\n",
       "\n",
       "    .dataframe tbody tr th {\n",
       "        vertical-align: top;\n",
       "    }\n",
       "\n",
       "    .dataframe thead th {\n",
       "        text-align: right;\n",
       "    }\n",
       "</style>\n",
       "<table border=\"1\" class=\"dataframe\">\n",
       "  <thead>\n",
       "    <tr style=\"text-align: right;\">\n",
       "      <th></th>\n",
       "      <th>keyword</th>\n",
       "      <th>site</th>\n",
       "      <th>category</th>\n",
       "      <th>date</th>\n",
       "      <th>title</th>\n",
       "      <th>content</th>\n",
       "      <th>username</th>\n",
       "      <th>link</th>\n",
       "    </tr>\n",
       "  </thead>\n",
       "  <tbody>\n",
       "    <tr>\n",
       "      <th>0</th>\n",
       "      <td>LG 식기세척기</td>\n",
       "      <td>naverBlog</td>\n",
       "      <td>경쟁사</td>\n",
       "      <td>2020-02-25</td>\n",
       "      <td>LG DIOS 12인용 식기세척기 6개월간 사용후기</td>\n",
       "      <td>LG DIOS 식기세척기 DFB22M 빌트인 12인용 모델을 사용한 지도 어연 6...</td>\n",
       "      <td>민기린 mingirin</td>\n",
       "      <td>https://m.blog.naver.com/chongchong29?Redirect...</td>\n",
       "    </tr>\n",
       "    <tr>\n",
       "      <th>1</th>\n",
       "      <td>LG 식기세척기</td>\n",
       "      <td>naverBlog</td>\n",
       "      <td>경쟁사</td>\n",
       "      <td>2019-11-30</td>\n",
       "      <td>LG식기 세척기 솔직 후기 (세제남음 ㅠㅠ)</td>\n",
       "      <td>그동안 가전은 LG라고 생각하며 살아왔던나.#식기세척기 역시 LG로​친구들도 다 ...</td>\n",
       "      <td>favoreun</td>\n",
       "      <td>https://m.blog.naver.com/favoreun?Redirect=Log...</td>\n",
       "    </tr>\n",
       "  </tbody>\n",
       "</table>\n",
       "</div>"
      ],
      "text/plain": [
       "    keyword       site category        date                         title  \\\n",
       "0  LG 식기세척기  naverBlog      경쟁사  2020-02-25  LG DIOS 12인용 식기세척기 6개월간 사용후기   \n",
       "1  LG 식기세척기  naverBlog      경쟁사  2019-11-30      LG식기 세척기 솔직 후기 (세제남음 ㅠㅠ)   \n",
       "\n",
       "                                             content      username  \\\n",
       "0   LG DIOS 식기세척기 DFB22M 빌트인 12인용 모델을 사용한 지도 어연 6...  민기린 mingirin   \n",
       "1   그동안 가전은 LG라고 생각하며 살아왔던나.#식기세척기 역시 LG로​친구들도 다 ...      favoreun   \n",
       "\n",
       "                                                link  \n",
       "0  https://m.blog.naver.com/chongchong29?Redirect...  \n",
       "1  https://m.blog.naver.com/favoreun?Redirect=Log...  "
      ]
     },
     "execution_count": 8,
     "metadata": {},
     "output_type": "execute_result"
    }
   ],
   "source": [
    "import pandas as pd\n",
    "\n",
    "#데이터 로드\n",
    "lg = pd.read_excel(\"/home/lab543/jupyter/00. Project/sk매직/data/엘지식기세척기_v2.xlsx\")\n",
    "sam = pd.read_excel(\"/home/lab543/jupyter/00. Project/sk매직/data/삼성식기세척기_v2.xlsx\")\n",
    "tri = pd.read_excel(\"/home/lab543/jupyter/00. Project/sk매직/data/트리플케어식기세척기_v2.xlsx\")\n",
    "\n",
    "data = pd.concat([lg,sam,tri])\n",
    "\n",
    "#데이터 탐색\n",
    "print(\"관측치 수:\"+str(len(data)))\n",
    "data.head(2)"
   ]
  },
  {
   "cell_type": "markdown",
   "metadata": {},
   "source": [
    "**2.데이터 탐색**"
   ]
  },
  {
   "cell_type": "code",
   "execution_count": 9,
   "metadata": {},
   "outputs": [
    {
     "data": {
      "text/plain": [
       "LG 식기세척기       112\n",
       "삼성 식기세척기        83\n",
       "트리플케어 식기세척기     50\n",
       "Name: keyword, dtype: int64"
      ]
     },
     "execution_count": 9,
     "metadata": {},
     "output_type": "execute_result"
    }
   ],
   "source": [
    "#키워드\n",
    "data['keyword'].value_counts()"
   ]
  },
  {
   "cell_type": "code",
   "execution_count": 10,
   "metadata": {},
   "outputs": [
    {
     "data": {
      "text/plain": [
       "(0, 0)"
      ]
     },
     "execution_count": 10,
     "metadata": {},
     "output_type": "execute_result"
    }
   ],
   "source": [
    "#결측치\n",
    "pd.isnull(data['title']).sum(), pd.isnull(data['content']).sum()"
   ]
  },
  {
   "cell_type": "markdown",
   "metadata": {},
   "source": [
    "**3.분석 범주 선정**"
   ]
  },
  {
   "cell_type": "code",
   "execution_count": 73,
   "metadata": {},
   "outputs": [],
   "source": [
    "k = '트리플케어 식기세척기'\n",
    "keyword_data = data[data['keyword'] == k].reset_index().drop(['index'], axis =1)"
   ]
  },
  {
   "cell_type": "code",
   "execution_count": 74,
   "metadata": {},
   "outputs": [
    {
     "name": "stdout",
     "output_type": "stream",
     "text": [
      "<class 'pandas.core.frame.DataFrame'>\n",
      "RangeIndex: 50 entries, 0 to 49\n",
      "Data columns (total 8 columns):\n",
      "keyword     50 non-null object\n",
      "site        50 non-null object\n",
      "category    50 non-null object\n",
      "date        50 non-null object\n",
      "title       50 non-null object\n",
      "content     50 non-null object\n",
      "username    50 non-null object\n",
      "link        50 non-null object\n",
      "dtypes: object(8)\n",
      "memory usage: 3.2+ KB\n"
     ]
    }
   ],
   "source": [
    "keyword_data.info()"
   ]
  },
  {
   "cell_type": "markdown",
   "metadata": {},
   "source": [
    "**4.텍스트 전처리(이메일, ip주소, 특수기호, 숫자 제거)**"
   ]
  },
  {
   "cell_type": "code",
   "execution_count": 75,
   "metadata": {},
   "outputs": [],
   "source": [
    "text_data = keyword_data['title']+' '+keyword_data['content']"
   ]
  },
  {
   "cell_type": "code",
   "execution_count": 76,
   "metadata": {},
   "outputs": [],
   "source": [
    "import re\n",
    "\n",
    "url = \"(https?://)?(www.)?[a-zA-Z0-9./?=&-_]+[.]?[/][a-zA-Z0-9./?=&-_%]+\"\n",
    "email = \"[-_.+a-zA-Z0-9]+[@].+[.][[a-zA-Z0-9]+|[a-zA-Z0-9]+[.][a-zA-Z0-9]+]\"\n",
    "special = \"(u200b)|[^(가-힣ㄱ-ㅎㅏ-ㅣa-zA-Z0-9 )]\"\n",
    "\n",
    "for i in range(len(text_data)):\n",
    "    text_data[i] = re.sub(url,\"\", text_data[i])\n",
    "    text_data[i] = re.sub(email,\"\", text_data[i])\n",
    "    text_data[i] = re.sub(special,\"\", text_data[i])\n",
    "    text_data[i] = text_data[i].lower()"
   ]
  },
  {
   "cell_type": "markdown",
   "metadata": {},
   "source": [
    "**5.형태소 분석**"
   ]
  },
  {
   "cell_type": "markdown",
   "metadata": {},
   "source": [
    "**1)형태소 자르기**"
   ]
  },
  {
   "cell_type": "code",
   "execution_count": 77,
   "metadata": {},
   "outputs": [
    {
     "name": "stdout",
     "output_type": "stream",
     "text": [
      "time: 2.614542007446289\n"
     ]
    }
   ],
   "source": [
    "import time\n",
    "from khaiii import KhaiiiApi\n",
    "\n",
    "# 보완 필요 - 1차원적인 해결법\n",
    "text_data = text_data[(text_data != '  ')&(text_data != '   ')].reset_index().drop(['index'],axis=1)\n",
    "text_data = text_data[0]\n",
    "\n",
    "# noun ='[ㄱ-ㅎ가-힣a-zA-Z]{2,}(?=\\/NNG)|[ㄱ-ㅎ가-힣a-zA-Z]{2,}(?=\\/NNP)'\n",
    "# forign = '[ㄱ-ㅎ가-힣a-zA-Z]{2,}(?=\\/SL)'\n",
    "# adjective = '[ㄱ-ㅎ가-힣a-zA-Z]{2,}(?=\\/VA)'\n",
    "# verb = '[ㄱ-ㅎ가-힣a-zA-Z]{2,}(?=\\/VV)'\n",
    "\n",
    "\n",
    "noun ='[가-힣a-zA-Z]{2,}(?=\\/NNG)|[가-힣a-zA-Z]{2,}(?=\\/NNP)'\n",
    "adjective = '[가-힣a-zA-Z]{2,}(?=\\/VA)'\n",
    "verb = '[가-힣a-zA-Z]{2,}(?=\\/VV)'\n",
    "num = '[0-9]{2,}(?=\\/SN)'\n",
    "\n",
    "document = list()\n",
    "# n = re.compile(noun+'|'+forign+'|'+adjective+'|'+verb+'|'+num)\n",
    "n = re.compile(noun+'|'+adjective+'|'+verb)\n",
    "\n",
    "start = time.time()\n",
    "\n",
    "for i in range(len(text_data)):\n",
    "    word = list()\n",
    "    for text in KhaiiiApi().analyze(text_data[i]):\n",
    "        temp = str(text).split(\"\\t\")[1].split('+')\n",
    "        word.extend(n.findall(str(temp)))\n",
    "    document.append(word)\n",
    "    \n",
    "\n",
    "print(\"time:\",time.time() - start)"
   ]
  },
  {
   "cell_type": "markdown",
   "metadata": {},
   "source": [
    "**2)n-gram 사용**"
   ]
  },
  {
   "cell_type": "code",
   "execution_count": 78,
   "metadata": {},
   "outputs": [],
   "source": [
    "#빈도수 확인을 위해 리스트 자료 텍스트 자료로 변환\n",
    "word_list = list()\n",
    "\n",
    "for i in document:\n",
    "    w = ' '.join(i)\n",
    "    word_list.append(w) #"
   ]
  },
  {
   "cell_type": "code",
   "execution_count": 79,
   "metadata": {},
   "outputs": [],
   "source": [
    "# n-gram\n",
    "from sklearn.feature_extraction.text import CountVectorizer, TfidfVectorizer\n",
    "\n",
    "vectorizer = CountVectorizer(ngram_range = (1,3))\n",
    "X1 = vectorizer.fit_transform(word_list)\n",
    "words = (vectorizer.get_feature_names())"
   ]
  },
  {
   "cell_type": "code",
   "execution_count": 80,
   "metadata": {},
   "outputs": [],
   "source": [
    "# 사전 도입\n",
    "design_dict = ['깔끔','이쁘','디자인','예쁘','이뻐','색상','색깔','블랙','화이트','외관']\n",
    "\n",
    "price = list()\n",
    "design = list()\n",
    "\n",
    "for j in range(len(design_dict)):\n",
    "    for i in range(len(words)):\n",
    "        if design_dict[j] in words[i]:\n",
    "            design.append(words[i])"
   ]
  },
  {
   "cell_type": "code",
   "execution_count": 83,
   "metadata": {
    "scrolled": false
   },
   "outputs": [
    {
     "data": {
      "text/plain": [
       "['결깔끔',\n",
       " '결깔끔 사용',\n",
       " '결깔끔 사용 설거지',\n",
       " '공간 깔끔',\n",
       " '공간 깔끔 신혼집',\n",
       " '깔끔',\n",
       " '깔끔 마감',\n",
       " '깔끔 마감 처리',\n",
       " '깔끔 신혼집',\n",
       " '깔끔 신혼집 파트']"
      ]
     },
     "execution_count": 83,
     "metadata": {},
     "output_type": "execute_result"
    }
   ],
   "source": [
    "design[:10]"
   ]
  },
  {
   "cell_type": "code",
   "execution_count": 96,
   "metadata": {},
   "outputs": [],
   "source": [
    "d =''\n",
    "\n",
    "for i in range(len(design)):\n",
    "    d = d + ' ' + design[i]\n",
    "\n",
    "dd = d.split(' ')"
   ]
  },
  {
   "cell_type": "code",
   "execution_count": 97,
   "metadata": {},
   "outputs": [],
   "source": [
    "# 생성\n",
    "word_count = pd.DataFrame(dd, columns=['word']).groupby('word').size().reset_index(name='count').sort_values(['count'], ascending=False).reset_index(drop=True)"
   ]
  },
  {
   "cell_type": "code",
   "execution_count": 99,
   "metadata": {},
   "outputs": [
    {
     "data": {
      "text/html": [
       "<div>\n",
       "<style scoped>\n",
       "    .dataframe tbody tr th:only-of-type {\n",
       "        vertical-align: middle;\n",
       "    }\n",
       "\n",
       "    .dataframe tbody tr th {\n",
       "        vertical-align: top;\n",
       "    }\n",
       "\n",
       "    .dataframe thead th {\n",
       "        text-align: right;\n",
       "    }\n",
       "</style>\n",
       "<table border=\"1\" class=\"dataframe\">\n",
       "  <thead>\n",
       "    <tr style=\"text-align: right;\">\n",
       "      <th></th>\n",
       "      <th>word</th>\n",
       "      <th>count</th>\n",
       "    </tr>\n",
       "  </thead>\n",
       "  <tbody>\n",
       "    <tr>\n",
       "      <th>0</th>\n",
       "      <td>디자인</td>\n",
       "      <td>235</td>\n",
       "    </tr>\n",
       "    <tr>\n",
       "      <th>1</th>\n",
       "      <td>블랙</td>\n",
       "      <td>172</td>\n",
       "    </tr>\n",
       "    <tr>\n",
       "      <th>2</th>\n",
       "      <td>예쁘</td>\n",
       "      <td>144</td>\n",
       "    </tr>\n",
       "    <tr>\n",
       "      <th>3</th>\n",
       "      <td>화이트</td>\n",
       "      <td>88</td>\n",
       "    </tr>\n",
       "    <tr>\n",
       "      <th>4</th>\n",
       "      <td>색상</td>\n",
       "      <td>74</td>\n",
       "    </tr>\n",
       "    <tr>\n",
       "      <th>5</th>\n",
       "      <td>주방</td>\n",
       "      <td>43</td>\n",
       "    </tr>\n",
       "    <tr>\n",
       "      <th>6</th>\n",
       "      <td>이쁘</td>\n",
       "      <td>39</td>\n",
       "    </tr>\n",
       "    <tr>\n",
       "      <th>7</th>\n",
       "      <td>그레이스</td>\n",
       "      <td>35</td>\n",
       "    </tr>\n",
       "    <tr>\n",
       "      <th>8</th>\n",
       "      <td>선택</td>\n",
       "      <td>29</td>\n",
       "    </tr>\n",
       "    <tr>\n",
       "      <th>9</th>\n",
       "      <td>설치</td>\n",
       "      <td>28</td>\n",
       "    </tr>\n",
       "    <tr>\n",
       "      <th>10</th>\n",
       "      <td>모델</td>\n",
       "      <td>28</td>\n",
       "    </tr>\n",
       "    <tr>\n",
       "      <th>11</th>\n",
       "      <td>코튼</td>\n",
       "      <td>27</td>\n",
       "    </tr>\n",
       "    <tr>\n",
       "      <th>12</th>\n",
       "      <td>식기</td>\n",
       "      <td>22</td>\n",
       "    </tr>\n",
       "    <tr>\n",
       "      <th>13</th>\n",
       "      <td>코튼화이트</td>\n",
       "      <td>19</td>\n",
       "    </tr>\n",
       "    <tr>\n",
       "      <th>14</th>\n",
       "      <td>외관</td>\n",
       "      <td>19</td>\n",
       "    </tr>\n",
       "    <tr>\n",
       "      <th>15</th>\n",
       "      <td>세척기</td>\n",
       "      <td>18</td>\n",
       "    </tr>\n",
       "    <tr>\n",
       "      <th>16</th>\n",
       "      <td>이렇</td>\n",
       "      <td>17</td>\n",
       "    </tr>\n",
       "    <tr>\n",
       "      <th>17</th>\n",
       "      <td>매직</td>\n",
       "      <td>15</td>\n",
       "    </tr>\n",
       "    <tr>\n",
       "      <th>18</th>\n",
       "      <td>고급</td>\n",
       "      <td>15</td>\n",
       "    </tr>\n",
       "    <tr>\n",
       "      <th>19</th>\n",
       "      <td>가전</td>\n",
       "      <td>14</td>\n",
       "    </tr>\n",
       "    <tr>\n",
       "      <th>20</th>\n",
       "      <td>컬러</td>\n",
       "      <td>13</td>\n",
       "    </tr>\n",
       "    <tr>\n",
       "      <th>21</th>\n",
       "      <td>심플</td>\n",
       "      <td>13</td>\n",
       "    </tr>\n",
       "    <tr>\n",
       "      <th>22</th>\n",
       "      <td>클라우드</td>\n",
       "      <td>12</td>\n",
       "    </tr>\n",
       "    <tr>\n",
       "      <th>23</th>\n",
       "      <td>컴팩트</td>\n",
       "      <td>11</td>\n",
       "    </tr>\n",
       "    <tr>\n",
       "      <th>24</th>\n",
       "      <td>수상</td>\n",
       "      <td>11</td>\n",
       "    </tr>\n",
       "    <tr>\n",
       "      <th>25</th>\n",
       "      <td>깔끔</td>\n",
       "      <td>11</td>\n",
       "    </tr>\n",
       "    <tr>\n",
       "      <th>26</th>\n",
       "      <td>트리플케어</td>\n",
       "      <td>10</td>\n",
       "    </tr>\n",
       "    <tr>\n",
       "      <th>27</th>\n",
       "      <td>필요</td>\n",
       "      <td>10</td>\n",
       "    </tr>\n",
       "    <tr>\n",
       "      <th>28</th>\n",
       "      <td>생각</td>\n",
       "      <td>10</td>\n",
       "    </tr>\n",
       "    <tr>\n",
       "      <th>29</th>\n",
       "      <td>블랙심플</td>\n",
       "      <td>9</td>\n",
       "    </tr>\n",
       "  </tbody>\n",
       "</table>\n",
       "</div>"
      ],
      "text/plain": [
       "     word  count\n",
       "0     디자인    235\n",
       "1      블랙    172\n",
       "2      예쁘    144\n",
       "3     화이트     88\n",
       "4      색상     74\n",
       "5      주방     43\n",
       "6      이쁘     39\n",
       "7    그레이스     35\n",
       "8      선택     29\n",
       "9      설치     28\n",
       "10     모델     28\n",
       "11     코튼     27\n",
       "12     식기     22\n",
       "13  코튼화이트     19\n",
       "14     외관     19\n",
       "15    세척기     18\n",
       "16     이렇     17\n",
       "17     매직     15\n",
       "18     고급     15\n",
       "19     가전     14\n",
       "20     컬러     13\n",
       "21     심플     13\n",
       "22   클라우드     12\n",
       "23    컴팩트     11\n",
       "24     수상     11\n",
       "25     깔끔     11\n",
       "26  트리플케어     10\n",
       "27     필요     10\n",
       "28     생각     10\n",
       "29   블랙심플      9"
      ]
     },
     "execution_count": 99,
     "metadata": {},
     "output_type": "execute_result"
    }
   ],
   "source": [
    "word_count[:30]"
   ]
  },
  {
   "cell_type": "code",
   "execution_count": null,
   "metadata": {},
   "outputs": [],
   "source": []
  },
  {
   "cell_type": "code",
   "execution_count": 17,
   "metadata": {},
   "outputs": [],
   "source": [
    "# #단어 수정\n",
    "# word_count.loc[word_count['word'] == '식기_세척기','word'] = '식기세척기'\n",
    "# word_count.loc[word_count['word'] == 'dfb_22','word'] = 'dfb22'\n",
    "# word_count.loc[word_count['word'] == 'lg_디오스','word'] = 'lg_dios'\n",
    "# word_count.loc[word_count['word'] == '편하','word'] = '편한'\n",
    "# word_count.loc[word_count['word'] == '좋아하','word'] = '좋아한'\n",
    "# word_count.loc[word_count['word'] == 'dw','word'] = 'DW50R4055FS'\n",
    "# word_count.loc[word_count['word'] == '블랙','word'] = '그래이스 블랙'\n",
    "\n",
    "#불용어 제거\n",
    "add_line = list()\n",
    "\n",
    "#공용\n",
    "add_line.extend(['사용','설거지','세척','그릇','식기','식기세척기','제품','나오','이렇','돌리','생각','정도','가능','구매','부분',\\\n",
    "                 '필요','주방','들어가','보이','선택','고민','그렇','싱크대','비교','후기','처음','경우','사용_후기','식세기',\\\n",
    "                 '건조기','구입','생기','화질_선택','접시','느끼','느낌','확인','기사','세척기','모르','요즘','아래','사람','그러',\\\n",
    "                 '위하','열리','코스','정리','ㅋㅋ','모델','따르','만들','닦이','가전','걱정','가격','제거','끝나','저녁','수저',\\\n",
    "                 '올리','누르','이상','이용','헹구','사진','걸리','꺼내','청소','하루','모습','작동','문제','포스팅','쌓이','진짜',\\\n",
    "                 '공사','차이','설정','방법','모드','시작','지금','빌트','날개','대하','버튼','아침','다르','관리','동안','이사',\\\n",
    "                 '음식물','완료','선반','상단','원래','100_트루','이번','돌아가','설명','이제','다음','상태','기본','자동','씻기',\\\n",
    "                 '음식','추가','설거','자리','바꾸','어떻','설치','업체','12','00_00','10','1080','30','20','한국','인용','청소기',\\\n",
    "                 '업체','마음','재생','검색','진행','이유','엄마','60','인터넷','com','기존','알리','기다리','결정','일반','맞추',\\\n",
    "                 '준비','내돈','표준','오늘','완전','떨어지','중요','가지','방문','아파트','들어오','100','24','2019_12'])\n",
    "\n",
    "# 엘지\n",
    "# add_line.extend(['lg','lg_식기세척기','sk','엘지',lg_전자'])\n",
    "\n",
    "# 삼성\n",
    "# add_line.extend(['삼성_식기','삼성','50_4055','fs','알아보','삼성_식기세척기','세척기_프리'])\n",
    "\n",
    "# 트리플케어\n",
    "add_line.extend(['sk_매직','트리플케어_식기','ml','sk','트리플케','케어','하단','세척_건조','kg','와이드','컴팩트','화질',\\\n",
    "                 '트리플케어','매직_트리플케어','세트','옵션_1080','보관','세척_가능','출시','바구니','타공','다양',\\\n",
    "                 '플케_어식기세척기','듀얼','상황','도어','구멍','타입','그레이스','매직','박스','식사','버튼_누르','도와주',\\\n",
    "                 '맛있','덕분','하트박스','위치','여유','고르',])\n",
    "\n",
    "# for i in range(len(add_line)):\n",
    "#     word_count = word_count[word_count['word'] != add_line[i]].reset_index().drop(['index'],axis = 1)\n",
    "    \n",
    "# import numpy as np\n",
    "\n",
    "# new_count = word_count.groupby(['word']).sum().sort_values(['count'], ascending=False).astype(int)['count']\n",
    "# new_word = word_count.groupby(['word']).sum().sort_values(['count'], ascending=False).index\n",
    "# word_count = pd.DataFrame(list(zip(new_word,new_count)),columns=['word','count'])"
   ]
  },
  {
   "cell_type": "code",
   "execution_count": null,
   "metadata": {},
   "outputs": [],
   "source": []
  },
  {
   "cell_type": "code",
   "execution_count": null,
   "metadata": {},
   "outputs": [],
   "source": []
  },
  {
   "cell_type": "code",
   "execution_count": null,
   "metadata": {},
   "outputs": [],
   "source": []
  },
  {
   "cell_type": "code",
   "execution_count": null,
   "metadata": {},
   "outputs": [],
   "source": []
  },
  {
   "cell_type": "code",
   "execution_count": null,
   "metadata": {},
   "outputs": [],
   "source": []
  },
  {
   "cell_type": "code",
   "execution_count": null,
   "metadata": {},
   "outputs": [],
   "source": []
  },
  {
   "cell_type": "code",
   "execution_count": null,
   "metadata": {},
   "outputs": [],
   "source": []
  },
  {
   "cell_type": "code",
   "execution_count": null,
   "metadata": {},
   "outputs": [],
   "source": []
  },
  {
   "cell_type": "code",
   "execution_count": null,
   "metadata": {},
   "outputs": [],
   "source": []
  },
  {
   "cell_type": "code",
   "execution_count": null,
   "metadata": {},
   "outputs": [],
   "source": []
  },
  {
   "cell_type": "markdown",
   "metadata": {},
   "source": [
    "**6.빈도표 확인**"
   ]
  },
  {
   "cell_type": "markdown",
   "metadata": {},
   "source": [
    "**1)정제 전 빈도표**"
   ]
  },
  {
   "cell_type": "code",
   "execution_count": 114,
   "metadata": {},
   "outputs": [],
   "source": [
    "import itertools\n",
    "words = list(itertools.chain(*tri_result))\n",
    "\n",
    "# 생성\n",
    "word_count = pd.DataFrame(words, columns=['word']).groupby('word').size().reset_index(name='count').sort_values(['count'], ascending=False).reset_index(drop=True)"
   ]
  },
  {
   "cell_type": "markdown",
   "metadata": {},
   "source": [
    "**2)정제하기**"
   ]
  },
  {
   "cell_type": "code",
   "execution_count": 119,
   "metadata": {},
   "outputs": [],
   "source": [
    "#단어 수정\n",
    "word_count.loc[word_count['word'] == '식기_세척기','word'] = '식기세척기'\n",
    "word_count.loc[word_count['word'] == 'dfb_22','word'] = 'dfb22'\n",
    "word_count.loc[word_count['word'] == 'lg_디오스','word'] = 'lg_dios'\n",
    "word_count.loc[word_count['word'] == '편하','word'] = '편한'\n",
    "word_count.loc[word_count['word'] == '좋아하','word'] = '좋아한'\n",
    "word_count.loc[word_count['word'] == 'dw','word'] = 'DW50R4055FS'\n",
    "word_count.loc[word_count['word'] == '블랙','word'] = '그래이스 블랙'\n",
    "\n",
    "#불용어 제거\n",
    "add_line = list()\n",
    "\n",
    "#공용\n",
    "add_line.extend(['사용','설거지','세척','그릇','식기','식기세척기','제품','나오','이렇','돌리','생각','정도','가능','구매','부분',\\\n",
    "                 '필요','주방','들어가','보이','선택','고민','그렇','싱크대','비교','후기','처음','경우','사용_후기','식세기',\\\n",
    "                 '건조기','구입','생기','화질_선택','접시','느끼','느낌','확인','기사','세척기','모르','요즘','아래','사람','그러',\\\n",
    "                 '위하','열리','코스','정리','ㅋㅋ','모델','따르','만들','닦이','가전','걱정','가격','제거','끝나','저녁','수저',\\\n",
    "                 '올리','누르','이상','이용','헹구','사진','걸리','꺼내','청소','하루','모습','작동','문제','포스팅','쌓이','진짜',\\\n",
    "                 '공사','차이','설정','방법','모드','시작','지금','빌트','날개','대하','버튼','아침','다르','관리','동안','이사',\\\n",
    "                 '음식물','완료','선반','상단','원래','100_트루','이번','돌아가','설명','이제','다음','상태','기본','자동','씻기',\\\n",
    "                 '음식','추가','설거','자리','바꾸','어떻','설치','업체','12','00_00','10','1080','30','20','한국','인용','청소기',\\\n",
    "                 '업체','마음','재생','검색','진행','이유','엄마','60','인터넷','com','기존','알리','기다리','결정','일반','맞추',\\\n",
    "                 '준비','내돈','표준','오늘','완전','떨어지','중요','가지','방문','아파트','들어오','100','24','2019_12'])\n",
    "\n",
    "# 엘지\n",
    "# add_line.extend(['lg','lg_식기세척기','sk','엘지',lg_전자'])\n",
    "\n",
    "# 삼성\n",
    "# add_line.extend(['삼성_식기','삼성','50_4055','fs','알아보','삼성_식기세척기','세척기_프리'])\n",
    "\n",
    "# 트리플케어\n",
    "add_line.extend(['sk_매직','트리플케어_식기','ml','sk','트리플케','케어','하단','세척_건조','kg','와이드','컴팩트','화질',\\\n",
    "                 '트리플케어','매직_트리플케어','세트','옵션_1080','보관','세척_가능','출시','바구니','타공','다양',\\\n",
    "                 '플케_어식기세척기','듀얼','상황','도어','구멍','타입','그레이스','매직','박스','식사','버튼_누르','도와주',\\\n",
    "                 '맛있','덕분','하트박스','위치','여유','고르',])\n",
    "\n",
    "for i in range(len(add_line)):\n",
    "    word_count = word_count[word_count['word'] != add_line[i]].reset_index().drop(['index'],axis = 1)\n",
    "    \n",
    "import numpy as np\n",
    "\n",
    "new_count = word_count.groupby(['word']).sum().sort_values(['count'], ascending=False).astype(int)['count']\n",
    "new_word = word_count.groupby(['word']).sum().sort_values(['count'], ascending=False).index\n",
    "word_count = pd.DataFrame(list(zip(new_word,new_count)),columns=['word','count'])"
   ]
  },
  {
   "cell_type": "markdown",
   "metadata": {},
   "source": [
    "**3)정제 후 빈도표**"
   ]
  },
  {
   "cell_type": "code",
   "execution_count": 120,
   "metadata": {
    "scrolled": false
   },
   "outputs": [
    {
     "data": {
      "text/html": [
       "<div>\n",
       "<style scoped>\n",
       "    .dataframe tbody tr th:only-of-type {\n",
       "        vertical-align: middle;\n",
       "    }\n",
       "\n",
       "    .dataframe tbody tr th {\n",
       "        vertical-align: top;\n",
       "    }\n",
       "\n",
       "    .dataframe thead th {\n",
       "        text-align: right;\n",
       "    }\n",
       "</style>\n",
       "<table border=\"1\" class=\"dataframe\">\n",
       "  <thead>\n",
       "    <tr style=\"text-align: right;\">\n",
       "      <th></th>\n",
       "      <th>word</th>\n",
       "      <th>count</th>\n",
       "    </tr>\n",
       "  </thead>\n",
       "  <tbody>\n",
       "    <tr>\n",
       "      <th>0</th>\n",
       "      <td>건조</td>\n",
       "      <td>111</td>\n",
       "    </tr>\n",
       "    <tr>\n",
       "      <th>1</th>\n",
       "      <td>기능</td>\n",
       "      <td>81</td>\n",
       "    </tr>\n",
       "    <tr>\n",
       "      <th>2</th>\n",
       "      <td>시간</td>\n",
       "      <td>79</td>\n",
       "    </tr>\n",
       "    <tr>\n",
       "      <th>3</th>\n",
       "      <td>공간</td>\n",
       "      <td>61</td>\n",
       "    </tr>\n",
       "    <tr>\n",
       "      <th>4</th>\n",
       "      <td>디자인</td>\n",
       "      <td>55</td>\n",
       "    </tr>\n",
       "    <tr>\n",
       "      <th>5</th>\n",
       "      <td>내부</td>\n",
       "      <td>53</td>\n",
       "    </tr>\n",
       "    <tr>\n",
       "      <th>6</th>\n",
       "      <td>아이</td>\n",
       "      <td>52</td>\n",
       "    </tr>\n",
       "    <tr>\n",
       "      <th>7</th>\n",
       "      <td>세제</td>\n",
       "      <td>49</td>\n",
       "    </tr>\n",
       "    <tr>\n",
       "      <th>8</th>\n",
       "      <td>편한</td>\n",
       "      <td>47</td>\n",
       "    </tr>\n",
       "    <tr>\n",
       "      <th>9</th>\n",
       "      <td>젖병</td>\n",
       "      <td>43</td>\n",
       "    </tr>\n",
       "    <tr>\n",
       "      <th>10</th>\n",
       "      <td>필터</td>\n",
       "      <td>42</td>\n",
       "    </tr>\n",
       "    <tr>\n",
       "      <th>11</th>\n",
       "      <td>그래이스 블랙</td>\n",
       "      <td>42</td>\n",
       "    </tr>\n",
       "    <tr>\n",
       "      <th>12</th>\n",
       "      <td>사이즈</td>\n",
       "      <td>41</td>\n",
       "    </tr>\n",
       "    <tr>\n",
       "      <th>13</th>\n",
       "      <td>추천</td>\n",
       "      <td>38</td>\n",
       "    </tr>\n",
       "    <tr>\n",
       "      <th>14</th>\n",
       "      <td>냄비</td>\n",
       "      <td>37</td>\n",
       "    </tr>\n",
       "    <tr>\n",
       "      <th>15</th>\n",
       "      <td>바스켓</td>\n",
       "      <td>35</td>\n",
       "    </tr>\n",
       "    <tr>\n",
       "      <th>16</th>\n",
       "      <td>터치</td>\n",
       "      <td>33</td>\n",
       "    </tr>\n",
       "    <tr>\n",
       "      <th>17</th>\n",
       "      <td>사각지대</td>\n",
       "      <td>33</td>\n",
       "    </tr>\n",
       "    <tr>\n",
       "      <th>18</th>\n",
       "      <td>증정</td>\n",
       "      <td>31</td>\n",
       "    </tr>\n",
       "    <tr>\n",
       "      <th>19</th>\n",
       "      <td>무빙</td>\n",
       "      <td>31</td>\n",
       "    </tr>\n",
       "    <tr>\n",
       "      <th>20</th>\n",
       "      <td>수납</td>\n",
       "      <td>31</td>\n",
       "    </tr>\n",
       "    <tr>\n",
       "      <th>21</th>\n",
       "      <td>방식</td>\n",
       "      <td>29</td>\n",
       "    </tr>\n",
       "    <tr>\n",
       "      <th>22</th>\n",
       "      <td>예쁘</td>\n",
       "      <td>29</td>\n",
       "    </tr>\n",
       "    <tr>\n",
       "      <th>23</th>\n",
       "      <td>세척_날개</td>\n",
       "      <td>28</td>\n",
       "    </tr>\n",
       "    <tr>\n",
       "      <th>24</th>\n",
       "      <td>가족</td>\n",
       "      <td>28</td>\n",
       "    </tr>\n",
       "    <tr>\n",
       "      <th>25</th>\n",
       "      <td>완벽</td>\n",
       "      <td>28</td>\n",
       "    </tr>\n",
       "    <tr>\n",
       "      <th>26</th>\n",
       "      <td>아기</td>\n",
       "      <td>28</td>\n",
       "    </tr>\n",
       "    <tr>\n",
       "      <th>27</th>\n",
       "      <td>uv</td>\n",
       "      <td>28</td>\n",
       "    </tr>\n",
       "    <tr>\n",
       "      <th>28</th>\n",
       "      <td>편리</td>\n",
       "      <td>27</td>\n",
       "    </tr>\n",
       "    <tr>\n",
       "      <th>29</th>\n",
       "      <td>살균</td>\n",
       "      <td>27</td>\n",
       "    </tr>\n",
       "    <tr>\n",
       "      <th>30</th>\n",
       "      <td>상단_바스켓</td>\n",
       "      <td>27</td>\n",
       "    </tr>\n",
       "    <tr>\n",
       "      <th>31</th>\n",
       "      <td>소음</td>\n",
       "      <td>26</td>\n",
       "    </tr>\n",
       "    <tr>\n",
       "      <th>32</th>\n",
       "      <td>힘들</td>\n",
       "      <td>25</td>\n",
       "    </tr>\n",
       "    <tr>\n",
       "      <th>33</th>\n",
       "      <td>분리</td>\n",
       "      <td>25</td>\n",
       "    </tr>\n",
       "    <tr>\n",
       "      <th>34</th>\n",
       "      <td>요리</td>\n",
       "      <td>24</td>\n",
       "    </tr>\n",
       "    <tr>\n",
       "      <th>35</th>\n",
       "      <td>uv_청정</td>\n",
       "      <td>24</td>\n",
       "    </tr>\n",
       "    <tr>\n",
       "      <th>36</th>\n",
       "      <td>가정</td>\n",
       "      <td>23</td>\n",
       "    </tr>\n",
       "    <tr>\n",
       "      <th>37</th>\n",
       "      <td>만족</td>\n",
       "      <td>23</td>\n",
       "    </tr>\n",
       "    <tr>\n",
       "      <th>38</th>\n",
       "      <td>안전</td>\n",
       "      <td>23</td>\n",
       "    </tr>\n",
       "    <tr>\n",
       "      <th>39</th>\n",
       "      <td>남편</td>\n",
       "      <td>23</td>\n",
       "    </tr>\n",
       "    <tr>\n",
       "      <th>40</th>\n",
       "      <td>부부</td>\n",
       "      <td>22</td>\n",
       "    </tr>\n",
       "    <tr>\n",
       "      <th>41</th>\n",
       "      <td>열풍</td>\n",
       "      <td>22</td>\n",
       "    </tr>\n",
       "    <tr>\n",
       "      <th>42</th>\n",
       "      <td>빠르</td>\n",
       "      <td>21</td>\n",
       "    </tr>\n",
       "    <tr>\n",
       "      <th>43</th>\n",
       "      <td>부담</td>\n",
       "      <td>21</td>\n",
       "    </tr>\n",
       "    <tr>\n",
       "      <th>44</th>\n",
       "      <td>어렵</td>\n",
       "      <td>21</td>\n",
       "    </tr>\n",
       "    <tr>\n",
       "      <th>45</th>\n",
       "      <td>위생</td>\n",
       "      <td>20</td>\n",
       "    </tr>\n",
       "    <tr>\n",
       "      <th>46</th>\n",
       "      <td>효율</td>\n",
       "      <td>20</td>\n",
       "    </tr>\n",
       "    <tr>\n",
       "      <th>47</th>\n",
       "      <td>강력</td>\n",
       "      <td>19</td>\n",
       "    </tr>\n",
       "    <tr>\n",
       "      <th>48</th>\n",
       "      <td>기대</td>\n",
       "      <td>19</td>\n",
       "    </tr>\n",
       "    <tr>\n",
       "      <th>49</th>\n",
       "      <td>식기_관리</td>\n",
       "      <td>18</td>\n",
       "    </tr>\n",
       "  </tbody>\n",
       "</table>\n",
       "</div>"
      ],
      "text/plain": [
       "       word  count\n",
       "0        건조    111\n",
       "1        기능     81\n",
       "2        시간     79\n",
       "3        공간     61\n",
       "4       디자인     55\n",
       "5        내부     53\n",
       "6        아이     52\n",
       "7        세제     49\n",
       "8        편한     47\n",
       "9        젖병     43\n",
       "10       필터     42\n",
       "11  그래이스 블랙     42\n",
       "12      사이즈     41\n",
       "13       추천     38\n",
       "14       냄비     37\n",
       "15      바스켓     35\n",
       "16       터치     33\n",
       "17     사각지대     33\n",
       "18       증정     31\n",
       "19       무빙     31\n",
       "20       수납     31\n",
       "21       방식     29\n",
       "22       예쁘     29\n",
       "23    세척_날개     28\n",
       "24       가족     28\n",
       "25       완벽     28\n",
       "26       아기     28\n",
       "27       uv     28\n",
       "28       편리     27\n",
       "29       살균     27\n",
       "30   상단_바스켓     27\n",
       "31       소음     26\n",
       "32       힘들     25\n",
       "33       분리     25\n",
       "34       요리     24\n",
       "35    uv_청정     24\n",
       "36       가정     23\n",
       "37       만족     23\n",
       "38       안전     23\n",
       "39       남편     23\n",
       "40       부부     22\n",
       "41       열풍     22\n",
       "42       빠르     21\n",
       "43       부담     21\n",
       "44       어렵     21\n",
       "45       위생     20\n",
       "46       효율     20\n",
       "47       강력     19\n",
       "48       기대     19\n",
       "49    식기_관리     18"
      ]
     },
     "execution_count": 120,
     "metadata": {},
     "output_type": "execute_result"
    }
   ],
   "source": [
    "word_count[:50]"
   ]
  },
  {
   "cell_type": "code",
   "execution_count": 15,
   "metadata": {},
   "outputs": [
    {
     "data": {
      "text/html": [
       "<div>\n",
       "<style scoped>\n",
       "    .dataframe tbody tr th:only-of-type {\n",
       "        vertical-align: middle;\n",
       "    }\n",
       "\n",
       "    .dataframe tbody tr th {\n",
       "        vertical-align: top;\n",
       "    }\n",
       "\n",
       "    .dataframe thead th {\n",
       "        text-align: right;\n",
       "    }\n",
       "</style>\n",
       "<table border=\"1\" class=\"dataframe\">\n",
       "  <thead>\n",
       "    <tr style=\"text-align: right;\">\n",
       "      <th></th>\n",
       "      <th>keyword</th>\n",
       "      <th>site</th>\n",
       "      <th>category</th>\n",
       "      <th>date</th>\n",
       "      <th>title</th>\n",
       "      <th>content</th>\n",
       "      <th>username</th>\n",
       "      <th>link</th>\n",
       "    </tr>\n",
       "  </thead>\n",
       "  <tbody>\n",
       "    <tr>\n",
       "      <th>105</th>\n",
       "      <td>LG 식기세척기</td>\n",
       "      <td>naverBlog</td>\n",
       "      <td>경쟁사</td>\n",
       "      <td>2020-02-05</td>\n",
       "      <td>LG식기세척기 빌트인 (feat. 주방키큰장 공사)내돈주고 산 후기</td>\n",
       "      <td>?안녕하세요. 문언냐에요^^?결혼 10주년을 맞이하여?남편에게 LG식기세척기를 선물 받았어요.?여행을 갈까 가방 선물을 받을까?행복한 고민을 했었으나...?살면서 도움이 되는 걸로?결국 lg식기세척기를 선택했어요.ㅋㅋ이왕 사는거 제일 신상으로..?제가 선택한 모델은?DFB22M-1 로 검은색을 구매했어요.?lg식기세척기 4가지 특징을 가지고 있는데요...</td>\n",
       "      <td>문언냐</td>\n",
       "      <td>https://m.blog.naver.com/kimshmoon?Redirect=Log&amp;logNo=221797392974</td>\n",
       "    </tr>\n",
       "  </tbody>\n",
       "</table>\n",
       "</div>"
      ],
      "text/plain": [
       "      keyword       site category        date  \\\n",
       "105  LG 식기세척기  naverBlog      경쟁사  2020-02-05   \n",
       "\n",
       "                                     title  \\\n",
       "105  LG식기세척기 빌트인 (feat. 주방키큰장 공사)내돈주고 산 후기   \n",
       "\n",
       "                                                                                                                                                                                                     content  \\\n",
       "105  ?안녕하세요. 문언냐에요^^?결혼 10주년을 맞이하여?남편에게 LG식기세척기를 선물 받았어요.?여행을 갈까 가방 선물을 받을까?행복한 고민을 했었으나...?살면서 도움이 되는 걸로?결국 lg식기세척기를 선택했어요.ㅋㅋ이왕 사는거 제일 신상으로..?제가 선택한 모델은?DFB22M-1 로 검은색을 구매했어요.?lg식기세척기 4가지 특징을 가지고 있는데요...   \n",
       "\n",
       "    username  \\\n",
       "105      문언냐   \n",
       "\n",
       "                                                                   link  \n",
       "105  https://m.blog.naver.com/kimshmoon?Redirect=Log&logNo=221797392974  "
      ]
     },
     "execution_count": 15,
     "metadata": {},
     "output_type": "execute_result"
    }
   ],
   "source": [
    "#검색\n",
    "pd.set_option('display.max_colwidth',200)\n",
    "w = '국화'\n",
    "keyword_data[keyword_data['content'].str.contains(w)].head(3)"
   ]
  },
  {
   "cell_type": "markdown",
   "metadata": {},
   "source": [
    "**7.워드클라우드 설정 및 그리기**"
   ]
  },
  {
   "cell_type": "code",
   "execution_count": 121,
   "metadata": {},
   "outputs": [],
   "source": [
    "import numpy as np\n",
    "from PIL import Image\n",
    "import requests\n",
    "\n",
    "# 폰트 타입\n",
    "font_path = '/home/lab543/jupyter/fonts/NotoSansCJKkr-Bold.otf'\n",
    "\n",
    "# 워드 모양\n",
    "url = 'https://upload.wikimedia.org/wikipedia/commons/thumb/0/00/Disk_pack1.svg/1200px-Disk_pack1.svg.png'\n",
    "\n",
    "mask = np.array(Image.open(requests.get(url, stream=True).raw))"
   ]
  },
  {
   "cell_type": "code",
   "execution_count": 122,
   "metadata": {},
   "outputs": [],
   "source": [
    "word_dict = dict()\n",
    "for i in range(30):\n",
    "    word_dict[word_count['word'][i]] = word_count['count'][i]"
   ]
  },
  {
   "cell_type": "markdown",
   "metadata": {},
   "source": [
    "**1)엘지 식기세척기**"
   ]
  },
  {
   "cell_type": "code",
   "execution_count": 70,
   "metadata": {},
   "outputs": [
    {
     "data": {
      "text/plain": [
       "<matplotlib.image.AxesImage at 0x7f40906adeb8>"
      ]
     },
     "execution_count": 70,
     "metadata": {},
     "output_type": "execute_result"
    },
    {
     "data": {
      "image/png": "[encoded data removed]",
      "text/plain": [
       "<Figure size 720x576 with 1 Axes>"
      ]
     },
     "metadata": {
      "needs_background": "light"
     },
     "output_type": "display_data"
    }
   ],
   "source": [
    "# from wordcloud import WordCloud\n",
    "# import matplotlib.pyplot as plt\n",
    "\n",
    "# %matplotlib inline\n",
    "# wc = WordCloud(font_path = font_path,\n",
    "#                min_font_size = .5,\n",
    "#                colormap = 'Dark2',\n",
    "#                background_color='white', \n",
    "#                width=800,\n",
    "#                height=800,\n",
    "#                mask = mask)\n",
    "\n",
    "# cloud = wc.generate_from_frequencies(word_dict)\n",
    "# plt.figure(figsize=(10,8))\n",
    "# plt.axis('off')\n",
    "# plt.imshow(cloud)"
   ]
  },
  {
   "cell_type": "markdown",
   "metadata": {},
   "source": [
    "**2)삼성 식기세척기**"
   ]
  },
  {
   "cell_type": "code",
   "execution_count": 106,
   "metadata": {},
   "outputs": [
    {
     "data": {
      "text/plain": [
       "<matplotlib.image.AxesImage at 0x7f40926504a8>"
      ]
     },
     "execution_count": 106,
     "metadata": {},
     "output_type": "execute_result"
    },
    {
     "data": {
      "image/png": "[encoded data removed]",
      "text/plain": [
       "<Figure size 720x576 with 1 Axes>"
      ]
     },
     "metadata": {
      "needs_background": "light"
     },
     "output_type": "display_data"
    }
   ],
   "source": [
    "# from wordcloud import WordCloud\n",
    "# import matplotlib.pyplot as plt\n",
    "\n",
    "# %matplotlib inline\n",
    "# wc = WordCloud(font_path = font_path,\n",
    "#                min_font_size = .5,\n",
    "#                colormap = 'Dark2',\n",
    "#                background_color='white', \n",
    "#                width=800,\n",
    "#                height=800,\n",
    "#                mask = mask)\n",
    "\n",
    "# cloud = wc.generate_from_frequencies(word_dict)\n",
    "# plt.figure(figsize=(10,8))\n",
    "# plt.axis('off')\n",
    "# plt.imshow(cloud)"
   ]
  },
  {
   "cell_type": "markdown",
   "metadata": {},
   "source": [
    "**3)트리플케어**"
   ]
  },
  {
   "cell_type": "code",
   "execution_count": 123,
   "metadata": {},
   "outputs": [
    {
     "data": {
      "text/plain": [
       "<matplotlib.image.AxesImage at 0x7f40a05c6518>"
      ]
     },
     "execution_count": 123,
     "metadata": {},
     "output_type": "execute_result"
    },
    {
     "data": {
      "image/png": "[encoded data removed]",
      "text/plain": [
       "<Figure size 720x576 with 1 Axes>"
      ]
     },
     "metadata": {
      "needs_background": "light"
     },
     "output_type": "display_data"
    }
   ],
   "source": [
    "from wordcloud import WordCloud\n",
    "import matplotlib.pyplot as plt\n",
    "\n",
    "%matplotlib inline\n",
    "wc = WordCloud(font_path = font_path,\n",
    "               min_font_size = .5,\n",
    "               colormap = 'Dark2',\n",
    "               background_color='white', \n",
    "               width=800,\n",
    "               height=800,\n",
    "               mask = mask)\n",
    "\n",
    "cloud = wc.generate_from_frequencies(word_dict)\n",
    "plt.figure(figsize=(10,8))\n",
    "plt.axis('off')\n",
    "plt.imshow(cloud)"
   ]
  },
  {
   "cell_type": "code",
   "execution_count": null,
   "metadata": {},
   "outputs": [],
   "source": []
  },
  {
   "cell_type": "code",
   "execution_count": null,
   "metadata": {},
   "outputs": [],
   "source": []
  },
  {
   "cell_type": "code",
   "execution_count": null,
   "metadata": {},
   "outputs": [],
   "source": []
  },
  {
   "cell_type": "code",
   "execution_count": null,
   "metadata": {},
   "outputs": [],
   "source": []
  },
  {
   "cell_type": "code",
   "execution_count": null,
   "metadata": {},
   "outputs": [],
   "source": []
  },
  {
   "cell_type": "code",
   "execution_count": null,
   "metadata": {},
   "outputs": [],
   "source": []
  },
  {
   "cell_type": "code",
   "execution_count": null,
   "metadata": {},
   "outputs": [],
   "source": []
  }
 ],
 "metadata": {
  "kernelspec": {
   "display_name": "Python 3",
   "language": "python",
   "name": "python3"
  },
  "language_info": {
   "codemirror_mode": {
    "name": "ipython",
    "version": 3
   },
   "file_extension": ".py",
   "mimetype": "text/x-python",
   "name": "python",
   "nbconvert_exporter": "python",
   "pygments_lexer": "ipython3",
   "version": "3.6.9"
  }
 },
 "nbformat": 4,
 "nbformat_minor": 2
}
