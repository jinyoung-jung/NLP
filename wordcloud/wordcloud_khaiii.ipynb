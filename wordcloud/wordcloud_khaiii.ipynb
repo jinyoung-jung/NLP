{
 "cells": [
  {
   "cell_type": "markdown",
   "metadata": {},
   "source": [
    "# 워드클라우드"
   ]
  },
  {
   "cell_type": "markdown",
   "metadata": {},
   "source": [
    "* 프로세스\n",
    "    1. 데이터로드 \n",
    "    - 데이터 탐색\n",
    "    - 분석 범주 선정\n",
    "    - 텍스트 전처리(이메일, ip주소, 특수기호 제거)\n",
    "    - 형태소 분석\n",
    "    - 빈도표 확인\n",
    "    - 워드클라우드 설정 및 그리기"
   ]
  },
  {
   "cell_type": "markdown",
   "metadata": {},
   "source": [
    "**1.데이터로드**"
   ]
  },
  {
   "cell_type": "code",
   "execution_count": 1,
   "metadata": {},
   "outputs": [
    {
     "name": "stdout",
     "output_type": "stream",
     "text": [
      "관측치 수:10744\n"
     ]
    },
    {
     "data": {
      "text/html": [
       "<div>\n",
       "<style scoped>\n",
       "    .dataframe tbody tr th:only-of-type {\n",
       "        vertical-align: middle;\n",
       "    }\n",
       "\n",
       "    .dataframe tbody tr th {\n",
       "        vertical-align: top;\n",
       "    }\n",
       "\n",
       "    .dataframe thead th {\n",
       "        text-align: right;\n",
       "    }\n",
       "</style>\n",
       "<table border=\"1\" class=\"dataframe\">\n",
       "  <thead>\n",
       "    <tr style=\"text-align: right;\">\n",
       "      <th></th>\n",
       "      <th>keyword</th>\n",
       "      <th>category</th>\n",
       "      <th>date</th>\n",
       "      <th>title</th>\n",
       "      <th>username</th>\n",
       "      <th>content</th>\n",
       "      <th>click</th>\n",
       "      <th>link</th>\n",
       "      <th>channel</th>\n",
       "      <th>site</th>\n",
       "    </tr>\n",
       "  </thead>\n",
       "  <tbody>\n",
       "    <tr>\n",
       "      <th>0</th>\n",
       "      <td>유노윤호</td>\n",
       "      <td>default</td>\n",
       "      <td>2019-12-26</td>\n",
       "      <td>NaN</td>\n",
       "      <td>Kumii0309</td>\n",
       "      <td>Yunho as the leader for 16 years you've always being there for everyone and guided @TVXQ to the ...</td>\n",
       "      <td>12</td>\n",
       "      <td>https://twitter.com/Kumii0309/status/1210036818327961600</td>\n",
       "      <td>undefined</td>\n",
       "      <td>twitter</td>\n",
       "    </tr>\n",
       "    <tr>\n",
       "      <th>1</th>\n",
       "      <td>오정세</td>\n",
       "      <td>default</td>\n",
       "      <td>2019-11-15</td>\n",
       "      <td>명품 조연들</td>\n",
       "      <td>ㅇㅇ</td>\n",
       "      <td>드라마  꿀잼 개존잼인데주연 배우들은 물론 조연 배우들도 연기 존잘임 ㅜ게다가 극중 캐릭터들의 깨알 디테일도 잘 살리고연기 구멍이 음슴존재감 뽐내는  명품 조연들을 ARA...</td>\n",
       "      <td>11752</td>\n",
       "      <td>https://pann.nate.com//talk/348291224</td>\n",
       "      <td>default</td>\n",
       "      <td>natePann</td>\n",
       "    </tr>\n",
       "  </tbody>\n",
       "</table>\n",
       "</div>"
      ],
      "text/plain": [
       "  keyword category        date    title   username  \\\n",
       "0    유노윤호  default  2019-12-26      NaN  Kumii0309   \n",
       "1     오정세  default  2019-11-15   명품 조연들         ㅇㅇ   \n",
       "\n",
       "                                                                                               content  \\\n",
       "0  Yunho as the leader for 16 years you've always being there for everyone and guided @TVXQ to the ...   \n",
       "1   드라마  꿀잼 개존잼인데주연 배우들은 물론 조연 배우들도 연기 존잘임 ㅜ게다가 극중 캐릭터들의 깨알 디테일도 잘 살리고연기 구멍이 음슴존재감 뽐내는  명품 조연들을 ARA...   \n",
       "\n",
       "   click                                                      link    channel  \\\n",
       "0     12  https://twitter.com/Kumii0309/status/1210036818327961600  undefined   \n",
       "1  11752                     https://pann.nate.com//talk/348291224    default   \n",
       "\n",
       "       site  \n",
       "0   twitter  \n",
       "1  natePann  "
      ]
     },
     "execution_count": 1,
     "metadata": {},
     "output_type": "execute_result"
    }
   ],
   "source": [
    "import pandas as pd\n",
    "\n",
    "#글자 더 많이 보이는 옵션\n",
    "pd.set_option('display.max_colwidth',100)\n",
    "\n",
    "#데이터 로드\n",
    "data1 = pd.read_csv(\"/home/lab543/jupyter/jinyoung/data/jungmol.csv\")\n",
    "data2 = pd.read_csv(\"/home/lab543/jupyter/jinyoung/data/ufc.csv\")\n",
    "\n",
    "data = pd.concat([data1,data2])\n",
    "\n",
    "#데이터 탐색\n",
    "print(\"관측치 수:\"+str(len(data)))\n",
    "data.head(2)"
   ]
  },
  {
   "cell_type": "code",
   "execution_count": 2,
   "metadata": {},
   "outputs": [],
   "source": [
    "#필요 컬럼 선정\n",
    "data = data[['keyword','date','site','title','content','link']]"
   ]
  },
  {
   "cell_type": "markdown",
   "metadata": {},
   "source": [
    "**2.데이터 탐색**"
   ]
  },
  {
   "cell_type": "code",
   "execution_count": 3,
   "metadata": {},
   "outputs": [
    {
     "data": {
      "text/plain": [
       "오정세        3155\n",
       "유노윤호       3118\n",
       "김동현 ufc     813\n",
       "Name: keyword, dtype: int64"
      ]
     },
     "execution_count": 3,
     "metadata": {},
     "output_type": "execute_result"
    }
   ],
   "source": [
    "#키워드\n",
    "data = data[data['keyword']!='김동현']\n",
    "data['keyword'].value_counts()"
   ]
  },
  {
   "cell_type": "code",
   "execution_count": 4,
   "metadata": {},
   "outputs": [
    {
     "data": {
      "text/plain": [
       "'2019-10-01'"
      ]
     },
     "execution_count": 4,
     "metadata": {},
     "output_type": "execute_result"
    }
   ],
   "source": [
    "#날짜\n",
    "min(sorted(data['date']))"
   ]
  },
  {
   "cell_type": "code",
   "execution_count": 5,
   "metadata": {},
   "outputs": [
    {
     "data": {
      "text/plain": [
       "'2019-12-31'"
      ]
     },
     "execution_count": 5,
     "metadata": {},
     "output_type": "execute_result"
    }
   ],
   "source": [
    "max(sorted(data['date']))"
   ]
  },
  {
   "cell_type": "code",
   "execution_count": 6,
   "metadata": {},
   "outputs": [
    {
     "data": {
      "text/plain": [
       "dcinside     3915\n",
       "naverNews    2792\n",
       "twitter       301\n",
       "natePann       77\n",
       "Name: site, dtype: int64"
      ]
     },
     "execution_count": 6,
     "metadata": {},
     "output_type": "execute_result"
    }
   ],
   "source": [
    "#사이트\n",
    "data['site'].value_counts()"
   ]
  },
  {
   "cell_type": "code",
   "execution_count": 7,
   "metadata": {},
   "outputs": [
    {
     "data": {
      "text/plain": [
       "(301, 0)"
      ]
     },
     "execution_count": 7,
     "metadata": {},
     "output_type": "execute_result"
    }
   ],
   "source": [
    "#결측치\n",
    "pd.isnull(data['title']).sum(), pd.isnull(data['content']).sum()"
   ]
  },
  {
   "cell_type": "code",
   "execution_count": 8,
   "metadata": {},
   "outputs": [],
   "source": [
    "#결측치 처리\n",
    "data['title'] = data['title'].fillna('')"
   ]
  },
  {
   "cell_type": "code",
   "execution_count": 9,
   "metadata": {},
   "outputs": [
    {
     "data": {
      "text/plain": [
       "(0, 0)"
      ]
     },
     "execution_count": 9,
     "metadata": {},
     "output_type": "execute_result"
    }
   ],
   "source": [
    "#재확인\n",
    "pd.isnull(data['title']).sum(), pd.isnull(data['content']).sum()"
   ]
  },
  {
   "cell_type": "markdown",
   "metadata": {},
   "source": [
    "**3.분석 범주 선정**"
   ]
  },
  {
   "cell_type": "code",
   "execution_count": 10,
   "metadata": {},
   "outputs": [],
   "source": [
    "k = '김동현 ufc'\n",
    "keyword_data = data[data['keyword'] == k].reset_index().drop(['index'], axis =1)"
   ]
  },
  {
   "cell_type": "markdown",
   "metadata": {},
   "source": [
    "**4.텍스트 전처리(이메일, ip주소, 특수기호, 숫자 제거)**"
   ]
  },
  {
   "cell_type": "code",
   "execution_count": 11,
   "metadata": {},
   "outputs": [],
   "source": [
    "text_data = keyword_data['title']+' '+keyword_data['content']"
   ]
  },
  {
   "cell_type": "code",
   "execution_count": 12,
   "metadata": {},
   "outputs": [],
   "source": [
    "import re\n",
    "\n",
    "url = \"(https?://)?(www.)?[a-zA-Z0-9./?=&-_]+[.]?[/][a-zA-Z0-9./?=&-_%]+\"\n",
    "email = \"[-_.+a-zA-Z0-9]+[@].+[.][[a-zA-Z0-9]+|[a-zA-Z0-9]+[.][a-zA-Z0-9]+]\"\n",
    "\n",
    "for i in range(len(text_data)):\n",
    "    text_data[i] = re.sub(url,\"\", text_data[i])\n",
    "    text_data[i] = re.sub(email,\"\", text_data[i])\n",
    "    text_data[i] = re.sub(\"[^가-힣a-zA-Z ]\",\"\", text_data[i])\n",
    "    text_data[i] = text_data[i].lower()"
   ]
  },
  {
   "cell_type": "markdown",
   "metadata": {},
   "source": [
    "**5.형태소 분석**"
   ]
  },
  {
   "cell_type": "code",
   "execution_count": 13,
   "metadata": {},
   "outputs": [
    {
     "name": "stdout",
     "output_type": "stream",
     "text": [
      "time: 4.663925647735596\n"
     ]
    }
   ],
   "source": [
    "import time\n",
    "from khaiii import KhaiiiApi\n",
    "\n",
    "# 보완 필요 - 1차원적인 해결법\n",
    "text_data = text_data[(text_data != '  ')&(text_data != '   ')].reset_index().drop(['index'],axis=1)\n",
    "text_data = text_data[0]\n",
    "\n",
    "noun ='[ㄱ-ㅎ가-힣a-zA-Z]{2,}(?=\\/NNG)|[ㄱ-ㅎ가-힣a-zA-Z]{2,}(?=\\/NNP)'\n",
    "forign = '[ㄱ-ㅎ가-힣a-zA-Z]{2,}(?=\\/SL)'\n",
    "adjective = '[ㄱ-ㅎ가-힣a-zA-Z]{2,}(?=\\/VA)'\n",
    "verb = '[ㄱ-ㅎ가-힣a-zA-Z]{2,}(?=\\/VV)'\n",
    "\n",
    "word = list()\n",
    "n = re.compile(noun+'|'+forign+'|'+adjective+'|'+verb)\n",
    "\n",
    "start = time.time()\n",
    "\n",
    "for i in range(len(text_data)):\n",
    "    for text in KhaiiiApi().analyze(text_data[i]):\n",
    "        temp = str(text).split(\"\\t\")[1].split('+')\n",
    "        word.extend(n.findall(str(temp)))\n",
    "\n",
    "print(\"time:\",time.time() - start)"
   ]
  },
  {
   "cell_type": "markdown",
   "metadata": {},
   "source": [
    "**6.빈도표 확인**"
   ]
  },
  {
   "cell_type": "code",
   "execution_count": 78,
   "metadata": {},
   "outputs": [],
   "source": [
    "# 생성\n",
    "word_count = pd.DataFrame(word, columns=['word']).groupby('word').size().reset_index(name='count').sort_values(['count'], ascending=False).reset_index(drop=True)"
   ]
  },
  {
   "cell_type": "code",
   "execution_count": 79,
   "metadata": {},
   "outputs": [],
   "source": [
    "#단어 수정\n",
    "word_count.loc[word_count['word'] == '이기','word'] = '이긴'\n",
    "word_count.loc[word_count['word'] == '모르','word'] = '모른'\n",
    "word_count.loc[word_count['word'] == '배우','word'] = '배운'\n",
    "word_count.loc[word_count['word'] == '다르','word'] = '다른'\n",
    "word_count.loc[word_count['word'] == '버티','word'] = '버틴'\n",
    "word_count.loc[word_count['word'] == '좋아하','word'] = '좋아한'\n",
    "word_count.loc[word_count['word'] == '가르치','word'] = '가르친'\n",
    "\n",
    "#불용어 제거\n",
    "add_line = list()\n",
    "add_line.extend(['dc','official','app','한국','사람','생각','정도','그렇','상대','진짜','나오','싸우','mma','국내','체급','코빙턴',\\\n",
    "                 '새끼','가능','시절','그러','비달','보이','수준','스파링','부산','kg','본인','랭킹','마스','훈련','vs','정찬',\\\n",
    "                 '정찬성','선수','팀매드','웰터','약물','최두호','정다운','중량','레슬링','이상','어떻','디아즈','코좀','매미',\\\n",
    "                 '만들','이유','걸리','강경호','미국','김동현이','위권','지금','라운드','가지','세계','이렇','병신',\\\n",
    "                '한국인','느끼','원래','세로니','자체','당시','논리','평체','프로','비교','마이아','이후','만나','이번','사실',\\\n",
    "                 'fc','추성','결국','코치','네이트','해외','일본','평가','주짓수','로드','랭커','마동현','ko','출신','실전',\\\n",
    "                 '영상','양동','경우','현역','대하','커리','느낌','다니','나라','그리','거임','김동현v','위하','성훈','개인',\\\n",
    "                 '아시아','강호동','좆밥','존나','기준','떡밥','그때','체중','대부분','tv','찬성','서울','알리','체육관','취급',\\\n",
    "                 '애초','끝나','양감독','올리','동현','미들급','얘기','정리','나가','당하','심하','사피딘','자신','이미지','예상',\\\n",
    "                 '일반','시간','털리','헤비','요즘','순위','시합','시작','오늘','채널','우스','우리나라','판정','타이틀','진출',\\\n",
    "                 '후배','리거','복싱','박준용','축구','인터뷰','이트','활동','근대','정답','붙이','언급','관심','감독','동양인',\\\n",
    "                 '맞추','현실','준비','시키','김민수','세로','절대','펀치','그래플링','에드가','박지성','약하','차이','운영','임현규',\\\n",
    "                 '톰슨','조건','최홍','하빕','부족','동양',])\n",
    "\n",
    "for i in range(len(add_line)):\n",
    "    word_count = word_count[word_count['word'] != add_line[i]].reset_index().drop(['index'],axis = 1)\n",
    "    \n",
    "import numpy as np\n",
    "\n",
    "new_count = word_count.groupby(['word']).sum().sort_values(['count'], ascending=False).astype(int)['count']\n",
    "new_word = word_count.groupby(['word']).sum().sort_values(['count'], ascending=False).index\n",
    "word_count = pd.DataFrame(list(zip(new_word,new_count)),columns=['word','count'])"
   ]
  },
  {
   "cell_type": "code",
   "execution_count": 80,
   "metadata": {},
   "outputs": [
    {
     "data": {
      "text/html": [
       "<div>\n",
       "<style scoped>\n",
       "    .dataframe tbody tr th:only-of-type {\n",
       "        vertical-align: middle;\n",
       "    }\n",
       "\n",
       "    .dataframe tbody tr th {\n",
       "        vertical-align: top;\n",
       "    }\n",
       "\n",
       "    .dataframe thead th {\n",
       "        text-align: right;\n",
       "    }\n",
       "</style>\n",
       "<table border=\"1\" class=\"dataframe\">\n",
       "  <thead>\n",
       "    <tr style=\"text-align: right;\">\n",
       "      <th></th>\n",
       "      <th>word</th>\n",
       "      <th>count</th>\n",
       "    </tr>\n",
       "  </thead>\n",
       "  <tbody>\n",
       "    <tr>\n",
       "      <th>0</th>\n",
       "      <td>김동현</td>\n",
       "      <td>920</td>\n",
       "    </tr>\n",
       "    <tr>\n",
       "      <th>1</th>\n",
       "      <td>ufc</td>\n",
       "      <td>326</td>\n",
       "    </tr>\n",
       "    <tr>\n",
       "      <th>2</th>\n",
       "      <td>경기</td>\n",
       "      <td>108</td>\n",
       "    </tr>\n",
       "    <tr>\n",
       "      <th>3</th>\n",
       "      <td>이긴</td>\n",
       "      <td>103</td>\n",
       "    </tr>\n",
       "    <tr>\n",
       "      <th>4</th>\n",
       "      <td>타격</td>\n",
       "      <td>84</td>\n",
       "    </tr>\n",
       "    <tr>\n",
       "      <th>5</th>\n",
       "      <td>예능</td>\n",
       "      <td>67</td>\n",
       "    </tr>\n",
       "    <tr>\n",
       "      <th>6</th>\n",
       "      <td>격투기</td>\n",
       "      <td>61</td>\n",
       "    </tr>\n",
       "    <tr>\n",
       "      <th>7</th>\n",
       "      <td>모른</td>\n",
       "      <td>46</td>\n",
       "    </tr>\n",
       "    <tr>\n",
       "      <th>8</th>\n",
       "      <td>방송</td>\n",
       "      <td>42</td>\n",
       "    </tr>\n",
       "    <tr>\n",
       "      <th>9</th>\n",
       "      <td>유튜브</td>\n",
       "      <td>39</td>\n",
       "    </tr>\n",
       "    <tr>\n",
       "      <th>10</th>\n",
       "      <td>은퇴</td>\n",
       "      <td>36</td>\n",
       "    </tr>\n",
       "    <tr>\n",
       "      <th>11</th>\n",
       "      <td>최고</td>\n",
       "      <td>30</td>\n",
       "    </tr>\n",
       "    <tr>\n",
       "      <th>12</th>\n",
       "      <td>전성기</td>\n",
       "      <td>29</td>\n",
       "    </tr>\n",
       "    <tr>\n",
       "      <th>13</th>\n",
       "      <td>대회</td>\n",
       "      <td>29</td>\n",
       "    </tr>\n",
       "    <tr>\n",
       "      <th>14</th>\n",
       "      <td>파이터</td>\n",
       "      <td>29</td>\n",
       "    </tr>\n",
       "    <tr>\n",
       "      <th>15</th>\n",
       "      <td>싸움</td>\n",
       "      <td>27</td>\n",
       "    </tr>\n",
       "    <tr>\n",
       "      <th>16</th>\n",
       "      <td>아이돌</td>\n",
       "      <td>27</td>\n",
       "    </tr>\n",
       "    <tr>\n",
       "      <th>17</th>\n",
       "      <td>운동</td>\n",
       "      <td>27</td>\n",
       "    </tr>\n",
       "    <tr>\n",
       "      <th>18</th>\n",
       "      <td>배운</td>\n",
       "      <td>24</td>\n",
       "    </tr>\n",
       "    <tr>\n",
       "      <th>19</th>\n",
       "      <td>챔피언</td>\n",
       "      <td>24</td>\n",
       "    </tr>\n",
       "    <tr>\n",
       "      <th>20</th>\n",
       "      <td>실력</td>\n",
       "      <td>24</td>\n",
       "    </tr>\n",
       "    <tr>\n",
       "      <th>21</th>\n",
       "      <td>인기</td>\n",
       "      <td>24</td>\n",
       "    </tr>\n",
       "    <tr>\n",
       "      <th>22</th>\n",
       "      <td>재능</td>\n",
       "      <td>23</td>\n",
       "    </tr>\n",
       "    <tr>\n",
       "      <th>23</th>\n",
       "      <td>유명</td>\n",
       "      <td>23</td>\n",
       "    </tr>\n",
       "    <tr>\n",
       "      <th>24</th>\n",
       "      <td>단체</td>\n",
       "      <td>17</td>\n",
       "    </tr>\n",
       "    <tr>\n",
       "      <th>25</th>\n",
       "      <td>다른</td>\n",
       "      <td>17</td>\n",
       "    </tr>\n",
       "    <tr>\n",
       "      <th>26</th>\n",
       "      <td>체력</td>\n",
       "      <td>17</td>\n",
       "    </tr>\n",
       "    <tr>\n",
       "      <th>27</th>\n",
       "      <td>힘들</td>\n",
       "      <td>17</td>\n",
       "    </tr>\n",
       "    <tr>\n",
       "      <th>28</th>\n",
       "      <td>노잼</td>\n",
       "      <td>16</td>\n",
       "    </tr>\n",
       "    <tr>\n",
       "      <th>29</th>\n",
       "      <td>인정</td>\n",
       "      <td>16</td>\n",
       "    </tr>\n",
       "    <tr>\n",
       "      <th>30</th>\n",
       "      <td>문제</td>\n",
       "      <td>16</td>\n",
       "    </tr>\n",
       "    <tr>\n",
       "      <th>31</th>\n",
       "      <td>예전</td>\n",
       "      <td>16</td>\n",
       "    </tr>\n",
       "    <tr>\n",
       "      <th>32</th>\n",
       "      <td>능력</td>\n",
       "      <td>16</td>\n",
       "    </tr>\n",
       "    <tr>\n",
       "      <th>33</th>\n",
       "      <td>전략</td>\n",
       "      <td>15</td>\n",
       "    </tr>\n",
       "    <tr>\n",
       "      <th>34</th>\n",
       "      <td>기술</td>\n",
       "      <td>15</td>\n",
       "    </tr>\n",
       "    <tr>\n",
       "      <th>35</th>\n",
       "      <td>유도</td>\n",
       "      <td>15</td>\n",
       "    </tr>\n",
       "    <tr>\n",
       "      <th>36</th>\n",
       "      <td>좋아한</td>\n",
       "      <td>14</td>\n",
       "    </tr>\n",
       "    <tr>\n",
       "      <th>37</th>\n",
       "      <td>버틴</td>\n",
       "      <td>14</td>\n",
       "    </tr>\n",
       "    <tr>\n",
       "      <th>38</th>\n",
       "      <td>주먹</td>\n",
       "      <td>13</td>\n",
       "    </tr>\n",
       "    <tr>\n",
       "      <th>39</th>\n",
       "      <td>매미킴</td>\n",
       "      <td>13</td>\n",
       "    </tr>\n",
       "    <tr>\n",
       "      <th>40</th>\n",
       "      <td>성공</td>\n",
       "      <td>13</td>\n",
       "    </tr>\n",
       "    <tr>\n",
       "      <th>41</th>\n",
       "      <td>거품</td>\n",
       "      <td>13</td>\n",
       "    </tr>\n",
       "    <tr>\n",
       "      <th>42</th>\n",
       "      <td>타격가</td>\n",
       "      <td>12</td>\n",
       "    </tr>\n",
       "    <tr>\n",
       "      <th>43</th>\n",
       "      <td>일반인</td>\n",
       "      <td>12</td>\n",
       "    </tr>\n",
       "    <tr>\n",
       "      <th>44</th>\n",
       "      <td>메인</td>\n",
       "      <td>11</td>\n",
       "    </tr>\n",
       "    <tr>\n",
       "      <th>45</th>\n",
       "      <td>강자</td>\n",
       "      <td>11</td>\n",
       "    </tr>\n",
       "    <tr>\n",
       "      <th>46</th>\n",
       "      <td>업적</td>\n",
       "      <td>10</td>\n",
       "    </tr>\n",
       "    <tr>\n",
       "      <th>47</th>\n",
       "      <td>가르친</td>\n",
       "      <td>10</td>\n",
       "    </tr>\n",
       "    <tr>\n",
       "      <th>48</th>\n",
       "      <td>선생</td>\n",
       "      <td>10</td>\n",
       "    </tr>\n",
       "    <tr>\n",
       "      <th>49</th>\n",
       "      <td>스포츠</td>\n",
       "      <td>10</td>\n",
       "    </tr>\n",
       "  </tbody>\n",
       "</table>\n",
       "</div>"
      ],
      "text/plain": [
       "   word  count\n",
       "0   김동현    920\n",
       "1   ufc    326\n",
       "2    경기    108\n",
       "3    이긴    103\n",
       "4    타격     84\n",
       "5    예능     67\n",
       "6   격투기     61\n",
       "7    모른     46\n",
       "8    방송     42\n",
       "9   유튜브     39\n",
       "10   은퇴     36\n",
       "11   최고     30\n",
       "12  전성기     29\n",
       "13   대회     29\n",
       "14  파이터     29\n",
       "15   싸움     27\n",
       "16  아이돌     27\n",
       "17   운동     27\n",
       "18   배운     24\n",
       "19  챔피언     24\n",
       "20   실력     24\n",
       "21   인기     24\n",
       "22   재능     23\n",
       "23   유명     23\n",
       "24   단체     17\n",
       "25   다른     17\n",
       "26   체력     17\n",
       "27   힘들     17\n",
       "28   노잼     16\n",
       "29   인정     16\n",
       "30   문제     16\n",
       "31   예전     16\n",
       "32   능력     16\n",
       "33   전략     15\n",
       "34   기술     15\n",
       "35   유도     15\n",
       "36  좋아한     14\n",
       "37   버틴     14\n",
       "38   주먹     13\n",
       "39  매미킴     13\n",
       "40   성공     13\n",
       "41   거품     13\n",
       "42  타격가     12\n",
       "43  일반인     12\n",
       "44   메인     11\n",
       "45   강자     11\n",
       "46   업적     10\n",
       "47  가르친     10\n",
       "48   선생     10\n",
       "49  스포츠     10"
      ]
     },
     "execution_count": 80,
     "metadata": {},
     "output_type": "execute_result"
    }
   ],
   "source": [
    "word_count[:50]"
   ]
  },
  {
   "cell_type": "code",
   "execution_count": 95,
   "metadata": {},
   "outputs": [
    {
     "data": {
      "text/html": [
       "<div>\n",
       "<style scoped>\n",
       "    .dataframe tbody tr th:only-of-type {\n",
       "        vertical-align: middle;\n",
       "    }\n",
       "\n",
       "    .dataframe tbody tr th {\n",
       "        vertical-align: top;\n",
       "    }\n",
       "\n",
       "    .dataframe thead th {\n",
       "        text-align: right;\n",
       "    }\n",
       "</style>\n",
       "<table border=\"1\" class=\"dataframe\">\n",
       "  <thead>\n",
       "    <tr style=\"text-align: right;\">\n",
       "      <th></th>\n",
       "      <th>keyword</th>\n",
       "      <th>date</th>\n",
       "      <th>site</th>\n",
       "      <th>title</th>\n",
       "      <th>content</th>\n",
       "      <th>link</th>\n",
       "    </tr>\n",
       "  </thead>\n",
       "  <tbody>\n",
       "    <tr>\n",
       "      <th>180</th>\n",
       "      <td>김동현 ufc</td>\n",
       "      <td>2019-12-25</td>\n",
       "      <td>dcinside</td>\n",
       "      <td>김동현 너무 깎아내려도 안되는게 웰라운더는 잘 잡았음</td>\n",
       "      <td>전적 중에 아미르 사돌라 해서웨이 파울로 티아고 이런애들 잡은거 보면 어지간한 중위권정도 그래플링가진 상대는 다 잡은거임 문제는 그래플러가 극상성이라서 타렉사피딘 정도 그...</td>\n",
       "      <td>https://gall.dcinside.com/mgallery/board/view/?id=ufc&amp;no=135189</td>\n",
       "    </tr>\n",
       "    <tr>\n",
       "      <th>248</th>\n",
       "      <td>김동현 ufc</td>\n",
       "      <td>2019-12-22</td>\n",
       "      <td>dcinside</td>\n",
       "      <td>위몽골 까는 좆밥들의 어설픈 논리들</td>\n",
       "      <td>[1]취미로 운동하는 위몽골이 스파링해서 잘 하면상대는 봐준게 되고 위몽골은 전력으로 한게 되는 그 논리 ㅋㅋ위몽골이 못하고 상대가 잘하면 ... 역시 그럼그렇지.. 요딴...</td>\n",
       "      <td>https://gall.dcinside.com/mgallery/board/view/?id=popkontv&amp;no=13026</td>\n",
       "    </tr>\n",
       "    <tr>\n",
       "      <th>256</th>\n",
       "      <td>김동현 ufc</td>\n",
       "      <td>2019-12-22</td>\n",
       "      <td>dcinside</td>\n",
       "      <td>확실히 대중한테 인정받을려면 예능을 해야함. 그래야 커리어도 오름</td>\n",
       "      <td>인터넷에서 강호동 전성기 시절은 무슨 알렉산더카렐린 두손가락으로 접어버릴만큼 과장 되어있음국내무대만 있는 씨름에서 최정점 찍었지만 그게 역대 커리어도 아니고 강호동 그당시...</td>\n",
       "      <td>https://gall.dcinside.com/mgallery/board/view/?id=ufc&amp;no=133115</td>\n",
       "    </tr>\n",
       "  </tbody>\n",
       "</table>\n",
       "</div>"
      ],
      "text/plain": [
       "     keyword        date      site                                 title  \\\n",
       "180  김동현 ufc  2019-12-25  dcinside         김동현 너무 깎아내려도 안되는게 웰라운더는 잘 잡았음   \n",
       "248  김동현 ufc  2019-12-22  dcinside                   위몽골 까는 좆밥들의 어설픈 논리들   \n",
       "256  김동현 ufc  2019-12-22  dcinside  확실히 대중한테 인정받을려면 예능을 해야함. 그래야 커리어도 오름   \n",
       "\n",
       "                                                                                                 content  \\\n",
       "180   전적 중에 아미르 사돌라 해서웨이 파울로 티아고 이런애들 잡은거 보면 어지간한 중위권정도 그래플링가진 상대는 다 잡은거임 문제는 그래플러가 극상성이라서 타렉사피딘 정도 그...   \n",
       "248   [1]취미로 운동하는 위몽골이 스파링해서 잘 하면상대는 봐준게 되고 위몽골은 전력으로 한게 되는 그 논리 ㅋㅋ위몽골이 못하고 상대가 잘하면 ... 역시 그럼그렇지.. 요딴...   \n",
       "256   인터넷에서 강호동 전성기 시절은 무슨 알렉산더카렐린 두손가락으로 접어버릴만큼 과장 되어있음국내무대만 있는 씨름에서 최정점 찍었지만 그게 역대 커리어도 아니고 강호동 그당시...   \n",
       "\n",
       "                                                                    link  \n",
       "180      https://gall.dcinside.com/mgallery/board/view/?id=ufc&no=135189  \n",
       "248  https://gall.dcinside.com/mgallery/board/view/?id=popkontv&no=13026  \n",
       "256      https://gall.dcinside.com/mgallery/board/view/?id=ufc&no=133115  "
      ]
     },
     "execution_count": 95,
     "metadata": {},
     "output_type": "execute_result"
    }
   ],
   "source": [
    "#검색\n",
    "pd.set_option('display.max_colwidth',100)\n",
    "w = '문제'\n",
    "keyword_data[keyword_data['content'].str.contains(w)].head(3)"
   ]
  },
  {
   "cell_type": "markdown",
   "metadata": {},
   "source": [
    "**7.워드클라우드 설정 및 그리기**"
   ]
  },
  {
   "cell_type": "code",
   "execution_count": 96,
   "metadata": {},
   "outputs": [],
   "source": [
    "import numpy as np\n",
    "from PIL import Image\n",
    "import requests\n",
    "\n",
    "# 폰트 타입\n",
    "font_path = '/home/lab543/jupyter/fonts/NotoSansCJKkr-Bold.otf'\n",
    "\n",
    "# 워드 모양\n",
    "url = 'https://www.mandarinstone.com/app/uploads/2017/09/Geometric-Cube-Decor-Ebony_Dove_White-Swatch.jpg'\n",
    "\n",
    "mask = np.array(Image.open(requests.get(url, stream=True).raw))"
   ]
  },
  {
   "cell_type": "code",
   "execution_count": 97,
   "metadata": {},
   "outputs": [],
   "source": [
    "word_dict = dict()\n",
    "for i in range(50):\n",
    "    word_dict[word_count['word'][i]] = word_count['count'][i]"
   ]
  },
  {
   "cell_type": "code",
   "execution_count": 98,
   "metadata": {},
   "outputs": [
    {
     "data": {
      "text/plain": [
       "<matplotlib.image.AxesImage at 0x7f8632dfa5f8>"
      ]
     },
     "execution_count": 98,
     "metadata": {},
     "output_type": "execute_result"
    },
    {
     "data": {
      "image/png": "[encoded data removed]",
      "text/plain": [
       "<Figure size 720x576 with 1 Axes>"
      ]
     },
     "metadata": {
      "needs_background": "light"
     },
     "output_type": "display_data"
    }
   ],
   "source": [
    "from wordcloud import WordCloud\n",
    "import matplotlib.pyplot as plt\n",
    "\n",
    "%matplotlib inline\n",
    "wc = WordCloud(font_path = font_path,\n",
    "               min_font_size = .5,\n",
    "               colormap = 'Dark2',\n",
    "               background_color='white', \n",
    "               width=800,\n",
    "               height=800,\n",
    "               mask = mask)\n",
    "\n",
    "cloud = wc.generate_from_frequencies(word_dict)\n",
    "plt.figure(figsize=(10,8))\n",
    "plt.axis('off')\n",
    "plt.imshow(cloud)"
   ]
  }
 ],
 "metadata": {
  "kernelspec": {
   "display_name": "Python 3",
   "language": "python",
   "name": "python3"
  },
  "language_info": {
   "codemirror_mode": {
    "name": "ipython",
    "version": 3
   },
   "file_extension": ".py",
   "mimetype": "text/x-python",
   "name": "python",
   "nbconvert_exporter": "python",
   "pygments_lexer": "ipython3",
   "version": "3.7.3"
  }
 },
 "nbformat": 4,
 "nbformat_minor": 2
}
