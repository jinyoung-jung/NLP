{
 "cells": [
  {
   "cell_type": "markdown",
   "metadata": {},
   "source": [
    "남자 봄 코디 콘텐츠가 어떤 주제로 나뉘었는지 알아보자.\n",
    "\n",
    "- 추출 채널 : 네이버 블로그\n",
    "- 기간 : 2020.3.1 ~ 2020.3.13"
   ]
  },
  {
   "cell_type": "markdown",
   "metadata": {},
   "source": [
    "## 1.데이터"
   ]
  },
  {
   "cell_type": "markdown",
   "metadata": {},
   "source": [
    "### 1)데이터 로드"
   ]
  },
  {
   "cell_type": "code",
   "execution_count": 1,
   "metadata": {},
   "outputs": [
    {
     "name": "stdout",
     "output_type": "stream",
     "text": [
      "2823\n"
     ]
    },
    {
     "data": {
      "text/html": [
       "<div>\n",
       "<style scoped>\n",
       "    .dataframe tbody tr th:only-of-type {\n",
       "        vertical-align: middle;\n",
       "    }\n",
       "\n",
       "    .dataframe tbody tr th {\n",
       "        vertical-align: top;\n",
       "    }\n",
       "\n",
       "    .dataframe thead th {\n",
       "        text-align: right;\n",
       "    }\n",
       "</style>\n",
       "<table border=\"1\" class=\"dataframe\">\n",
       "  <thead>\n",
       "    <tr style=\"text-align: right;\">\n",
       "      <th></th>\n",
       "      <th>keyword</th>\n",
       "      <th>date</th>\n",
       "      <th>title</th>\n",
       "      <th>content</th>\n",
       "      <th>username</th>\n",
       "      <th>site</th>\n",
       "      <th>link</th>\n",
       "    </tr>\n",
       "  </thead>\n",
       "  <tbody>\n",
       "    <tr>\n",
       "      <th>0</th>\n",
       "      <td>남자 봄 코디</td>\n",
       "      <td>2020-03-01</td>\n",
       "      <td>20대가방브랜드 뭐가 좋으세요? 여성크로스백추천 스트레치엔젤스 파니니백 예뻐요</td>\n",
       "      <td>20대가방브랜드 뭐가 좋으세요? 여성크로스백추천 스트레치엔젤스 파니니백 예뻐요 이...</td>\n",
       "      <td>티파니</td>\n",
       "      <td>naverBlog</td>\n",
       "      <td>https://m.blog.naver.com/glassgirlsh?Redirect=...</td>\n",
       "    </tr>\n",
       "    <tr>\n",
       "      <th>1</th>\n",
       "      <td>남자 봄 코디</td>\n",
       "      <td>2020-03-01</td>\n",
       "      <td>다가오는 봄을 신진 디자이너 브랜드 INSIK 발마칸 코트로 준비</td>\n",
       "      <td>안녕하세요! J입니다!오늘 리뷰할 아이템은 INSIK이라는 국내 브랜드 디자이너의 ...</td>\n",
       "      <td>jsun</td>\n",
       "      <td>naverBlog</td>\n",
       "      <td>https://m.blog.naver.com/whftjs?Redirect=Log&amp;l...</td>\n",
       "    </tr>\n",
       "    <tr>\n",
       "      <th>2</th>\n",
       "      <td>남자 봄 코디</td>\n",
       "      <td>2020-03-01</td>\n",
       "      <td>플레이키즈 프로 간절기 스타일링 나이키 바람막이 + 레깅스 코디</td>\n",
       "      <td>플레이키즈 프로 간절기 스타일링 나이키 바람막이 +레깅스 코디플레이키즈 프로 간절기...</td>\n",
       "      <td>뷰스타 니모와민구리</td>\n",
       "      <td>naverBlog</td>\n",
       "      <td>https://m.blog.naver.com/nimoforever?Redirect=...</td>\n",
       "    </tr>\n",
       "    <tr>\n",
       "      <th>3</th>\n",
       "      <td>남자 봄 코디</td>\n",
       "      <td>2020-03-01</td>\n",
       "      <td>화이트데이 선물 다니엘 웰링턴 시계 볼수록 기분좋아! 할인코드</td>\n",
       "      <td>​#화이트데이선물 #다니엘웰링턴 #다니엘웰링턴시계​​​​잇님들~ MareN이예요ㅎㅎ...</td>\n",
       "      <td>Mare N</td>\n",
       "      <td>naverBlog</td>\n",
       "      <td>https://m.blog.naver.com/knw1124?Redirect=Log&amp;...</td>\n",
       "    </tr>\n",
       "    <tr>\n",
       "      <th>4</th>\n",
       "      <td>남자 봄 코디</td>\n",
       "      <td>2020-03-01</td>\n",
       "      <td>왜냐면 우리는 우리를 모르고</td>\n",
       "      <td>​​​​​​​여름에 이 머리를 해볼까 생각(만 하는) 중​​​​​​​이 바드드득 갈...</td>\n",
       "      <td>견</td>\n",
       "      <td>naverBlog</td>\n",
       "      <td>https://m.blog.naver.com/rbdnjs129/221832729683</td>\n",
       "    </tr>\n",
       "  </tbody>\n",
       "</table>\n",
       "</div>"
      ],
      "text/plain": [
       "   keyword        date                                        title  \\\n",
       "0  남자 봄 코디  2020-03-01  20대가방브랜드 뭐가 좋으세요? 여성크로스백추천 스트레치엔젤스 파니니백 예뻐요   \n",
       "1  남자 봄 코디  2020-03-01         다가오는 봄을 신진 디자이너 브랜드 INSIK 발마칸 코트로 준비   \n",
       "2  남자 봄 코디  2020-03-01          플레이키즈 프로 간절기 스타일링 나이키 바람막이 + 레깅스 코디   \n",
       "3  남자 봄 코디  2020-03-01           화이트데이 선물 다니엘 웰링턴 시계 볼수록 기분좋아! 할인코드   \n",
       "4  남자 봄 코디  2020-03-01                              왜냐면 우리는 우리를 모르고   \n",
       "\n",
       "                                             content    username       site  \\\n",
       "0   20대가방브랜드 뭐가 좋으세요? 여성크로스백추천 스트레치엔젤스 파니니백 예뻐요 이...         티파니  naverBlog   \n",
       "1  안녕하세요! J입니다!오늘 리뷰할 아이템은 INSIK이라는 국내 브랜드 디자이너의 ...        jsun  naverBlog   \n",
       "2  플레이키즈 프로 간절기 스타일링 나이키 바람막이 +레깅스 코디플레이키즈 프로 간절기...  뷰스타 니모와민구리  naverBlog   \n",
       "3  ​#화이트데이선물 #다니엘웰링턴 #다니엘웰링턴시계​​​​잇님들~ MareN이예요ㅎㅎ...      Mare N  naverBlog   \n",
       "4  ​​​​​​​여름에 이 머리를 해볼까 생각(만 하는) 중​​​​​​​이 바드드득 갈...           견  naverBlog   \n",
       "\n",
       "                                                link  \n",
       "0  https://m.blog.naver.com/glassgirlsh?Redirect=...  \n",
       "1  https://m.blog.naver.com/whftjs?Redirect=Log&l...  \n",
       "2  https://m.blog.naver.com/nimoforever?Redirect=...  \n",
       "3  https://m.blog.naver.com/knw1124?Redirect=Log&...  \n",
       "4    https://m.blog.naver.com/rbdnjs129/221832729683  "
      ]
     },
     "execution_count": 1,
     "metadata": {},
     "output_type": "execute_result"
    }
   ],
   "source": [
    "# 기본\n",
    "import pandas as pd\n",
    "import numpy as np\n",
    "import re, warnings, time\n",
    "\n",
    "# 형태소\n",
    "from collections import Counter\n",
    "from khaiii import KhaiiiApi\n",
    "\n",
    "# gensim\n",
    "import gensim\n",
    "import gensim.corpora as corpora\n",
    "from gensim.utils import simple_preprocess\n",
    "from gensim.models import CoherenceModel\n",
    "\n",
    "# 시각화\n",
    "import matplotlib.pyplot as plt\n",
    "import pyLDAvis\n",
    "import pyLDAvis.gensim as gensimvis\n",
    "%matplotlib inline\n",
    "\n",
    "warnings.filterwarnings('ignore')\n",
    "\n",
    "# 파일 로드\n",
    "data = pd.read_csv('/home/lab543/jupyter/jinyoung/data/men_spring_cody.csv')\n",
    "data = data[['keyword','date','title','content','username','site','link']]\n",
    "\n",
    "\n",
    "# 데이터 확인\n",
    "print(len(data))\n",
    "data.head()"
   ]
  },
  {
   "cell_type": "markdown",
   "metadata": {},
   "source": [
    "### 2)데이터 탐색"
   ]
  },
  {
   "cell_type": "code",
   "execution_count": 2,
   "metadata": {},
   "outputs": [
    {
     "data": {
      "text/plain": [
       "keyword     0\n",
       "date        0\n",
       "title       4\n",
       "content     0\n",
       "username    0\n",
       "site        0\n",
       "link        0\n",
       "dtype: int64"
      ]
     },
     "execution_count": 2,
     "metadata": {},
     "output_type": "execute_result"
    }
   ],
   "source": [
    "# 결측치\n",
    "data.isnull().sum()"
   ]
  },
  {
   "cell_type": "markdown",
   "metadata": {},
   "source": [
    "- 제목이에 결측치가 존재\n",
    "- 콘텐츠 내용이 있기 때문에 삭제보다는 빈칸으로 대체"
   ]
  },
  {
   "cell_type": "code",
   "execution_count": 3,
   "metadata": {},
   "outputs": [
    {
     "data": {
      "text/plain": [
       "keyword     0\n",
       "date        0\n",
       "title       0\n",
       "content     0\n",
       "username    0\n",
       "site        0\n",
       "link        0\n",
       "dtype: int64"
      ]
     },
     "execution_count": 3,
     "metadata": {},
     "output_type": "execute_result"
    }
   ],
   "source": [
    "data['title'].fillna('', inplace = True)\n",
    "data.isnull().sum()"
   ]
  },
  {
   "cell_type": "markdown",
   "metadata": {},
   "source": [
    "## 2.전처리"
   ]
  },
  {
   "cell_type": "markdown",
   "metadata": {},
   "source": [
    "### 1)url, e-mail"
   ]
  },
  {
   "cell_type": "code",
   "execution_count": 4,
   "metadata": {},
   "outputs": [],
   "source": [
    "text_data = data['title']+data['content']\n",
    "\n",
    "all_url = \"[a-zA-Z0-9./?=&-_$%^?&!\\\"\\'#@,><]{1,}[.][a-zA-Z0-9./?=&-_$%^?&!\\\"\\'#@,><]{1,}\"\n",
    "url = \"(https?://)?(www.)?[a-zA-Z0-9./?=&-_]+[.]?[/][a-zA-Z0-9./?=&-_%]+\" #한글이 들어간 경우도 있기 때문\n",
    "email = \"[-_.+a-zA-Z0-9]+[@].+[.][[a-zA-Z0-9]+|[a-zA-Z0-9]+[.][a-zA-Z0-9]+]\"\n",
    "\n",
    "for i in range(len(text_data)):\n",
    "    text_data[i] = re.sub(all_url,\"\", str(text_data[i]))\n",
    "    text_data[i] = re.sub(url,\"\", text_data[i])\n",
    "    text_data[i] = re.sub(email,\"\", text_data[i])\n",
    "    text_data[i] = text_data[i].lower()"
   ]
  },
  {
   "cell_type": "markdown",
   "metadata": {},
   "source": [
    "- 텍스트 컬럼만 분석한다.\n",
    "- 정규표현식을 이용하여 텍스트 안에 url이나 이메일을 지운다.\n",
    "- 영어는 소문자로 통일해준다."
   ]
  },
  {
   "cell_type": "markdown",
   "metadata": {},
   "source": [
    "### 2)형태소 나누기"
   ]
  },
  {
   "cell_type": "code",
   "execution_count": 5,
   "metadata": {},
   "outputs": [
    {
     "name": "stdout",
     "output_type": "stream",
     "text": [
      "time: 130.7497272491455\n"
     ]
    }
   ],
   "source": [
    "noun ='[가-힣a-zA-Z]{2,}(?=\\/NNG)|[가-힣a-zA-Z]{2,}(?=\\/NNP)'\n",
    "forign = '[a-zA-Z]{2,}(?=\\/SL)'\n",
    "adjective = '[가-힣a-zA-Z]{2,}(?=\\/VA)'\n",
    "verb = '[가-힣a-zA-Z]{2,}(?=\\/VV)'\n",
    "n = re.compile(noun+'|'+forign+'|'+adjective+'|'+verb)\n",
    "\n",
    "start = time.time()\n",
    "\n",
    "word = list()\n",
    "document = list()\n",
    "\n",
    "for i in range(len(text_data)):\n",
    "    word = list()\n",
    "    for text in KhaiiiApi().analyze(text_data[i]):\n",
    "        temp = str(text).split(\"\\t\")[1].split('+')\n",
    "        word.extend(n.findall(str(temp)))\n",
    "    document.append(word)\n",
    "\n",
    "print(\"time:\",time.time() - start)"
   ]
  },
  {
   "cell_type": "markdown",
   "metadata": {},
   "source": [
    "- khaiii를 이용하여 형태소로 나눈다.\n",
    "- 필요한 품사만 가져온다."
   ]
  },
  {
   "cell_type": "markdown",
   "metadata": {},
   "source": [
    "### 4)불용단어 제거"
   ]
  },
  {
   "cell_type": "code",
   "execution_count": null,
   "metadata": {},
   "outputs": [],
   "source": []
  },
  {
   "cell_type": "markdown",
   "metadata": {},
   "source": [
    "## 3.N-gram"
   ]
  },
  {
   "cell_type": "markdown",
   "metadata": {},
   "source": [
    "### 1)n-gram 모델링"
   ]
  },
  {
   "cell_type": "code",
   "execution_count": 6,
   "metadata": {},
   "outputs": [],
   "source": [
    "bigram = gensim.models.Phrases(document, min_count = 5, threshold = 100)\n",
    "trigram = gensim.models.Phrases(bigram[document], threshold = 100)\n",
    "bigram_mod = gensim.models.phrases.Phraser(bigram)\n",
    "trigram_mod = gensim.models.phrases.Phraser(trigram)"
   ]
  },
  {
   "cell_type": "markdown",
   "metadata": {},
   "source": [
    "### 5)n-gram 적용"
   ]
  },
  {
   "cell_type": "code",
   "execution_count": 7,
   "metadata": {},
   "outputs": [
    {
     "data": {
      "text/plain": [
       "['가방브_랜드',\n",
       " '여성크로_스백추',\n",
       " '스트레치_엔젤스',\n",
       " '파니니백',\n",
       " '예쁘',\n",
       " '가방브_랜드',\n",
       " '여성크로_스백추',\n",
       " '스트레치_엔젤스',\n",
       " '파니니백',\n",
       " '예쁘',\n",
       " '온도',\n",
       " '오르',\n",
       " '어제',\n",
       " '외출',\n",
       " '겉옷',\n",
       " '개인',\n",
       " '사계절',\n",
       " '좋아하',\n",
       " '가슴',\n",
       " '감추']"
      ]
     },
     "execution_count": 7,
     "metadata": {},
     "output_type": "execute_result"
    }
   ],
   "source": [
    "bigram_doc = [bigram_mod[nouns] for nouns in document]\n",
    "bigram_doc[0][:20]"
   ]
  },
  {
   "cell_type": "markdown",
   "metadata": {},
   "source": [
    "### 6)코퍼스 생성"
   ]
  },
  {
   "cell_type": "code",
   "execution_count": 8,
   "metadata": {},
   "outputs": [
    {
     "data": {
      "text/plain": [
       "[(3, 1),\n",
       " (4, 2),\n",
       " (12, 1),\n",
       " (15, 5),\n",
       " (33, 1),\n",
       " (37, 1),\n",
       " (60, 1),\n",
       " (65, 2),\n",
       " (73, 4),\n",
       " (88, 3)]"
      ]
     },
     "execution_count": 8,
     "metadata": {},
     "output_type": "execute_result"
    }
   ],
   "source": [
    "id2word = corpora.Dictionary(bigram_doc)\n",
    "corpus = [id2word.doc2bow(doc) for doc in bigram_doc]\n",
    "corpus[1][:10]"
   ]
  },
  {
   "cell_type": "markdown",
   "metadata": {},
   "source": [
    "### 7)최적 모델수 찾기"
   ]
  },
  {
   "cell_type": "code",
   "execution_count": 9,
   "metadata": {},
   "outputs": [
    {
     "name": "stdout",
     "output_type": "stream",
     "text": [
      "n= 2 Score:  0.47973070186053807\n",
      "n= 3 Score:  0.45140643939932995\n",
      "n= 4 Score:  0.513957834342621\n",
      "n= 5 Score:  0.49508200391739454\n",
      "n= 6 Score:  0.518322496942599\n",
      "n= 7 Score:  0.5149376436429457\n",
      "n= 8 Score:  0.5259816573248823\n",
      "n= 9 Score:  0.5033829490340902\n"
     ]
    }
   ],
   "source": [
    "coherence_score = []\n",
    "for i in range(2,10):\n",
    "    model = gensim.models.ldamodel.LdaModel(corpus = corpus, id2word = id2word, num_topics=i, passes=30, iterations=200)\n",
    "    coherence_model = CoherenceModel(model, texts = bigram_doc, dictionary = id2word, coherence='c_v')\n",
    "    coherence_lda = coherence_model.get_coherence()\n",
    "    print('n=',i,\"Score: \",coherence_lda)\n",
    "    coherence_score.append(coherence_lda)"
   ]
  },
  {
   "cell_type": "code",
   "execution_count": 10,
   "metadata": {},
   "outputs": [
    {
     "data": {
      "image/png": "[encoded data removed]",
      "text/plain": [
       "<Figure size 432x288 with 1 Axes>"
      ]
     },
     "metadata": {
      "needs_background": "light"
     },
     "output_type": "display_data"
    }
   ],
   "source": [
    "k = []\n",
    "\n",
    "for i in range(2,10):\n",
    "    k.append(i)\n",
    "\n",
    "x = np.array(k)\n",
    "y = np.array(coherence_score)\n",
    "plt.title('Topic Coherence')\n",
    "plt.plot(x,y)\n",
    "plt.xlim(2,11)\n",
    "plt.xlabel('Number Of Topic (2-20)')\n",
    "plt.ylabel('Coherence Score')\n",
    "plt.show()"
   ]
  },
  {
   "cell_type": "markdown",
   "metadata": {},
   "source": [
    "### 8)토픽보기"
   ]
  },
  {
   "cell_type": "code",
   "execution_count": 11,
   "metadata": {},
   "outputs": [
    {
     "data": {
      "text/plain": [
       "[(3,\n",
       "  '0.025*\"상품\" + 0.013*\"구매\" + 0.010*\"구입\" + 0.010*\"추천\" + 0.009*\"선물\" + 0.008*\"설명\" + 0.008*\"후기\" + 0.007*\"제품\" + 0.006*\"가격\" + 0.006*\"판매\"'),\n",
       " (0,\n",
       "  '0.011*\"코디\" + 0.010*\"남자\" + 0.008*\"컬러\" + 0.008*\"제품\" + 0.008*\"느낌\" + 0.007*\"착용\" + 0.006*\"사이즈\" + 0.006*\"예쁘\" + 0.006*\"아이템\" + 0.005*\"보이\"'),\n",
       " (1,\n",
       "  '0.024*\"상품\" + 0.011*\"무료_배송\" + 0.011*\"가격\" + 0.009*\"추천\" + 0.007*\"구매\" + 0.007*\"제품\" + 0.006*\"클릭\" + 0.005*\"정보\" + 0.005*\"남성\" + 0.005*\"할인\"'),\n",
       " (2,\n",
       "  '0.044*\"제품\" + 0.038*\"상세\" + 0.023*\"남자\" + 0.022*\"자켓\" + 0.020*\"남성\" + 0.018*\"가격\" + 0.013*\"팬츠\" + 0.012*\"코트\" + 0.011*\"추천\" + 0.011*\"조거\"')]"
      ]
     },
     "execution_count": 11,
     "metadata": {},
     "output_type": "execute_result"
    }
   ],
   "source": [
    "new_model = gensim.models.ldamodel.LdaModel(corpus = corpus, id2word=id2word, num_topics=4, passes=30, iterations=200)\n",
    "new_model.print_topics(0)"
   ]
  },
  {
   "cell_type": "markdown",
   "metadata": {},
   "source": [
    "### 9)모델 난이도와 일관성 점수 계산"
   ]
  },
  {
   "cell_type": "code",
   "execution_count": 12,
   "metadata": {},
   "outputs": [
    {
     "name": "stdout",
     "output_type": "stream",
     "text": [
      "Cpherence -1.4691807560594188\n",
      "\n",
      "Perplexity:  -8.570921500657418\n"
     ]
    }
   ],
   "source": [
    "cm = CoherenceModel(model=new_model, corpus=corpus, coherence='u_mass')\n",
    "coherence = cm.get_coherence()\n",
    "print(\"Cpherence\",coherence)\n",
    "print('\\nPerplexity: ', model.log_perplexity(corpus))"
   ]
  },
  {
   "cell_type": "markdown",
   "metadata": {},
   "source": [
    "**Coherence** <br>\n",
    ": coherence는 주제의 일관성을 측정합니다. 해당 토픽모델이, 모델링이 잘 되었을수록 한 주제 안에는 의미론적으로 유사한 단어가 많이 모여있게 마련입니다. 따라서 상위 단어 간의 유사도를 계산하면 실제로 해당 주제가 의미론적으로 일치하는 단어들끼리 모여있는지 알 수 있습니다.\n",
    "\n",
    "- 토픽이 얼마나 의미론적으로 일관성 있는지.\n",
    "- 높을수록 의미론적 일관성 높음\n",
    "- 해당 모델이 얼마나 실제로 의미있는 결과를 내는지 확인하기 위해 사용\n",
    "- 평가를 진행하기 위해 다른 외부 데이터(코퍼스, 시소러스 등)가 필요\n",
    "\n",
    "**Perplexity** <br>\n",
    ": perpelxity는 사전적으로는 혼란도 라고 쓰인다고 합니다. 즉 특정 확률 모델이 실제도 관측되는 값을 어마나 잘 예측하는지를 뜻합니다. Perlexity값이 작으면 토픽모델이 문서를 잘 반영된다고 알 수 있습니다. 따라서 작아지는것이 중요합니다.\n",
    "\n",
    "- 의미 의미확률 모델이 결과를 얼마나 정확하게 예측하는지.낮을수록 정확하게 예측.\n",
    "- 토픽 모델링 기법이 얼마나 빠르게 수렴하는지 확인할 때,\n",
    "- 확률 모델이 다른 모델에 비해 얼마나 개선되었는지 평가할 때,\n",
    "- 동일 모델 내 파라미터에 따른 성능 평가할 때 주로 사용\n",
    "- 한계 Perplexity가 낮다고 해서, 결과가 해석 용이하다는 의미가 아님"
   ]
  },
  {
   "cell_type": "markdown",
   "metadata": {},
   "source": [
    "# 4.시각화"
   ]
  },
  {
   "cell_type": "code",
   "execution_count": 13,
   "metadata": {},
   "outputs": [
    {
     "data": {
      "text/html": [
       "\n",
       "<link rel=\"stylesheet\" type=\"text/css\" href=\"https://cdn.rawgit.com/bmabey/pyLDAvis/files/ldavis.v1.0.0.css\">\n",
       "\n",
       "\n",
       "<div id=\"ldavis_el292121404722574166723928577918\"></div>\n",
       "<script type=\"text/javascript\">\n",
       "\n",
       "var ldavis_el292121404722574166723928577918_data = {\"mdsDat\": {\"x\": [0.1202396828960248, 0.1359857265899361, 0.003784178433486177, -0.2600095879194472], \"y\": [-0.16025891963814914, 0.19088773204907228, -0.05554456557957541, 0.02491575316865226], \"topics\": [1, 2, 3, 4], \"cluster\": [1, 1, 1, 1], \"Freq\": [55.128448486328125, 18.100048065185547, 15.741615295410156, 11.029902458190918]}, \"tinfo\": {\"Category\": [\"Default\", \"Default\", \"Default\", \"Default\", \"Default\", \"Default\", \"Default\", \"Default\", \"Default\", \"Default\", \"Default\", \"Default\", \"Default\", \"Default\", \"Default\", \"Default\", \"Default\", \"Default\", \"Default\", \"Default\", \"Default\", \"Default\", \"Default\", \"Default\", \"Default\", \"Default\", \"Default\", \"Default\", \"Default\", \"Default\", \"Topic1\", \"Topic1\", \"Topic1\", \"Topic1\", \"Topic1\", \"Topic1\", \"Topic1\", \"Topic1\", \"Topic1\", \"Topic1\", \"Topic1\", \"Topic1\", \"Topic1\", \"Topic1\", \"Topic1\", \"Topic1\", \"Topic1\", \"Topic1\", \"Topic1\", \"Topic1\", \"Topic1\", \"Topic1\", \"Topic1\", \"Topic1\", \"Topic1\", \"Topic1\", \"Topic1\", \"Topic1\", \"Topic1\", \"Topic1\", \"Topic1\", \"Topic1\", \"Topic1\", \"Topic1\", \"Topic1\", \"Topic1\", \"Topic1\", \"Topic1\", \"Topic1\", \"Topic1\", \"Topic1\", \"Topic1\", \"Topic1\", \"Topic1\", \"Topic1\", \"Topic1\", \"Topic1\", \"Topic1\", \"Topic1\", \"Topic1\", \"Topic1\", \"Topic1\", \"Topic1\", \"Topic1\", \"Topic1\", \"Topic1\", \"Topic1\", \"Topic1\", \"Topic1\", \"Topic1\", \"Topic1\", \"Topic1\", \"Topic1\", \"Topic1\", \"Topic1\", \"Topic1\", \"Topic1\", \"Topic1\", \"Topic1\", \"Topic1\", \"Topic1\", \"Topic1\", \"Topic1\", \"Topic1\", \"Topic1\", \"Topic2\", \"Topic2\", \"Topic2\", \"Topic2\", \"Topic2\", \"Topic2\", \"Topic2\", \"Topic2\", \"Topic2\", \"Topic2\", \"Topic2\", \"Topic2\", \"Topic2\", \"Topic2\", \"Topic2\", \"Topic2\", \"Topic2\", \"Topic2\", \"Topic2\", \"Topic2\", \"Topic2\", \"Topic2\", \"Topic2\", \"Topic2\", \"Topic2\", \"Topic2\", \"Topic2\", \"Topic2\", \"Topic2\", \"Topic2\", \"Topic2\", \"Topic2\", \"Topic2\", \"Topic2\", \"Topic2\", \"Topic2\", \"Topic2\", \"Topic2\", \"Topic2\", \"Topic2\", \"Topic2\", \"Topic2\", \"Topic2\", \"Topic2\", \"Topic2\", \"Topic2\", \"Topic2\", \"Topic2\", \"Topic2\", \"Topic2\", \"Topic2\", \"Topic2\", \"Topic2\", \"Topic2\", \"Topic2\", \"Topic2\", \"Topic2\", \"Topic2\", \"Topic2\", \"Topic2\", \"Topic2\", \"Topic2\", \"Topic2\", \"Topic2\", \"Topic2\", \"Topic2\", \"Topic2\", \"Topic2\", \"Topic2\", \"Topic2\", \"Topic2\", \"Topic2\", \"Topic2\", \"Topic3\", \"Topic3\", \"Topic3\", \"Topic3\", \"Topic3\", \"Topic3\", \"Topic3\", \"Topic3\", \"Topic3\", \"Topic3\", \"Topic3\", \"Topic3\", \"Topic3\", \"Topic3\", \"Topic3\", \"Topic3\", \"Topic3\", \"Topic3\", \"Topic3\", \"Topic3\", \"Topic3\", \"Topic3\", \"Topic3\", \"Topic3\", \"Topic3\", \"Topic3\", \"Topic3\", \"Topic3\", \"Topic3\", \"Topic3\", \"Topic3\", \"Topic3\", \"Topic3\", \"Topic3\", \"Topic3\", \"Topic3\", \"Topic3\", \"Topic3\", \"Topic3\", \"Topic3\", \"Topic3\", \"Topic3\", \"Topic3\", \"Topic3\", \"Topic3\", \"Topic3\", \"Topic3\", \"Topic3\", \"Topic3\", \"Topic3\", \"Topic3\", \"Topic3\", \"Topic3\", \"Topic3\", \"Topic3\", \"Topic3\", \"Topic3\", \"Topic3\", \"Topic3\", \"Topic3\", \"Topic3\", \"Topic3\", \"Topic3\", \"Topic3\", \"Topic3\", \"Topic3\", \"Topic3\", \"Topic3\", \"Topic3\", \"Topic3\", \"Topic3\", \"Topic3\", \"Topic3\", \"Topic3\", \"Topic3\", \"Topic4\", \"Topic4\", \"Topic4\", \"Topic4\", \"Topic4\", \"Topic4\", \"Topic4\", \"Topic4\", \"Topic4\", \"Topic4\", \"Topic4\", \"Topic4\", \"Topic4\", \"Topic4\", \"Topic4\", \"Topic4\", \"Topic4\", \"Topic4\", \"Topic4\", \"Topic4\", \"Topic4\", \"Topic4\", \"Topic4\", \"Topic4\", \"Topic4\", \"Topic4\", \"Topic4\", \"Topic4\", \"Topic4\", \"Topic4\", \"Topic4\", \"Topic4\", \"Topic4\", \"Topic4\", \"Topic4\", \"Topic4\", \"Topic4\", \"Topic4\", \"Topic4\", \"Topic4\", \"Topic4\", \"Topic4\", \"Topic4\", \"Topic4\", \"Topic4\", \"Topic4\", \"Topic4\", \"Topic4\", \"Topic4\", \"Topic4\", \"Topic4\", \"Topic4\", \"Topic4\", \"Topic4\", \"Topic4\", \"Topic4\", \"Topic4\", \"Topic4\", \"Topic4\", \"Topic4\", \"Topic4\", \"Topic4\", \"Topic4\", \"Topic4\", \"Topic4\", \"Topic4\", \"Topic4\", \"Topic4\", \"Topic4\", \"Topic4\"], \"Freq\": [5232.0, 10386.0, 5826.0, 4742.0, 3757.0, 4918.0, 7708.0, 2223.0, 3516.0, 2991.0, 1373.0, 1637.0, 4888.0, 1629.0, 1116.0, 1066.0, 1541.0, 2268.0, 842.0, 1515.0, 1545.0, 911.0, 1636.0, 3213.0, 955.0, 1096.0, 1352.0, 1436.0, 641.0, 906.0, 977.482421875, 391.83953857421875, 347.60302734375, 380.8929748535156, 303.9330139160156, 230.56842041015625, 875.7749633789062, 257.5946960449219, 237.38580322265625, 210.6315460205078, 209.9104461669922, 203.34580993652344, 184.07247924804688, 183.9527130126953, 169.42567443847656, 166.88418579101562, 170.09254455566406, 166.48696899414062, 152.34613037109375, 148.1663360595703, 123.54246520996094, 157.36900329589844, 125.19416809082031, 113.54222869873047, 110.58421325683594, 102.33311462402344, 101.84119415283203, 99.94011688232422, 207.4560546875, 98.91606903076172, 1372.2755126953125, 1078.9117431640625, 862.5547485351562, 530.9498291015625, 3128.605712890625, 830.9553833007812, 450.25531005859375, 822.0819091796875, 648.0994873046875, 587.8366088867188, 2292.153564453125, 1463.8433837890625, 1181.30517578125, 2707.77734375, 454.8380432128906, 1262.4676513671875, 2158.56005859375, 1622.0484619140625, 2150.36279296875, 1287.96044921875, 625.7173461914062, 3189.958740234375, 1225.0517578125, 1337.4361572265625, 2004.6414794921875, 1075.087890625, 976.7889404296875, 4572.53955078125, 2639.260986328125, 1553.5458984375, 971.2167358398438, 934.6790161132812, 2330.1005859375, 1571.1976318359375, 1356.9879150390625, 1106.2430419921875, 3894.814208984375, 1550.644287109375, 1261.4970703125, 3147.88525390625, 1334.0938720703125, 1400.23681640625, 1685.9332275390625, 1435.5247802734375, 1491.609619140625, 1065.553466796875, 640.8743286132812, 1115.1494140625, 295.8215026855469, 234.1533660888672, 116.39814758300781, 120.43263244628906, 89.99478149414062, 80.22552490234375, 77.75985717773438, 70.56218719482422, 63.24892044067383, 143.3135986328125, 57.48765182495117, 56.5132942199707, 53.19637680053711, 51.422386169433594, 48.80327606201172, 48.109275817871094, 46.99076843261719, 47.13261413574219, 46.34522247314453, 46.5684700012207, 46.491127014160156, 46.01341247558594, 41.903480529785156, 41.93900680541992, 44.70547866821289, 5151.32080078125, 41.35034942626953, 73.56542205810547, 107.40363311767578, 861.29443359375, 1483.7645263671875, 298.4041748046875, 408.1390075683594, 270.3415222167969, 142.87879943847656, 89.95552062988281, 166.49880981445312, 543.4825439453125, 261.5697021484375, 330.446533203125, 99.3720932006836, 2741.701416015625, 409.908935546875, 1633.3973388671875, 711.1824951171875, 2991.2685546875, 5910.40625, 153.14266967773438, 659.8644409179688, 342.5444641113281, 1733.2886962890625, 338.67315673828125, 905.804931640625, 1294.5992431640625, 2416.305908203125, 312.9455871582031, 3028.08349609375, 857.7802124023438, 579.2518920898438, 850.8753662109375, 1521.8717041015625, 442.6713562011719, 453.88409423828125, 441.2849426269531, 473.8889465332031, 516.4473266601562, 528.0177612304688, 727.1272583007812, 555.5054321289062, 616.6665649414062, 353.4103088378906, 216.04795837402344, 212.0975799560547, 227.34597778320312, 187.53497314453125, 186.09521484375, 170.79286193847656, 147.50979614257812, 104.45571899414062, 83.23604583740234, 80.24858093261719, 80.99730682373047, 74.41212463378906, 68.90176391601562, 63.632389068603516, 60.96041488647461, 58.71530532836914, 59.81260681152344, 55.89878463745117, 55.380313873291016, 84.95938110351562, 52.57611083984375, 51.65894317626953, 51.51387023925781, 49.2686767578125, 46.89631652832031, 45.22502136230469, 44.92308044433594, 47.51308822631836, 44.118309020996094, 1333.175537109375, 151.8453369140625, 72.98359680175781, 72.20423126220703, 81.13597869873047, 163.16615295410156, 81.13597106933594, 80.52339935302734, 67.87891387939453, 67.00621795654297, 200.04307556152344, 113.11189270019531, 312.8606872558594, 686.9127197265625, 2844.346923828125, 184.74609375, 597.1488647460938, 204.17210388183594, 167.69195556640625, 206.73565673828125, 626.1204833984375, 243.96556091308594, 1305.1705322265625, 259.06671142578125, 1097.393310546875, 111.19534301757812, 808.8961791992188, 553.4573974609375, 457.59271240234375, 465.1111755371094, 514.814208984375, 610.6292114257812, 298.1237487792969, 769.7874755859375, 396.552490234375, 517.6381225585938, 304.617431640625, 285.8494567871094, 287.72406005859375, 242.16741943359375, 255.1126708984375, 247.23269653320312, 215.90257263183594, 216.58932495117188, 216.367919921875, 294.8749694824219, 103.35816955566406, 76.15478515625, 74.73258972167969, 65.831787109375, 59.15492248535156, 53.87101364135742, 53.41593933105469, 52.917598724365234, 70.7225112915039, 50.10038757324219, 47.235347747802734, 46.244136810302734, 45.82258987426758, 45.325599670410156, 43.42426300048828, 42.97380828857422, 42.97380828857422, 42.4872932434082, 42.47777557373047, 41.523231506347656, 40.62224197387695, 39.64026641845703, 39.1356201171875, 38.23421859741211, 38.69797897338867, 38.616817474365234, 35.34260559082031, 35.32441329956055, 35.87346267700195, 101.44279479980469, 91.16944122314453, 110.92528533935547, 663.763916015625, 53.869449615478516, 46.576168060302734, 183.38873291015625, 289.57659912109375, 780.6840209960938, 230.08770751953125, 2022.43115234375, 78.31976318359375, 723.6729125976562, 396.71234130859375, 105.20494079589844, 617.1970825195312, 250.2357635498047, 1096.099365234375, 78.63052368164062, 128.193115234375, 195.49635314941406, 453.0729675292969, 165.4644012451172, 391.93792724609375, 118.24189758300781, 270.5207214355469, 208.742919921875, 777.5515747070312, 357.621826171875, 197.6013641357422, 260.6509094238281, 266.2850646972656, 251.8899688720703, 457.07391357421875, 558.3446655273438, 223.4833526611328, 239.390625, 268.3435363769531, 190.33663940429688, 190.84678649902344], \"Term\": [\"\\uc0c1\\uc138\", \"\\uc81c\\ud488\", \"\\uc0c1\\ud488\", \"\\uc790\\ucf13\", \"\\ub0a8\\uc131\", \"\\uac00\\uaca9\", \"\\ub0a8\\uc790\", \"\\ucf54\\ud2b8\", \"\\uad6c\\ub9e4\", \"\\ud32c\\uce20\", \"\\ubb34\\ub8cc_\\ubc30\\uc1a1\", \"\\uc870\\uac70\", \"\\ucd94\\ucc9c\", \"\\uc120\\ubb3c\", \"\\ubcc4\\uc810\", \"\\uc0c1\\ud488\\ud3c9_\\ubca0\\uc2a4\\ud2b8\", \"\\uad6c\\uc785\", \"\\uc5ec\\uc131\", \"\\uc124\\uba85\", \"\\uc624\\ubc84\\ud54f\", \"\\ud6c4\\uae30\", \"\\ube45\\uc0ac\\uc774\\uc988\", \"\\ubc14\\uc9c0\", \"\\ub290\\ub08c\", \"\\ud074\\ub9ad\", \"\\ud560\\uc778\", \"\\uc815\\ubcf4\", \"\\uac00\\uc744\", \"\\ubc14\\ubc84\", \"\\uc2a4\\ud310\", \"\\ub9e4\\uce58\", \"\\ub2e8\\ud3b8\", \"\\ud654\\ubcf4\", \"\\uceec\\ub7ec\\uac10\", \"\\uc0b4\\ub9ac\", \"next_image\", \"\\ub290\\ub07c\", \"\\ucd2c\\uc601\", \"\\ub4e4\\uc5b4\\uc624\", \"previous_image\", \"\\uc18c\\uc7a5\", \"\\uc120\\ud638\", \"\\ub0a8\\uc131\\ubd84\", \"instagram_\\uc0ac\\uc9c4\", \"\\ucde8\\ud5a5\", \"\\uac00\\uc2b4_\\uae30\\uc7a5\", \"\\uc624\\ub79c\\ub9cc\", \"\\uae30\\uc5b5\", \"\\uc7ac\\uc0dd_\\ud654\\uc9c8\", \"\\uc5ec\\uc131\\ubd84\", \"\\ub9e4\\uce6d\", \"\\uc790\\ub791\", \"\\uc81c\\uc678\", \"\\ud2b9\\uc720\", \"\\ub9c8\\uce58\", \"banri_hidaka\", \"\\uc624\\ucc28\", \"\\ud06c\\ub9bc\\uc9c4\", \"\\uc2e4\\uc6a9\", \"\\uc7a1\\ud788\", \"\\uc774\\ub807\", \"\\ud65c\\uc6a9\", \"\\uc5f0\\ucd9c\", \"\\uc2a4\\ud0c0\\uc77c\\ub9c1\", \"\\ub290\\ub08c\", \"\\ub4e4\\uc5b4\\uac00\", \"\\ub9de\\ucd94\", \"\\ub514\\ud14c\\uc77c\", \"\\ub9e4\\ub825\", \"\\uc644\\uc131\", \"\\uc544\\uc774\\ud15c\", \"\\uc5b4\\uc6b8\\ub9ac\", \"\\ubd80\\ubd84\", \"\\ucc29\\uc6a9\", \"\\ubd80\\ub2f4\", \"\\uc774\\ubc88\", \"\\ubcf4\\uc774\", \"\\ub098\\uc624\", \"\\ub514\\uc790\\uc778\", \"\\ub2e4\\uc591\", \"\\uc804\\uccb4\", \"\\uceec\\ub7ec\", \"\\uc0ac\\ub791\", \"\\ud3ec\\uc778\\ud2b8\", \"\\uc0dd\\uac01\", \"\\uc88b\\uc544\\ud558\", \"\\uc815\\ub3c4\", \"\\ucf54\\ub514\", \"\\uc0ac\\uc774\\uc988\", \"\\uc2a4\\ud0c0\\uc77c\", \"\\uadf8\\ub807\", \"\\uc81c\\uc791\", \"\\uc608\\uc058\", \"\\uac00\\ub2a5\", \"\\ube0c\\ub79c\\ub4dc\", \"\\uc18c\\uc7ac\", \"\\ub0a8\\uc790\", \"\\ube14\\ub799\", \"\\uc0c9\\uc0c1\", \"\\uc81c\\ud488\", \"\\uc624\\ub298\", \"\\ud328\\uc158\", \"\\uc790\\ucf13\", \"\\uad6c\\ub9e4\", \"\\ucd94\\ucc9c\", \"\\uc0c1\\ud488\\ud3c9_\\ubca0\\uc2a4\\ud2b8\", \"\\ubc14\\ubc84\", \"\\ubcc4\\uc810\", \"\\uc791\\uc131\\uc790_\\uad00\\ub828\", \"\\ubb34\\uc2a4\\ud0d5\", \"barbour_\\ubc14\\ubc84\", \"\\ub367\\uc2e0\\uc99d\\uc815\", \"\\uc0c1\\uc138\\uc815\\ubcf4_\\uc2e4\\uc81c\", \"\\uc790\\ucf13\\ub098\", \"\\uc2e4\\uc81c_\\uc0ac\\uc6a9\", \"\\ud2b8\\ub808_\\uc774\\ub2dd\", \"\\uc774\\uce58\\uc2a4\\ud0c0\\uc77c\", \"\\ud2b8\\ub808\\uc774\", \"\\ubc14\\ubc84_barbour\", \"\\uc0c1\\uc138\\uc815\\ubcf4\", \"\\uc7a0\\ubc14\", \"\\uc637\\uc218\\uc800\", \"\\uc560\\ub4dc\\ub9e4\\uc774\\ube0c\", \"\\uc2ec\\ud50c\\uc154\\uce20_\\uc624\\ub9ac\\ud138\", \"\\ub529\\ubca0\\uc2a4\\ud2b8_\\ucf54\\ud2bc\", \"\\ud2f0\\uc154\\uce20_gmt\", \"mqu_bk\", \"\\ud2f0\\uc154\\uce20_mod\", \"\\ucf54\\ub514\\uc81c\", \"\\uba38\\uc2dc\\ub530\", \"\\uac24\\ub7ec\\ub9ac\\uc544_barbour\", \"\\ucd94\\ub3d9\", \"\\ub9ac\\ub2dd\\ubc14\\uc9c0_\\ud3b8\\ud558\", \"\\uc0c1\\uc138\", \"\\ub3c4\\uc624\\ube60\", \"\\ubc18\\uc9d1\\uc5c5\", \"\\ud2b9\\uc591\\uba74\", \"\\ube45\\uc0ac\\uc774\\uc988\", \"\\uc870\\uac70\", \"\\uad00\\ub828_\\ub0b4\\uc6a9\", \"\\ud3ec\\uc2a4\\ud305_\\ucfe0\\ud321\", \"\\uce90\\uc2dc\\ubbf8\\uc5b4\", \"\\uc6b4\\ub3d9\\ubcf5\", \"\\ub760\\uc5b4\\ub9ac\", \"\\uc138\\ubcf4\", \"\\ud2b8\\ub808\\uc774\\ub2dd\", \"\\ud578\\ub4dc\\uba54\\uc774\\ub4dc\", \"\\uae34\\ud314\", \"\\uc9c0\\uc624_\\uc9c0\\uc544\", \"\\ub0a8\\uc131\", \"\\uae30\\ubaa8\", \"\\ucf54\\ud2b8\", \"\\uc2a4\\ud310\", \"\\uc790\\ucf13\", \"\\uc81c\\ud488\", \"\\ub0a8\\uc5ec_\\uacf5\\uc6a9\", \"\\ubc34\\ub529\", \"kirahosi\", \"\\ud32c\\uce20\", \"\\ubb34\\uc9c0\", \"\\uac00\\uc744\", \"\\uc5ec\\uc131\", \"\\uac00\\uaca9\", \"\\uce74\\uace0\", \"\\ub0a8\\uc790\", \"\\uc624\\ubc84\\ud54f\", \"\\uc0c1\\ud488\\ud3c9\", \"\\ubc14\\uc9c0\", \"\\ucd94\\ucc9c\", \"\\ud6c4\\ub4dc\", \"\\uc815\\uc7a5\", \"xl\", \"\\uce90\\uc8fc\\uc5bc\", \"\\ud2f0\\uc154\\uce20\", \"\\uc5ec\\uc790\", \"\\ucf54\\ub514\", \"\\ud328\\uc158\", \"\\uc0c1\\ud488\", \"\\uc815\\ubcf4_\\ubc84\\ud2bc\", \"\\uc810\\ub9ac\\ubdf0\", \"\\uc790\\uc138_\\uc815\\ubcf4\", \"\\ud6c4\\uae30_\\uc2a4\\ud2b8\", \"\\ud560\\uc778_\\uc801\\ub9bd\", \"\\ubc14\\ub85c_\\uac00\\uae30\", \"sk_pay\", \"\\ucee4\\ubbf8\\uc158_\\uc9c0\\uae09\", \"\\uacf5\\uc720_\\uac80\\uc0c9\", \"\\uc791\\uc131_\\uc77c\\uc815\", \"\\uc810\\ub9ac\\ubdf0_\\uc77c\\uc808\", \"\\uc815\\ubcf4_\\ucc45\\uc784\\uc790\", \"\\ucd5c\\ub300_\\uc810\\ub9ac\\ubdf0\", \"\\ubc99\\uac70\\uc9c0\", \"\\ubcf4\\ub7ec_\\uce5c\\uad6c\", \"\\uce5c\\uad6c_\\uc758\\uacac\", \"\\uad11\\uace0_\\ucee4\\ubbf8\\uc158\", \"\\uc81c\\uc870\\uc790_\\uc218\\uc785\\uc790\", \"\\uc1fc\\ud0b9\\ub51c\", \"\\ubaa8\\uc74c\\uc804\", \"\\uace0\\uac1d_\\uc13c\\ud130\", \"\\uc810\\ub9ac\\ubdf0_\\ud0b9\\ub51c\", \"\\uc815\\ubcf4_\\uad6c\\ub9e4\\ud558\\uae30\", \"\\ud6c4\\uae30_\\ubca0\\uc2a4\", \"\\uc624\\ub298_\\uc774\\uc0c1\\ud488\", \"\\ud3c9\\uade0_\\ud3c9\\uc810\", \"\\ub7ec\\ube14\\ub9ac\\uc624_\\ub298\\uc2e0\\uc0c1\\ud2b9\\uac00\", \"\\ud0b9\\ub51c\", \"\\ubcf4\\uc0c1_\\uc81c\\uc870\\uc790\", \"amiri\", \"\\ubb34\\ub8cc_\\ubc30\\uc1a1\", \"\\ubc84\\ud2bc_\\ud074\\ub9ad\", \"\\uc815\\ubcf4_\\ubcc0\\uacbd\", \"\\ucee8\\ud150\\uce20_\\ucc38\\uc870\", \"\\ubd84\\uc7c1\\ud574\\uacb0\\uae30\\uc900_\\uc758\\uac70\", \"\\ub208\\uc379\", \"\\uace0\\uc2dc_\\uc18c\\ube44\\uc790\", \"\\uc774\\uc0c1_\\uacf5\\uc815\", \"\\ubc29\\ubc95_\\ucde8\\uae09\", \"\\uc804\\ud654\\ubc88\\ud638_\\ucfe0\\ud321\", \"best\", \"\\ubaa9\\uac78\", \"\\uad00\\ub828\", \"\\ud074\\ub9ad\", \"\\uc0c1\\ud488\", \"ml\", \"\\ud560\\uc778\", \"\\ucd5c\\ub300\", \"kg\", \"\\uc591\\ub9d0\", \"\\uc815\\ubcf4\", \"\\ucd9c\\ucc98\", \"\\uac00\\uaca9\", \"\\ud2b9\\uac00\", \"\\ucd94\\ucc9c\", \"\\ubaa8\\uc74c\", \"\\uad6c\\ub9e4\", \"\\uc624\\ub298\", \"\\ud6c4\\uae30\", \"\\uc0ac\\uc9c4\", \"\\uc5ec\\uc131\", \"\\ub0a8\\uc131\", \"\\uc138\\ud2b8\", \"\\uc81c\\ud488\", \"\\uc608\\uc058\", \"\\ub0a8\\uc790\", \"\\uc774\\uc058\", \"\\ud655\\uc778\", \"\\ud310\\ub9e4\", \"\\uc544\\uc774\", \"\\ub2c8\\ud2b8\", \"\\uc18c\\uac1c\", \"\\ubc30\\uc1a1\", \"\\uc5ec\\uc790\", \"\\ud328\\uc158\", \"\\uc694\\ud0dd\\ubc30\\ubc30\\uc1a1\", \"\\uc9c1\\ubc30\", \"\\uccb4\\ub9ac\\ubc24_\\uc2f1\\uae00\\uc2a4\\ud310\", \"\\ucf54\\ub514\\uc544_\\uc544\\ub3d9\", \"\\ubc88\\uac1c\\uc7a5\\ud130_\\uc5f0\\ub77d\\uc8fc\\uc138\", \"\\uba74\\uc138\", \"\\ubc18\\ud488_\\uc758\\ubb34\", \"\\uad6c\\ub85c\", \"\\uc7ac\\uace0_\\ubcc0\\ub3d9\", \"\\uc2dc\\uae30_\\ub530\\ub974\", \"\\uc11c\\ucd08\", \"\\uc0ac\\ub2f9\", \"\\ud68c\\ud604\", \"\\uc7a0\\uc2e4\", \"\\uacac\\uc801\", \"\\ubc29\\ubc30\", \"\\ud654\\uace1\", \"\\uc544\\ub798_\\ubc30\\ub108\", \"\\ucda9\\ubb34\\ub85c\", \"\\ud398\\ub3c4\\ub77c\", \"\\uc30d\\ubb38\", \"\\ud574\\uc678_\\uc9c1\\ubc30\", \"\\uc0ac\\ub78c_\\uce5c\\uad6c\\uc120\\ubb3c\", \"\\ud3ec\\ucc9c\", \"\\uc2dc\\ud765\", \"\\uc694\\uc81c\\ud488\\uba85\", \"\\ubc30\\ub300\\uc9c0\", \"\\uc7ac\\uad6c\\uc785\", \"\\ub300\\uccad\", \"\\uc2ac\\ub9bc_\\uc988\\ud54f\", \"\\uc9c1\\ubc30\\uc1a1\", \"\\uc218\\uc6d0\", \"\\uc9c1\\uac70\\ub798\", \"\\uc124\\uba85\", \"\\uc8fc\\uccb4\", \"\\ub9ac\\ubdf0_\\ubcf4\\uae30\", \"\\ucd5c\\uc800\", \"\\uc9c1\\uad6c\", \"\\uad6c\\uc785\", \"\\ud574\\uc678\", \"\\uc0c1\\ud488\", \"\\uc0f4\\ud478\", \"\\uc120\\ubb3c\", \"\\ube60\\ub974\", \"\\ubc88\\uac1c\\uc7a5\\ud130\", \"\\ud6c4\\uae30\", \"\\ucfe0\\ud321\", \"\\uad6c\\ub9e4\", \"\\uc5ec\\uc8fc\", \"\\uc0c1\\ub2f4\", \"\\uc138\\uc77c\", \"\\ud310\\ub9e4\", \"\\ube44\\uad50\", \"\\uc0ac\\ub78c\", \"\\uc704\\uce58\", \"\\ubc30\\uc1a1\", \"\\ubc29\\ubc95\", \"\\ucd94\\ucc9c\", \"\\uc815\\ubcf4\", \"\\ud2b9\\uac00\", \"\\uc0c1\\ud488\\ud3c9\", \"\\ud655\\uc778\", \"\\ud560\\uc778\", \"\\uac00\\uaca9\", \"\\uc81c\\ud488\", \"\\uc8fc\\ubb38\", \"\\uc0ac\\uc6a9\", \"\\ub0a8\\uc790\", \"\\uc5ec\\uc790\", \"\\uac00\\ub2a5\"], \"Total\": [5232.0, 10386.0, 5826.0, 4742.0, 3757.0, 4918.0, 7708.0, 2223.0, 3516.0, 2991.0, 1373.0, 1637.0, 4888.0, 1629.0, 1116.0, 1066.0, 1541.0, 2268.0, 842.0, 1515.0, 1545.0, 911.0, 1636.0, 3213.0, 955.0, 1096.0, 1352.0, 1436.0, 641.0, 906.0, 978.1345825195312, 392.4691162109375, 348.2384033203125, 381.6646728515625, 304.6060791015625, 231.20220947265625, 878.2594604492188, 258.3423767089844, 238.0768280029297, 211.2636260986328, 210.5469512939453, 204.01651000976562, 184.7144012451172, 184.6025390625, 170.06399536132812, 167.51368713378906, 170.74147033691406, 167.1360626220703, 152.98887634277344, 148.81228637695312, 124.18765258789062, 158.1944580078125, 125.8968505859375, 114.19206237792969, 111.23383331298828, 102.96260833740234, 102.48920440673828, 100.58055114746094, 208.7969512939453, 99.55670166015625, 1384.508544921875, 1093.1014404296875, 873.5508422851562, 535.4893798828125, 3213.9970703125, 844.3540649414062, 454.7056884765625, 837.2303466796875, 659.2001342773438, 598.470458984375, 2377.8564453125, 1507.6759033203125, 1219.838623046875, 2847.9169921875, 462.4171447753906, 1310.8671875, 2273.04345703125, 1700.850341796875, 2268.3017578125, 1350.73876953125, 645.3439331054688, 3488.463623046875, 1294.92431640625, 1419.3477783203125, 2204.165283203125, 1154.6331787109375, 1050.643310546875, 5552.3447265625, 3079.91162109375, 1746.4388427734375, 1056.330322265625, 1014.8858032226562, 2898.25, 1861.3387451171875, 1582.8134765625, 1249.650634765625, 7708.87939453125, 2082.1123046875, 1610.9697265625, 10386.4228515625, 2000.21435546875, 2220.59423828125, 4742.89599609375, 3516.122314453125, 4888.4267578125, 1066.199951171875, 641.52099609375, 1116.8411865234375, 296.466064453125, 234.80465698242188, 117.04888153076172, 121.25286102294922, 90.63783264160156, 80.86811828613281, 78.41138458251953, 71.2519760131836, 63.89097595214844, 144.82577514648438, 58.13551712036133, 57.162845611572266, 53.85638427734375, 52.06391525268555, 49.450286865234375, 48.75080490112305, 47.63229751586914, 47.77611541748047, 46.98699951171875, 47.21429443359375, 47.13924026489258, 46.657257080078125, 42.54500961303711, 42.58430862426758, 45.40250778198242, 5232.7275390625, 42.02985763549805, 74.83531188964844, 110.08036041259766, 911.4605712890625, 1637.8895263671875, 315.631591796875, 436.8403625488281, 289.23309326171875, 150.90159606933594, 93.4280776977539, 179.2842559814453, 639.3408203125, 295.2502136230469, 383.3224182128906, 105.42277526855469, 3757.23486328125, 487.4711608886719, 2223.64501953125, 906.5595092773438, 4742.89599609375, 10386.4228515625, 170.66448974609375, 920.1234130859375, 442.1583557128906, 2991.495361328125, 437.80938720703125, 1436.9661865234375, 2268.080810546875, 4918.3037109375, 404.7830505371094, 7708.87939453125, 1515.2100830078125, 930.68701171875, 1636.8699951171875, 4888.4267578125, 707.2135009765625, 769.6748657226562, 738.0230712890625, 1036.806396484375, 1442.7069091796875, 1613.852783203125, 5552.3447265625, 2220.59423828125, 5826.28515625, 354.0574035644531, 216.68943786621094, 212.74693298339844, 228.10369873046875, 188.17645263671875, 186.7880859375, 171.43434143066406, 148.1551971435547, 105.10355377197266, 83.88848876953125, 80.89006042480469, 81.65070343017578, 75.05360412597656, 69.5683822631836, 64.27484893798828, 61.603355407714844, 59.36776351928711, 60.49497604370117, 56.54102325439453, 56.02304458618164, 85.97600555419922, 53.21759033203125, 52.30379104614258, 52.170135498046875, 49.91682434082031, 47.53780746459961, 45.867366790771484, 45.56455993652344, 48.20503616333008, 44.76299285888672, 1373.3658447265625, 155.2869415283203, 74.32324981689453, 73.67327117919922, 83.06303405761719, 169.5310516357422, 83.06303405761719, 82.49585723876953, 69.2663345336914, 68.62576293945312, 224.13369750976562, 120.69750213623047, 390.73150634765625, 955.213623046875, 5826.28515625, 232.54080200195312, 1096.9840087890625, 281.617919921875, 222.56201171875, 300.8203125, 1352.3951416015625, 380.93817138671875, 4918.3037109375, 481.96514892578125, 4888.4267578125, 135.16539001464844, 3516.122314453125, 2000.21435546875, 1545.2108154296875, 1783.3118896484375, 2268.080810546875, 3757.23486328125, 896.2552490234375, 10386.4228515625, 2898.25, 7708.87939453125, 1417.1610107421875, 1132.401611328125, 1303.3902587890625, 988.8501586914062, 1763.9249267578125, 1359.8282470703125, 748.3419189453125, 1613.852783203125, 2220.59423828125, 295.55267333984375, 104.04749298095703, 76.83856964111328, 75.41577911376953, 66.52082824707031, 59.82868957519531, 54.54706573486328, 54.08970642089844, 53.59282302856445, 71.62547302246094, 50.77415466308594, 47.909114837646484, 46.917903900146484, 46.49836730957031, 46.00178909301758, 44.09803009033203, 43.64757537841797, 43.64757537841797, 43.16106033325195, 43.16265869140625, 42.196998596191406, 41.2960090637207, 40.31403350830078, 39.80938720703125, 38.90825653076172, 39.38094711303711, 39.31181335449219, 36.01637268066406, 35.9981803894043, 36.55807113647461, 103.83981323242188, 95.44009399414062, 117.45547485351562, 842.9749755859375, 56.260929107666016, 48.25166320800781, 231.7651824951172, 395.33642578125, 1541.908447265625, 347.79095458984375, 5826.28515625, 93.7596206665039, 1629.29052734375, 760.9248046875, 140.52586364746094, 1545.2108154296875, 464.48516845703125, 3516.122314453125, 97.07886505126953, 196.97076416015625, 370.5711975097656, 1303.3902587890625, 320.006591796875, 1265.86181640625, 193.08779907226562, 748.3419189453125, 490.8960876464844, 4888.4267578125, 1352.3951416015625, 481.96514892578125, 930.68701171875, 1132.401611328125, 1096.9840087890625, 4918.3037109375, 10386.4228515625, 1058.8328857421875, 1413.3072509765625, 7708.87939453125, 1613.852783203125, 1861.3387451171875], \"loglift\": [30.0, 29.0, 28.0, 27.0, 26.0, 25.0, 24.0, 23.0, 22.0, 21.0, 20.0, 19.0, 18.0, 17.0, 16.0, 15.0, 14.0, 13.0, 12.0, 11.0, 10.0, 9.0, 8.0, 7.0, 6.0, 5.0, 4.0, 3.0, 2.0, 1.0, 0.5947999954223633, 0.5939000248908997, 0.5936999917030334, 0.593500018119812, 0.5932999849319458, 0.5928000211715698, 0.5927000045776367, 0.5925999879837036, 0.5925999879837036, 0.5924999713897705, 0.5924999713897705, 0.592199981212616, 0.5920000076293945, 0.5920000076293945, 0.59170001745224, 0.59170001745224, 0.59170001745224, 0.5916000008583069, 0.5913000106811523, 0.5911999940872192, 0.5903000235557556, 0.5903000235557556, 0.589900016784668, 0.5898000001907349, 0.5896000266075134, 0.5893999934196472, 0.5892000198364258, 0.5891000032424927, 0.5891000032424927, 0.5889999866485596, 0.5866000056266785, 0.5824000239372253, 0.5827999711036682, 0.5870000123977661, 0.5685999989509583, 0.5795000195503235, 0.5856999754905701, 0.5771999955177307, 0.578499972820282, 0.5776000022888184, 0.5587999820709229, 0.5659999847412109, 0.5633999705314636, 0.5450000166893005, 0.5789999961853027, 0.5579000115394592, 0.5437999963760376, 0.5480999946594238, 0.5421000123023987, 0.5479000210762024, 0.5645999908447266, 0.5060999989509583, 0.5400000214576721, 0.5360999703407288, 0.5005999803543091, 0.5241000056266785, 0.522599995136261, 0.40139999985694885, 0.44110000133514404, 0.47850000858306885, 0.5115000009536743, 0.5131999850273132, 0.3772999942302704, 0.4259999990463257, 0.4415999948978424, 0.47360000014305115, -0.08720000088214874, 0.30079999566078186, 0.35100001096725464, -0.5982999801635742, 0.19050000607967377, 0.13439999520778656, -0.43880000710487366, -0.3003000020980835, -0.5914999842643738, 1.7086000442504883, 1.7081999778747559, 1.7077000141143799, 1.7071000337600708, 1.7065000534057617, 1.7036999464035034, 1.7024999856948853, 1.7021000385284424, 1.701300024986267, 1.7008999586105347, 1.6994999647140503, 1.6992000341415405, 1.698799967765808, 1.6979999542236328, 1.6978000402450562, 1.6969000101089478, 1.6969000101089478, 1.6960999965667725, 1.6959999799728394, 1.6957000494003296, 1.6957000494003296, 1.6955000162124634, 1.6955000162124634, 1.6953999996185303, 1.6953999996185303, 1.694100022315979, 1.694000005722046, 1.6937999725341797, 1.693600058555603, 1.6929999589920044, 1.6921000480651855, 1.6845999956130981, 1.6526000499725342, 1.6103999614715576, 1.6531000137329102, 1.6412999629974365, 1.641700029373169, 1.6546000242233276, 1.6713999509811401, 1.6353000402450562, 1.5468000173568726, 1.5880999565124512, 1.5607999563217163, 1.6500999927520752, 1.3941999673843384, 1.5360000133514404, 1.4007999897003174, 1.4665000438690186, 1.2482999563217163, 1.1454999446868896, 1.6009000539779663, 1.3767999410629272, 1.4539999961853027, 1.1634999513626099, 1.4524999856948853, 1.2477999925613403, 1.1484999656677246, 0.9984999895095825, 1.4519000053405762, 0.7748000025749207, 1.1403000354766846, 1.2351000308990479, 1.0549999475479126, 0.5422999858856201, 1.2408000230789185, 1.1811000108718872, 1.1950000524520874, 0.9262999892234802, 0.6819999814033508, 0.5920000076293945, -0.32359999418258667, 0.32359999418258667, -0.5365999937057495, 1.847000002861023, 1.845900058746338, 1.8458000421524048, 1.8454999923706055, 1.8453999757766724, 1.8451000452041626, 1.8451000452041626, 1.844499945640564, 1.8427000045776367, 1.8410999774932861, 1.84089994430542, 1.8408000469207764, 1.8402999639511108, 1.8392000198364258, 1.8387999534606934, 1.8384000062942505, 1.8378000259399414, 1.837499976158142, 1.837399959564209, 1.8372999429702759, 1.8370000123977661, 1.8366999626159668, 1.8365000486373901, 1.8361999988555908, 1.835800051689148, 1.8352999687194824, 1.8348000049591064, 1.8346999883651733, 1.8344000577926636, 1.8344000577926636, 1.819200038909912, 1.8265000581741333, 1.8307000398635864, 1.8286999464035034, 1.8253999948501587, 1.8106000423431396, 1.8253999948501587, 1.8246999979019165, 1.8286000490188599, 1.8250000476837158, 1.735200047492981, 1.784000039100647, 1.6266000270843506, 1.5190999507904053, 1.1318000555038452, 1.6188000440597534, 1.2407000064849854, 1.5273000001907349, 1.5657999515533447, 1.4737999439239502, 1.0787999629974365, 1.4033000469207764, 0.5221999883651733, 1.2280999422073364, 0.3549000024795532, 1.6536999940872192, 0.37940001487731934, 0.5640000104904175, 0.6319000124931335, 0.5048999786376953, 0.3659999966621399, 0.03189999982714653, 0.7480999827384949, -0.7533000111579895, -0.14020000398159027, -0.8519999980926514, 0.31150001287460327, 0.4722000062465668, 0.33809998631477356, 0.44190001487731934, -0.08470000326633453, 0.14409999549388885, 0.6057999730110168, -0.15950000286102295, -0.4796999990940094, 2.2023000717163086, 2.1979000568389893, 2.1956000328063965, 2.195499897003174, 2.1940999031066895, 2.19320011138916, 2.1921000480651855, 2.191999912261963, 2.1919000148773193, 2.1919000148773193, 2.191200017929077, 2.1903998851776123, 2.1900999546051025, 2.1898999214172363, 2.1898000240325928, 2.189199924468994, 2.188999891281128, 2.188999891281128, 2.188800096511841, 2.1886000633239746, 2.188499927520752, 2.1881000995635986, 2.187700033187866, 2.1875, 2.1870999336242676, 2.1870999336242676, 2.1867001056671143, 2.185699939727783, 2.185699939727783, 2.185699939727783, 2.1812000274658203, 2.158799886703491, 2.14739990234375, 1.965499997138977, 2.161099910736084, 2.1691999435424805, 1.9703999757766724, 1.8932000398635864, 1.5240000486373901, 1.7913999557495117, 1.1464999914169312, 2.024600028991699, 1.3930000066757202, 1.5532000064849854, 1.9150999784469604, 1.2868000268936157, 1.5859999656677246, 1.0390000343322754, 1.9938000440597534, 1.774999976158142, 1.5650999546051025, 1.1478999853134155, 1.5449999570846558, 1.0321999788284302, 1.7141000032424927, 1.187000036239624, 1.3494000434875488, 0.366100013256073, 0.8744000196456909, 1.3128999471664429, 0.9318000078201294, 0.7570000290870667, 0.7332000136375427, -0.1712999939918518, -0.7186999917030334, 0.6489999890327454, 0.42899999022483826, -1.1533000469207764, 0.06700000166893005, -0.0729999989271164], \"logprob\": [30.0, 29.0, 28.0, 27.0, 26.0, 25.0, 24.0, 23.0, 22.0, 21.0, 20.0, 19.0, 18.0, 17.0, 16.0, 15.0, 14.0, 13.0, 12.0, 11.0, 10.0, 9.0, 8.0, 7.0, 6.0, 5.0, 4.0, 3.0, 2.0, 1.0, -6.035600185394287, -6.94980001449585, -7.069499969482422, -6.978099822998047, -7.203800201416016, -7.480100154876709, -6.145500183105469, -7.369200229644775, -7.450900077819824, -7.570499897003174, -7.57390022277832, -7.6057000160217285, -7.7052998542785645, -7.705900192260742, -7.7881999015808105, -7.803299903869629, -7.784299850463867, -7.805699825286865, -7.894400119781494, -7.922299861907959, -8.104000091552734, -7.861999988555908, -8.090700149536133, -8.188400268554688, -8.214799880981445, -8.292400360107422, -8.297200202941895, -8.315999984741211, -7.585700035095215, -8.326299667358398, -5.696400165557861, -5.9369001388549805, -6.160699844360352, -6.645899772644043, -4.872300148010254, -6.197999954223633, -6.810800075531006, -6.208799839019775, -6.446599960327148, -6.5441999435424805, -5.1834001541137695, -5.631800174713135, -5.846199989318848, -5.01669979095459, -6.8007001876831055, -5.779799938201904, -5.2434000968933105, -5.529200077056885, -5.247200012207031, -5.759799957275391, -6.4816999435424805, -4.852799892425537, -5.809899806976318, -5.722099781036377, -5.317399978637695, -5.940400123596191, -6.036300182342529, -4.492800235748291, -5.042300224304199, -5.572299957275391, -6.042099952697754, -6.080399990081787, -5.166900157928467, -5.560999870300293, -5.707600116729736, -5.911900043487549, -4.653200149536133, -5.57420015335083, -5.7804999351501465, -4.866099834442139, -5.724599838256836, -5.676199913024902, -5.490499973297119, -5.651299953460693, -5.61299991607666, -4.835599899291992, -5.343999862670898, -4.79010009765625, -6.117099761962891, -6.350900173187256, -7.049799919128418, -7.0157999992370605, -7.30709981918335, -7.421999931335449, -7.453199863433838, -7.5503997802734375, -7.659800052642822, -6.841800212860107, -7.755300045013428, -7.77239990234375, -7.832900047302246, -7.866799831390381, -7.919099807739258, -7.9334001541137695, -7.956900119781494, -7.95389986038208, -7.970699787139893, -7.96589994430542, -7.967599868774414, -7.97790002822876, -8.071499824523926, -8.070599555969238, -8.006799697875977, -3.2597999572753906, -8.084799766540527, -7.508699893951416, -7.130300045013428, -5.048399925231934, -4.504499912261963, -6.108399868011475, -5.795199871063232, -6.207200050354004, -6.844900131225586, -7.307499885559082, -6.69189977645874, -5.508900165557861, -6.240200042724609, -6.006400108337402, -7.208000183105469, -3.890500068664551, -5.790900230407715, -4.408400058746338, -5.2399001121521, -3.8034000396728516, -3.1224000453948975, -6.7754998207092285, -5.314799785614014, -5.9704999923706055, -4.349100112915039, -5.981800079345703, -4.998000144958496, -4.640900135040283, -4.016900062561035, -6.060800075531006, -3.7911999225616455, -5.052499771118164, -5.445099830627441, -5.0605998039245605, -4.4791998863220215, -5.714000225067139, -5.689000129699707, -5.717199802398682, -5.645899772644043, -5.559899806976318, -5.537700176239014, -5.217800140380859, -5.486999988555908, -5.382500171661377, -5.799600124359131, -6.2916998863220215, -6.310200214385986, -6.240799903869629, -6.433300018310547, -6.440999984741211, -6.526800155639648, -6.673399925231934, -7.018499851226807, -7.24560022354126, -7.282100200653076, -7.272799968719482, -7.357600212097168, -7.434599876403809, -7.514100074768066, -7.557000160217285, -7.5945000648498535, -7.576000213623047, -7.643700122833252, -7.6529998779296875, -7.225100040435791, -7.704999923706055, -7.722599983215332, -7.725399971008301, -7.769999980926514, -7.819300174713135, -7.855599880218506, -7.862299919128418, -7.80620002746582, -7.88040018081665, -4.47189998626709, -6.644400119781494, -7.376999855041504, -7.387700080871582, -7.271100044250488, -6.572500228881836, -7.271100044250488, -7.27869987487793, -7.44950008392334, -7.462500095367432, -6.36870002746582, -6.938899993896484, -5.921500205993652, -5.135000228881836, -3.714200019836426, -6.448299884796143, -5.275100231170654, -6.348299980163574, -6.545100212097168, -6.3358001708984375, -5.227700233459473, -6.170199871063232, -4.493199825286865, -6.110199928283691, -4.666600227355957, -6.955999851226807, -4.97160005569458, -5.351099967956543, -5.541299819946289, -5.525000095367432, -5.423399925231934, -5.252799987792969, -5.969699859619141, -5.021100044250488, -5.6844000816345215, -5.418000221252441, -5.948200225830078, -6.0117998123168945, -6.005199909210205, -6.177599906921387, -6.125500202178955, -6.156899929046631, -6.292399883270264, -6.2891998291015625, -6.290299892425537, -5.625, -6.673299789428711, -6.978799819946289, -6.997600078582764, -7.1244001388549805, -7.231400012969971, -7.324999809265137, -7.333399772644043, -7.342800140380859, -7.052800178527832, -7.397500038146973, -7.456399917602539, -7.47760009765625, -7.486800193786621, -7.497700214385986, -7.540500164031982, -7.551000118255615, -7.551000118255615, -7.562300205230713, -7.562600135803223, -7.585299968719482, -7.6072001457214355, -7.631700038909912, -7.644499778747559, -7.667799949645996, -7.655799865722656, -7.657899856567383, -7.746500015258789, -7.747000217437744, -7.731599807739258, -6.6921000480651855, -6.798799991607666, -6.602700233459473, -4.813600063323975, -7.324999809265137, -7.4704999923706055, -6.099899768829346, -5.643099784851074, -4.651400089263916, -5.8730998039245605, -3.69950008392334, -6.950699806213379, -4.727200031280518, -5.3282999992370605, -6.655600070953369, -4.88640022277832, -5.789100170135498, -4.311999797821045, -6.946800231933594, -6.458000183105469, -6.035999774932861, -5.195499897003174, -6.2027997970581055, -5.340400218963623, -6.53879976272583, -5.71120023727417, -5.970399856567383, -4.655399799346924, -5.43209981918335, -6.025300025939941, -5.7484002113342285, -5.7270002365112305, -5.782599925994873, -5.186699867248535, -4.986599922180176, -5.902200222015381, -5.833499908447266, -5.719299793243408, -6.06279993057251, -6.060100078582764]}, \"token.table\": {\"Topic\": [3, 1, 2, 1, 2, 3, 1, 1, 2, 3, 2, 3, 4, 1, 2, 3, 4, 2, 1, 1, 3, 1, 2, 3, 1, 2, 3, 4, 1, 2, 3, 4, 1, 1, 2, 3, 4, 2, 4, 3, 4, 3, 4, 3, 1, 2, 3, 4, 1, 2, 3, 4, 1, 2, 3, 4, 1, 2, 3, 4, 1, 2, 3, 1, 2, 3, 1, 1, 2, 3, 1, 2, 3, 1, 2, 3, 4, 1, 1, 2, 3, 1, 2, 3, 4, 3, 4, 1, 3, 1, 2, 3, 1, 2, 3, 4, 1, 2, 3, 1, 4, 2, 2, 1, 3, 1, 1, 2, 3, 4, 1, 2, 3, 2, 1, 2, 3, 2, 2, 4, 1, 1, 2, 1, 3, 1, 1, 2, 4, 1, 2, 3, 3, 1, 3, 1, 3, 2, 1, 2, 3, 4, 3, 2, 2, 1, 2, 3, 1, 2, 4, 4, 1, 3, 4, 3, 4, 4, 1, 2, 3, 4, 1, 2, 3, 1, 3, 3, 4, 4, 3, 2, 3, 3, 3, 1, 2, 3, 1, 3, 1, 2, 3, 3, 4, 1, 2, 3, 4, 1, 2, 3, 4, 1, 2, 3, 4, 2, 3, 1, 2, 3, 4, 4, 1, 2, 3, 4, 4, 1, 2, 3, 1, 2, 3, 4, 1, 2, 3, 4, 1, 2, 3, 4, 1, 1, 3, 4, 2, 3, 4, 2, 2, 1, 2, 3, 4, 2, 3, 4, 2, 1, 2, 3, 4, 1, 2, 3, 3, 4, 4, 1, 2, 3, 4, 1, 1, 2, 3, 4, 1, 2, 3, 1, 2, 3, 4, 1, 2, 3, 4, 1, 2, 3, 4, 1, 1, 2, 3, 3, 3, 4, 1, 2, 3, 4, 1, 2, 3, 1, 2, 3, 4, 4, 4, 1, 3, 2, 2, 4, 4, 1, 2, 3, 4, 1, 2, 3, 4, 2, 1, 2, 3, 1, 3, 4, 1, 2, 3, 4, 1, 1, 2, 3, 4, 1, 4, 1, 3, 1, 2, 3, 1, 2, 3, 4, 3, 1, 1, 2, 3, 4, 1, 2, 1, 2, 3, 4, 4, 1, 2, 3, 1, 3, 4, 1, 3, 1, 3, 1, 2, 3, 3, 4, 2, 1, 3, 1, 2, 3, 2, 3, 2, 2, 4, 1, 4, 4, 1, 1, 2, 3, 3, 4, 3, 3, 3, 1, 2, 3, 4, 1, 2, 3, 4, 3, 3, 3, 4, 3, 1, 2, 3, 1, 1, 2, 3, 4, 3, 1, 2, 3, 4, 1, 2, 3, 1, 2, 3, 1, 2, 3, 4, 1, 4, 2, 3, 1, 4, 1, 2, 3, 4, 4, 3, 4, 1, 3, 4, 4, 1, 1, 3, 3, 2, 3, 4, 2, 1, 2, 3, 4, 1, 3, 4, 1, 3, 1, 2, 3, 1, 2, 3, 1, 2, 3, 4, 3, 3, 4, 1, 2, 3, 1, 1, 2, 3, 4, 4, 2, 1, 2, 3, 2, 3, 4, 1, 1, 2, 3, 4, 3, 2, 1, 2, 1, 2, 3, 1, 2, 3, 4, 2, 3, 1, 1, 2, 3, 4, 2, 2, 1, 2, 3, 4, 1, 2, 3, 4, 1, 2, 3, 4, 3, 2, 3, 4, 1, 2, 3, 4, 1, 3, 4, 3, 1, 2, 3, 4, 4, 1, 2, 3, 4, 1, 1, 2, 3, 4, 1, 3, 4, 1, 2, 3, 4, 3, 3, 1, 2, 3, 4], \"Freq\": [0.9829548001289368, 0.9906508922576904, 0.9910389184951782, 0.07138596475124359, 0.035692982375621796, 0.8923245668411255, 0.9967359900474548, 0.13479389250278473, 0.11232824623584747, 0.7548457980155945, 0.7757401466369629, 0.004523266106843948, 0.21937841176986694, 0.012900961562991142, 0.012900961562991142, 0.795559287071228, 0.1806134581565857, 0.9789941906929016, 0.9991254210472107, 0.9987521171569824, 0.9974664449691772, 0.3753270208835602, 0.5975422859191895, 0.027099423110485077, 0.15045838057994843, 0.49122628569602966, 0.2653353810310364, 0.09291821718215942, 0.8440161943435669, 0.005372477229684591, 0.047815047204494476, 0.10261431336402893, 0.9969334602355957, 0.25122371315956116, 0.630495011806488, 0.05984831228852272, 0.05845649167895317, 0.9871898293495178, 0.9782228469848633, 0.9886479377746582, 0.011631152592599392, 0.9751630425453186, 0.01203904952853918, 0.9895003437995911, 0.13308371603488922, 0.02303371950984001, 0.8010615706443787, 0.040948834270238876, 0.05386026203632355, 0.9441387057304382, 0.9938053488731384, 0.9798536896705627, 0.4084044396877289, 0.05005514249205589, 0.23008300364017487, 0.3117070198059082, 0.18094459176063538, 0.2548789381980896, 0.0583692230284214, 0.5065151453018188, 0.9192200303077698, 0.029346881434321404, 0.05112037435173988, 0.07795333117246628, 0.8410754203796387, 0.0800047293305397, 0.9932027459144592, 0.07565432786941528, 0.8608940839767456, 0.06261047720909119, 0.9536406397819519, 0.018814118579030037, 0.027633236721158028, 0.08916131407022476, 0.7297919988632202, 0.16261959075927734, 0.018630722537636757, 0.9961323738098145, 0.029297249391674995, 0.8964958190917969, 0.07031339406967163, 0.5052614808082581, 0.39279380440711975, 0.06719523668289185, 0.034765105694532394, 0.9614757895469666, 0.03539174795150757, 0.9974273443222046, 0.0022772313095629215, 0.9735540747642517, 0.01182328350841999, 0.014623535796999931, 0.6394829750061035, 0.2137279212474823, 0.1445639729499817, 0.0017007526475936174, 0.95355224609375, 0.02295040339231491, 0.023690739646553993, 0.9988046884536743, 0.9722713828086853, 0.9896673560142517, 0.9754970073699951, 0.9841842651367188, 0.01539638452231884, 0.9954769611358643, 0.9478456974029541, 0.026892365887761116, 0.0185160543769598, 0.006612876895815134, 0.9818086624145508, 0.011944144032895565, 0.0059720720164477825, 0.9867254495620728, 0.03211026266217232, 0.9633078575134277, 0.9810896515846252, 0.9911347031593323, 0.020724674686789513, 0.9740597009658813, 0.9978978037834167, 0.9896511435508728, 0.008796898648142815, 0.9830095171928406, 0.01668689027428627, 0.9988400340080261, 0.9984889626502991, 0.985913097858429, 0.9861489534378052, 0.08878012001514435, 0.08878012001514435, 0.8212161660194397, 0.9817388653755188, 0.0579962283372879, 0.9362248182296753, 0.029125524684786797, 0.970608115196228, 0.9965730905532837, 0.14846643805503845, 0.7743095755577087, 0.07765936851501465, 0.0022840991150587797, 0.995780885219574, 0.9991878867149353, 0.9804677367210388, 0.43375465273857117, 0.5198946595191956, 0.0464300774037838, 0.013362675905227661, 0.9888380169868469, 0.9899707436561584, 0.9751002192497253, 0.5214952826499939, 0.05296436697244644, 0.42575201392173767, 0.9817178845405579, 0.014437028206884861, 0.9920682311058044, 0.23919548094272614, 0.11091186851263046, 0.2886381149291992, 0.3621339201927185, 0.2412719875574112, 0.7172951102256775, 0.04129880666732788, 0.019319074228405952, 0.9788331389427185, 0.24906447529792786, 0.7471933960914612, 0.9921704530715942, 0.9918298721313477, 0.9983514547348022, 0.0008953824290074408, 0.9957238435745239, 0.9957465529441833, 0.9498278498649597, 0.01803749054670334, 0.03211553022265434, 0.9839600324630737, 0.01513784658163786, 0.96816086769104, 0.008197805844247341, 0.022953856736421585, 0.9751630425453186, 0.01203904952853918, 0.8573341369628906, 0.07644615322351456, 0.054965414106845856, 0.011372154578566551, 0.7449166178703308, 0.12775488197803497, 0.08068729192018509, 0.04658730328083038, 0.36249253153800964, 0.015624677762389183, 0.10624781250953674, 0.51561439037323, 0.944637656211853, 0.054857008159160614, 0.16164541244506836, 0.11302036792039871, 0.2036994993686676, 0.5217335224151611, 0.9810242056846619, 0.5498230457305908, 0.017379464581608772, 0.12323620170354843, 0.30967044830322266, 0.992210328578949, 0.9460012316703796, 0.020078392699360847, 0.033978819847106934, 0.5908128023147583, 0.11957767605781555, 0.12028523534536362, 0.16910690069198608, 0.8568427562713623, 0.06785909086465836, 0.05065080523490906, 0.02467603236436844, 0.6616901755332947, 0.032523754984140396, 0.26075080037117004, 0.0448603518307209, 0.9980102777481079, 0.30461373925209045, 0.04569206014275551, 0.6498426198959351, 0.9843814373016357, 0.005350938066840172, 0.010128561407327652, 0.9971511960029602, 0.9929628372192383, 0.058871131390333176, 0.1058993861079216, 0.48813265562057495, 0.3470478951931, 0.6221210956573486, 0.09777723252773285, 0.28043800592422485, 0.9998124837875366, 0.782758355140686, 0.03786539286375046, 0.13159775733947754, 0.047176554799079895, 0.9096413850784302, 0.034480173140764236, 0.055803436785936356, 0.1599835753440857, 0.8319146037101746, 0.9847529530525208, 0.5051278471946716, 0.02884691208600998, 0.021481743082404137, 0.4443652033805847, 0.9950175285339355, 0.1613333821296692, 0.023725496605038643, 0.027284320443868637, 0.7876864671707153, 0.02231093868613243, 0.9259039163589478, 0.050199612975120544, 0.2347726970911026, 0.026985367760062218, 0.21048586070537567, 0.5262146592140198, 0.27001237869262695, 0.3760089576244354, 0.3324945569038391, 0.021199317649006844, 0.7221500277519226, 0.0639786645770073, 0.18164058029651642, 0.032357025891542435, 0.9974022507667542, 0.8850473761558533, 0.01680469699203968, 0.09842751175165176, 0.9904313087463379, 0.041911106556653976, 0.953477680683136, 0.8898107409477234, 0.05210603401064873, 0.04408971965312958, 0.014314844273030758, 0.9916163086891174, 0.003734901314601302, 0.003734901314601302, 0.11030715703964233, 0.7842838764190674, 0.1047917976975441, 0.9847346544265747, 0.9912674427032471, 0.976656436920166, 0.9913938045501709, 0.004789342172443867, 0.9947534799575806, 0.9845991134643555, 0.9953314661979675, 0.9851635694503784, 0.7190169095993042, 0.030338266864418983, 0.244728684425354, 0.006067653186619282, 0.9638933539390564, 0.004205468110740185, 0.026914997026324272, 0.005046561826020479, 0.9908941388130188, 0.2260485589504242, 0.08643033355474472, 0.6881183981895447, 0.9710309505462646, 0.007295997813344002, 0.021887993440032005, 0.15696090459823608, 0.5709673166275024, 0.22706422209739685, 0.04541284218430519, 0.9945415258407593, 0.4207322895526886, 0.3271673917770386, 0.13446083664894104, 0.11773069202899933, 0.18541626632213593, 0.8137713670730591, 0.9879218935966492, 0.012592284008860588, 0.8039333820343018, 0.059001121670007706, 0.13697920739650726, 0.6669285297393799, 0.007499196100980043, 0.2764703631401062, 0.04849480092525482, 0.9816329479217529, 0.9956573247909546, 0.4243635833263397, 0.5662581324577332, 0.008579668588936329, 0.0006599744665436447, 0.9952268004417419, 0.9795652031898499, 0.9825046062469482, 0.006683704908937216, 0.01002555713057518, 0.9903266429901123, 0.9981300234794617, 0.01988050527870655, 0.9476374387741089, 0.03313417732715607, 0.352171391248703, 0.03107394650578499, 0.6111209392547607, 0.9909653663635254, 0.008667335845530033, 0.9627214670181274, 0.0366169810295105, 0.687995195388794, 0.09667214751243591, 0.21521902084350586, 0.9818674921989441, 0.024243641644716263, 0.9860547184944153, 0.9924494028091431, 0.9964891076087952, 0.35547900199890137, 0.6306273937225342, 0.013915549032390118, 0.9892650246620178, 0.9894086718559265, 0.9984279274940491, 0.9840987324714661, 0.9892820715904236, 0.9944081902503967, 0.9889383912086487, 0.9717802405357361, 0.9935362935066223, 0.970025360584259, 0.009297368116676807, 0.020144296810030937, 0.9763097167015076, 0.014571786858141422, 0.9968183040618896, 0.988996684551239, 0.9959113001823425, 0.9299064874649048, 0.03236112371087074, 0.03616831824183464, 0.0019035956356674433, 0.1700686365365982, 0.10204118490219116, 0.46288245916366577, 0.2647155225276947, 0.9941918253898621, 0.9970134496688843, 0.982196033000946, 0.013454739935696125, 0.9920306205749512, 0.31701698899269104, 0.5898594856262207, 0.09354599565267563, 0.9928762912750244, 0.9212859272956848, 0.03251597285270691, 0.023647980764508247, 0.02167731523513794, 0.9918178915977478, 0.30308797955513, 0.5690120458602905, 0.07413524389266968, 0.053723983466625214, 0.06288580596446991, 0.9060440063476562, 0.031137630343437195, 0.9310316443443298, 0.024250125512480736, 0.044169872999191284, 0.5099955201148987, 0.12560999393463135, 0.1529986411333084, 0.21060925722122192, 0.03554864972829819, 0.9598135352134705, 0.9390760064125061, 0.056913696229457855, 0.05108318850398064, 0.9450389742851257, 0.09106168150901794, 0.0632372796535492, 0.1112976148724556, 0.7335524559020996, 0.9899325370788574, 0.019260434433817863, 0.9726519584655762, 0.9508703947067261, 0.013343085534870625, 0.03581565245985985, 0.9890866279602051, 0.9986746907234192, 0.2734200954437256, 0.7243857383728027, 0.9859619736671448, 0.06472068279981613, 0.14238549768924713, 0.7895922660827637, 0.986278772354126, 0.305210679769516, 0.3113476037979126, 0.22440758347511292, 0.15915140509605408, 0.35963842272758484, 0.6405239105224609, 0.9730993509292603, 0.9937435388565063, 0.9902058243751526, 0.18034352362155914, 0.7732537388801575, 0.04693872481584549, 0.0587761253118515, 0.9335031509399414, 0.0034574191085994244, 0.47164061665534973, 0.45717310905456543, 0.054976511746644974, 0.016396503895521164, 0.9989524483680725, 0.9772879481315613, 0.01357344351708889, 0.9144426584243774, 0.0788312628865242, 0.006593160331249237, 0.9982584714889526, 0.8236160278320312, 0.1309356689453125, 0.035300400108098984, 0.010265933349728584, 0.9944868683815002, 0.975832462310791, 0.2536376118659973, 0.7343798279762268, 0.011692513711750507, 0.13563403487205505, 0.3250911235809326, 0.538230299949646, 0.9942280054092407, 0.15284539759159088, 0.00418754480779171, 0.7192108631134033, 0.12457945942878723, 0.9876096844673157, 0.9964635968208313, 0.006904848385602236, 0.987393319606781, 0.05474388599395752, 0.8493122458457947, 0.0954107716679573, 0.02904774434864521, 0.02282322756946087, 0.5373832583427429, 0.41081809997558594, 0.9720171689987183, 0.01816854439675808, 0.998318076133728, 0.5281738042831421, 0.35766100883483887, 0.10743693262338638, 0.006238273344933987, 0.9837551712989807, 0.9954612255096436, 0.17032504081726074, 0.26162540912628174, 0.22096221148967743, 0.34755516052246094, 0.6304618716239929, 0.2503834366798401, 0.09727126359939575, 0.021615834906697273, 0.36202630400657654, 0.5793089270591736, 0.058164890855550766, 0.9730633497238159, 0.988686740398407, 0.9339796304702759, 0.02746998891234398, 0.036626651883125305, 0.9419819712638855, 0.034522898495197296, 0.02254556678235531, 0.9796684384346008, 0.22607439756393433, 0.544219434261322, 0.22972075641155243, 0.9990622997283936, 0.1408892273902893, 0.10063516348600388, 0.09488458186388016, 0.6613168120384216, 0.9928320050239563, 0.09822177141904831, 0.8873829245567322, 0.01354783121496439, 0.9851635694503784, 0.9993153810501099, 0.45390257239341736, 0.05916628986597061, 0.2525605857372284, 0.23489899933338165, 0.9870995879173279, 0.012807594612240791, 0.9804359674453735, 0.13331514596939087, 0.170850470662117, 0.29639968276023865, 0.3992982804775238, 0.996738851070404, 0.9951614141464233, 0.35067203640937805, 0.6264020800590515, 0.016968002542853355, 0.005656000692397356], \"Term\": [\"amiri\", \"banri_hidaka\", \"barbour_\\ubc14\\ubc84\", \"best\", \"best\", \"best\", \"instagram_\\uc0ac\\uc9c4\", \"kg\", \"kg\", \"kg\", \"kirahosi\", \"kirahosi\", \"kirahosi\", \"ml\", \"ml\", \"ml\", \"ml\", \"mqu_bk\", \"next_image\", \"previous_image\", \"sk_pay\", \"xl\", \"xl\", \"xl\", \"\\uac00\\uaca9\", \"\\uac00\\uaca9\", \"\\uac00\\uaca9\", \"\\uac00\\uaca9\", \"\\uac00\\ub2a5\", \"\\uac00\\ub2a5\", \"\\uac00\\ub2a5\", \"\\uac00\\ub2a5\", \"\\uac00\\uc2b4_\\uae30\\uc7a5\", \"\\uac00\\uc744\", \"\\uac00\\uc744\", \"\\uac00\\uc744\", \"\\uac00\\uc744\", \"\\uac24\\ub7ec\\ub9ac\\uc544_barbour\", \"\\uacac\\uc801\", \"\\uace0\\uac1d_\\uc13c\\ud130\", \"\\uace0\\uac1d_\\uc13c\\ud130\", \"\\uace0\\uc2dc_\\uc18c\\ube44\\uc790\", \"\\uace0\\uc2dc_\\uc18c\\ube44\\uc790\", \"\\uacf5\\uc720_\\uac80\\uc0c9\", \"\\uad00\\ub828\", \"\\uad00\\ub828\", \"\\uad00\\ub828\", \"\\uad00\\ub828\", \"\\uad00\\ub828_\\ub0b4\\uc6a9\", \"\\uad00\\ub828_\\ub0b4\\uc6a9\", \"\\uad11\\uace0_\\ucee4\\ubbf8\\uc158\", \"\\uad6c\\ub85c\", \"\\uad6c\\ub9e4\", \"\\uad6c\\ub9e4\", \"\\uad6c\\ub9e4\", \"\\uad6c\\ub9e4\", \"\\uad6c\\uc785\", \"\\uad6c\\uc785\", \"\\uad6c\\uc785\", \"\\uad6c\\uc785\", \"\\uadf8\\ub807\", \"\\uadf8\\ub807\", \"\\uadf8\\ub807\", \"\\uae30\\ubaa8\", \"\\uae30\\ubaa8\", \"\\uae30\\ubaa8\", \"\\uae30\\uc5b5\", \"\\uae34\\ud314\", \"\\uae34\\ud314\", \"\\uae34\\ud314\", \"\\ub098\\uc624\", \"\\ub098\\uc624\", \"\\ub098\\uc624\", \"\\ub0a8\\uc131\", \"\\ub0a8\\uc131\", \"\\ub0a8\\uc131\", \"\\ub0a8\\uc131\", \"\\ub0a8\\uc131\\ubd84\", \"\\ub0a8\\uc5ec_\\uacf5\\uc6a9\", \"\\ub0a8\\uc5ec_\\uacf5\\uc6a9\", \"\\ub0a8\\uc5ec_\\uacf5\\uc6a9\", \"\\ub0a8\\uc790\", \"\\ub0a8\\uc790\", \"\\ub0a8\\uc790\", \"\\ub0a8\\uc790\", \"\\ub208\\uc379\", \"\\ub208\\uc379\", \"\\ub290\\ub07c\", \"\\ub290\\ub07c\", \"\\ub290\\ub08c\", \"\\ub290\\ub08c\", \"\\ub290\\ub08c\", \"\\ub2c8\\ud2b8\", \"\\ub2c8\\ud2b8\", \"\\ub2c8\\ud2b8\", \"\\ub2c8\\ud2b8\", \"\\ub2e4\\uc591\", \"\\ub2e4\\uc591\", \"\\ub2e4\\uc591\", \"\\ub2e8\\ud3b8\", \"\\ub300\\uccad\", \"\\ub367\\uc2e0\\uc99d\\uc815\", \"\\ub3c4\\uc624\\ube60\", \"\\ub4e4\\uc5b4\\uac00\", \"\\ub4e4\\uc5b4\\uac00\", \"\\ub4e4\\uc5b4\\uc624\", \"\\ub514\\uc790\\uc778\", \"\\ub514\\uc790\\uc778\", \"\\ub514\\uc790\\uc778\", \"\\ub514\\uc790\\uc778\", \"\\ub514\\ud14c\\uc77c\", \"\\ub514\\ud14c\\uc77c\", \"\\ub514\\ud14c\\uc77c\", \"\\ub529\\ubca0\\uc2a4\\ud2b8_\\ucf54\\ud2bc\", \"\\ub760\\uc5b4\\ub9ac\", \"\\ub760\\uc5b4\\ub9ac\", \"\\ub7ec\\ube14\\ub9ac\\uc624_\\ub298\\uc2e0\\uc0c1\\ud2b9\\uac00\", \"\\ub9ac\\ub2dd\\ubc14\\uc9c0_\\ud3b8\\ud558\", \"\\ub9ac\\ubdf0_\\ubcf4\\uae30\", \"\\ub9ac\\ubdf0_\\ubcf4\\uae30\", \"\\ub9c8\\uce58\", \"\\ub9de\\ucd94\", \"\\ub9de\\ucd94\", \"\\ub9e4\\ub825\", \"\\ub9e4\\ub825\", \"\\ub9e4\\uce58\", \"\\ub9e4\\uce6d\", \"\\uba38\\uc2dc\\ub530\", \"\\uba74\\uc138\", \"\\ubaa8\\uc74c\", \"\\ubaa8\\uc74c\", \"\\ubaa8\\uc74c\", \"\\ubaa8\\uc74c\\uc804\", \"\\ubaa9\\uac78\", \"\\ubaa9\\uac78\", \"\\ubb34\\ub8cc_\\ubc30\\uc1a1\", \"\\ubb34\\ub8cc_\\ubc30\\uc1a1\", \"\\ubb34\\uc2a4\\ud0d5\", \"\\ubb34\\uc9c0\", \"\\ubb34\\uc9c0\", \"\\ubb34\\uc9c0\", \"\\ubb34\\uc9c0\", \"\\ubc14\\ub85c_\\uac00\\uae30\", \"\\ubc14\\ubc84\", \"\\ubc14\\ubc84_barbour\", \"\\ubc14\\uc9c0\", \"\\ubc14\\uc9c0\", \"\\ubc14\\uc9c0\", \"\\ubc18\\uc9d1\\uc5c5\", \"\\ubc18\\uc9d1\\uc5c5\", \"\\ubc18\\ud488_\\uc758\\ubb34\", \"\\ubc29\\ubc30\", \"\\ubc29\\ubc95\", \"\\ubc29\\ubc95\", \"\\ubc29\\ubc95\", \"\\ubc29\\ubc95_\\ucde8\\uae09\", \"\\ubc29\\ubc95_\\ucde8\\uae09\", \"\\ubc30\\ub300\\uc9c0\", \"\\ubc30\\uc1a1\", \"\\ubc30\\uc1a1\", \"\\ubc30\\uc1a1\", \"\\ubc30\\uc1a1\", \"\\ubc34\\ub529\", \"\\ubc34\\ub529\", \"\\ubc34\\ub529\", \"\\ubc84\\ud2bc_\\ud074\\ub9ad\", \"\\ubc84\\ud2bc_\\ud074\\ub9ad\", \"\\ubc88\\uac1c\\uc7a5\\ud130\", \"\\ubc88\\uac1c\\uc7a5\\ud130\", \"\\ubc88\\uac1c\\uc7a5\\ud130_\\uc5f0\\ub77d\\uc8fc\\uc138\", \"\\ubc99\\uac70\\uc9c0\", \"\\ubcc4\\uc810\", \"\\ubcc4\\uc810\", \"\\ubcf4\\ub7ec_\\uce5c\\uad6c\", \"\\ubcf4\\uc0c1_\\uc81c\\uc870\\uc790\", \"\\ubcf4\\uc774\", \"\\ubcf4\\uc774\", \"\\ubcf4\\uc774\", \"\\ubd80\\ub2f4\", \"\\ubd80\\ub2f4\", \"\\ubd80\\ubd84\", \"\\ubd80\\ubd84\", \"\\ubd80\\ubd84\", \"\\ubd84\\uc7c1\\ud574\\uacb0\\uae30\\uc900_\\uc758\\uac70\", \"\\ubd84\\uc7c1\\ud574\\uacb0\\uae30\\uc900_\\uc758\\uac70\", \"\\ube0c\\ub79c\\ub4dc\", \"\\ube0c\\ub79c\\ub4dc\", \"\\ube0c\\ub79c\\ub4dc\", \"\\ube0c\\ub79c\\ub4dc\", \"\\ube14\\ub799\", \"\\ube14\\ub799\", \"\\ube14\\ub799\", \"\\ube14\\ub799\", \"\\ube44\\uad50\", \"\\ube44\\uad50\", \"\\ube44\\uad50\", \"\\ube44\\uad50\", \"\\ube45\\uc0ac\\uc774\\uc988\", \"\\ube45\\uc0ac\\uc774\\uc988\", \"\\ube60\\ub974\", \"\\ube60\\ub974\", \"\\ube60\\ub974\", \"\\ube60\\ub974\", \"\\uc0ac\\ub2f9\", \"\\uc0ac\\ub78c\", \"\\uc0ac\\ub78c\", \"\\uc0ac\\ub78c\", \"\\uc0ac\\ub78c\", \"\\uc0ac\\ub78c_\\uce5c\\uad6c\\uc120\\ubb3c\", \"\\uc0ac\\ub791\", \"\\uc0ac\\ub791\", \"\\uc0ac\\ub791\", \"\\uc0ac\\uc6a9\", \"\\uc0ac\\uc6a9\", \"\\uc0ac\\uc6a9\", \"\\uc0ac\\uc6a9\", \"\\uc0ac\\uc774\\uc988\", \"\\uc0ac\\uc774\\uc988\", \"\\uc0ac\\uc774\\uc988\", \"\\uc0ac\\uc774\\uc988\", \"\\uc0ac\\uc9c4\", \"\\uc0ac\\uc9c4\", \"\\uc0ac\\uc9c4\", \"\\uc0ac\\uc9c4\", \"\\uc0b4\\ub9ac\", \"\\uc0c1\\ub2f4\", \"\\uc0c1\\ub2f4\", \"\\uc0c1\\ub2f4\", \"\\uc0c1\\uc138\", \"\\uc0c1\\uc138\", \"\\uc0c1\\uc138\", \"\\uc0c1\\uc138\\uc815\\ubcf4\", \"\\uc0c1\\uc138\\uc815\\ubcf4_\\uc2e4\\uc81c\", \"\\uc0c1\\ud488\", \"\\uc0c1\\ud488\", \"\\uc0c1\\ud488\", \"\\uc0c1\\ud488\", \"\\uc0c1\\ud488\\ud3c9\", \"\\uc0c1\\ud488\\ud3c9\", \"\\uc0c1\\ud488\\ud3c9\", \"\\uc0c1\\ud488\\ud3c9_\\ubca0\\uc2a4\\ud2b8\", \"\\uc0c9\\uc0c1\", \"\\uc0c9\\uc0c1\", \"\\uc0c9\\uc0c1\", \"\\uc0c9\\uc0c1\", \"\\uc0dd\\uac01\", \"\\uc0dd\\uac01\", \"\\uc0dd\\uac01\", \"\\uc0f4\\ud478\", \"\\uc0f4\\ud478\", \"\\uc11c\\ucd08\", \"\\uc120\\ubb3c\", \"\\uc120\\ubb3c\", \"\\uc120\\ubb3c\", \"\\uc120\\ubb3c\", \"\\uc120\\ud638\", \"\\uc124\\uba85\", \"\\uc124\\uba85\", \"\\uc124\\uba85\", \"\\uc124\\uba85\", \"\\uc138\\ubcf4\", \"\\uc138\\ubcf4\", \"\\uc138\\ubcf4\", \"\\uc138\\uc77c\", \"\\uc138\\uc77c\", \"\\uc138\\uc77c\", \"\\uc138\\uc77c\", \"\\uc138\\ud2b8\", \"\\uc138\\ud2b8\", \"\\uc138\\ud2b8\", \"\\uc138\\ud2b8\", \"\\uc18c\\uac1c\", \"\\uc18c\\uac1c\", \"\\uc18c\\uac1c\", \"\\uc18c\\uac1c\", \"\\uc18c\\uc7a5\", \"\\uc18c\\uc7ac\", \"\\uc18c\\uc7ac\", \"\\uc18c\\uc7ac\", \"\\uc1fc\\ud0b9\\ub51c\", \"\\uc218\\uc6d0\", \"\\uc218\\uc6d0\", \"\\uc2a4\\ud0c0\\uc77c\", \"\\uc2a4\\ud0c0\\uc77c\", \"\\uc2a4\\ud0c0\\uc77c\", \"\\uc2a4\\ud0c0\\uc77c\", \"\\uc2a4\\ud0c0\\uc77c\\ub9c1\", \"\\uc2a4\\ud0c0\\uc77c\\ub9c1\", \"\\uc2a4\\ud0c0\\uc77c\\ub9c1\", \"\\uc2a4\\ud310\", \"\\uc2a4\\ud310\", \"\\uc2a4\\ud310\", \"\\uc2ac\\ub9bc_\\uc988\\ud54f\", \"\\uc2dc\\uae30_\\ub530\\ub974\", \"\\uc2dc\\ud765\", \"\\uc2e4\\uc6a9\", \"\\uc2e4\\uc6a9\", \"\\uc2e4\\uc81c_\\uc0ac\\uc6a9\", \"\\uc2ec\\ud50c\\uc154\\uce20_\\uc624\\ub9ac\\ud138\", \"\\uc30d\\ubb38\", \"\\uc544\\ub798_\\ubc30\\ub108\", \"\\uc544\\uc774\", \"\\uc544\\uc774\", \"\\uc544\\uc774\", \"\\uc544\\uc774\", \"\\uc544\\uc774\\ud15c\", \"\\uc544\\uc774\\ud15c\", \"\\uc544\\uc774\\ud15c\", \"\\uc544\\uc774\\ud15c\", \"\\uc560\\ub4dc\\ub9e4\\uc774\\ube0c\", \"\\uc591\\ub9d0\", \"\\uc591\\ub9d0\", \"\\uc591\\ub9d0\", \"\\uc5b4\\uc6b8\\ub9ac\", \"\\uc5b4\\uc6b8\\ub9ac\", \"\\uc5b4\\uc6b8\\ub9ac\", \"\\uc5ec\\uc131\", \"\\uc5ec\\uc131\", \"\\uc5ec\\uc131\", \"\\uc5ec\\uc131\", \"\\uc5ec\\uc131\\ubd84\", \"\\uc5ec\\uc790\", \"\\uc5ec\\uc790\", \"\\uc5ec\\uc790\", \"\\uc5ec\\uc790\", \"\\uc5ec\\uc8fc\", \"\\uc5ec\\uc8fc\", \"\\uc5f0\\ucd9c\", \"\\uc5f0\\ucd9c\", \"\\uc608\\uc058\", \"\\uc608\\uc058\", \"\\uc608\\uc058\", \"\\uc624\\ub298\", \"\\uc624\\ub298\", \"\\uc624\\ub298\", \"\\uc624\\ub298\", \"\\uc624\\ub298_\\uc774\\uc0c1\\ud488\", \"\\uc624\\ub79c\\ub9cc\", \"\\uc624\\ubc84\\ud54f\", \"\\uc624\\ubc84\\ud54f\", \"\\uc624\\ubc84\\ud54f\", \"\\uc624\\ubc84\\ud54f\", \"\\uc624\\ucc28\", \"\\uc637\\uc218\\uc800\", \"\\uc644\\uc131\", \"\\uc644\\uc131\", \"\\uc644\\uc131\", \"\\uc694\\uc81c\\ud488\\uba85\", \"\\uc694\\ud0dd\\ubc30\\ubc30\\uc1a1\", \"\\uc6b4\\ub3d9\\ubcf5\", \"\\uc6b4\\ub3d9\\ubcf5\", \"\\uc6b4\\ub3d9\\ubcf5\", \"\\uc704\\uce58\", \"\\uc704\\uce58\", \"\\uc704\\uce58\", \"\\uc774\\ub807\", \"\\uc774\\ub807\", \"\\uc774\\ubc88\", \"\\uc774\\ubc88\", \"\\uc774\\uc058\", \"\\uc774\\uc058\", \"\\uc774\\uc058\", \"\\uc774\\uc0c1_\\uacf5\\uc815\", \"\\uc774\\uc0c1_\\uacf5\\uc815\", \"\\uc774\\uce58\\uc2a4\\ud0c0\\uc77c\", \"\\uc790\\ub791\", \"\\uc790\\uc138_\\uc815\\ubcf4\", \"\\uc790\\ucf13\", \"\\uc790\\ucf13\", \"\\uc790\\ucf13\", \"\\uc790\\ucf13\\ub098\", \"\\uc791\\uc131_\\uc77c\\uc815\", \"\\uc791\\uc131\\uc790_\\uad00\\ub828\", \"\\uc7a0\\ubc14\", \"\\uc7a0\\uc2e4\", \"\\uc7a1\\ud788\", \"\\uc7ac\\uace0_\\ubcc0\\ub3d9\", \"\\uc7ac\\uad6c\\uc785\", \"\\uc7ac\\uc0dd_\\ud654\\uc9c8\", \"\\uc804\\uccb4\", \"\\uc804\\uccb4\", \"\\uc804\\uccb4\", \"\\uc804\\ud654\\ubc88\\ud638_\\ucfe0\\ud321\", \"\\uc804\\ud654\\ubc88\\ud638_\\ucfe0\\ud321\", \"\\uc810\\ub9ac\\ubdf0\", \"\\uc810\\ub9ac\\ubdf0_\\uc77c\\uc808\", \"\\uc810\\ub9ac\\ubdf0_\\ud0b9\\ub51c\", \"\\uc815\\ub3c4\", \"\\uc815\\ub3c4\", \"\\uc815\\ub3c4\", \"\\uc815\\ub3c4\", \"\\uc815\\ubcf4\", \"\\uc815\\ubcf4\", \"\\uc815\\ubcf4\", \"\\uc815\\ubcf4\", \"\\uc815\\ubcf4_\\uad6c\\ub9e4\\ud558\\uae30\", \"\\uc815\\ubcf4_\\ubc84\\ud2bc\", \"\\uc815\\ubcf4_\\ubcc0\\uacbd\", \"\\uc815\\ubcf4_\\ubcc0\\uacbd\", \"\\uc815\\ubcf4_\\ucc45\\uc784\\uc790\", \"\\uc815\\uc7a5\", \"\\uc815\\uc7a5\", \"\\uc815\\uc7a5\", \"\\uc81c\\uc678\", \"\\uc81c\\uc791\", \"\\uc81c\\uc791\", \"\\uc81c\\uc791\", \"\\uc81c\\uc791\", \"\\uc81c\\uc870\\uc790_\\uc218\\uc785\\uc790\", \"\\uc81c\\ud488\", \"\\uc81c\\ud488\", \"\\uc81c\\ud488\", \"\\uc81c\\ud488\", \"\\uc870\\uac70\", \"\\uc870\\uac70\", \"\\uc870\\uac70\", \"\\uc88b\\uc544\\ud558\", \"\\uc88b\\uc544\\ud558\", \"\\uc88b\\uc544\\ud558\", \"\\uc8fc\\ubb38\", \"\\uc8fc\\ubb38\", \"\\uc8fc\\ubb38\", \"\\uc8fc\\ubb38\", \"\\uc8fc\\uccb4\", \"\\uc8fc\\uccb4\", \"\\uc9c0\\uc624_\\uc9c0\\uc544\", \"\\uc9c0\\uc624_\\uc9c0\\uc544\", \"\\uc9c1\\uac70\\ub798\", \"\\uc9c1\\uac70\\ub798\", \"\\uc9c1\\uad6c\", \"\\uc9c1\\uad6c\", \"\\uc9c1\\uad6c\", \"\\uc9c1\\uad6c\", \"\\uc9c1\\ubc30\", \"\\uc9c1\\ubc30\\uc1a1\", \"\\uc9c1\\ubc30\\uc1a1\", \"\\ucc29\\uc6a9\", \"\\ucc29\\uc6a9\", \"\\ucc29\\uc6a9\", \"\\uccb4\\ub9ac\\ubc24_\\uc2f1\\uae00\\uc2a4\\ud310\", \"\\ucd2c\\uc601\", \"\\ucd5c\\ub300\", \"\\ucd5c\\ub300\", \"\\ucd5c\\ub300_\\uc810\\ub9ac\\ubdf0\", \"\\ucd5c\\uc800\", \"\\ucd5c\\uc800\", \"\\ucd5c\\uc800\", \"\\ucd94\\ub3d9\", \"\\ucd94\\ucc9c\", \"\\ucd94\\ucc9c\", \"\\ucd94\\ucc9c\", \"\\ucd94\\ucc9c\", \"\\ucd9c\\ucc98\", \"\\ucd9c\\ucc98\", \"\\ucda9\\ubb34\\ub85c\", \"\\ucde8\\ud5a5\", \"\\uce5c\\uad6c_\\uc758\\uacac\", \"\\uce74\\uace0\", \"\\uce74\\uace0\", \"\\uce74\\uace0\", \"\\uce90\\uc2dc\\ubbf8\\uc5b4\", \"\\uce90\\uc2dc\\ubbf8\\uc5b4\", \"\\uce90\\uc2dc\\ubbf8\\uc5b4\", \"\\uce90\\uc8fc\\uc5bc\", \"\\uce90\\uc8fc\\uc5bc\", \"\\uce90\\uc8fc\\uc5bc\", \"\\uce90\\uc8fc\\uc5bc\", \"\\ucee4\\ubbf8\\uc158_\\uc9c0\\uae09\", \"\\ucee8\\ud150\\uce20_\\ucc38\\uc870\", \"\\ucee8\\ud150\\uce20_\\ucc38\\uc870\", \"\\uceec\\ub7ec\", \"\\uceec\\ub7ec\", \"\\uceec\\ub7ec\", \"\\uceec\\ub7ec\\uac10\", \"\\ucf54\\ub514\", \"\\ucf54\\ub514\", \"\\ucf54\\ub514\", \"\\ucf54\\ub514\", \"\\ucf54\\ub514\\uc544_\\uc544\\ub3d9\", \"\\ucf54\\ub514\\uc81c\", \"\\ucf54\\ud2b8\", \"\\ucf54\\ud2b8\", \"\\ucf54\\ud2b8\", \"\\ucfe0\\ud321\", \"\\ucfe0\\ud321\", \"\\ucfe0\\ud321\", \"\\ud06c\\ub9bc\\uc9c4\", \"\\ud074\\ub9ad\", \"\\ud074\\ub9ad\", \"\\ud074\\ub9ad\", \"\\ud074\\ub9ad\", \"\\ud0b9\\ub51c\", \"\\ud2b8\\ub808_\\uc774\\ub2dd\", \"\\ud2b8\\ub808\\uc774\", \"\\ud2b8\\ub808\\uc774\", \"\\ud2b8\\ub808\\uc774\\ub2dd\", \"\\ud2b8\\ub808\\uc774\\ub2dd\", \"\\ud2b8\\ub808\\uc774\\ub2dd\", \"\\ud2b9\\uac00\", \"\\ud2b9\\uac00\", \"\\ud2b9\\uac00\", \"\\ud2b9\\uac00\", \"\\ud2b9\\uc591\\uba74\", \"\\ud2b9\\uc591\\uba74\", \"\\ud2b9\\uc720\", \"\\ud2f0\\uc154\\uce20\", \"\\ud2f0\\uc154\\uce20\", \"\\ud2f0\\uc154\\uce20\", \"\\ud2f0\\uc154\\uce20\", \"\\ud2f0\\uc154\\uce20_gmt\", \"\\ud2f0\\uc154\\uce20_mod\", \"\\ud310\\ub9e4\", \"\\ud310\\ub9e4\", \"\\ud310\\ub9e4\", \"\\ud310\\ub9e4\", \"\\ud328\\uc158\", \"\\ud328\\uc158\", \"\\ud328\\uc158\", \"\\ud328\\uc158\", \"\\ud32c\\uce20\", \"\\ud32c\\uce20\", \"\\ud32c\\uce20\", \"\\ud398\\ub3c4\\ub77c\", \"\\ud3c9\\uade0_\\ud3c9\\uc810\", \"\\ud3ec\\uc2a4\\ud305_\\ucfe0\\ud321\", \"\\ud3ec\\uc2a4\\ud305_\\ucfe0\\ud321\", \"\\ud3ec\\uc2a4\\ud305_\\ucfe0\\ud321\", \"\\ud3ec\\uc778\\ud2b8\", \"\\ud3ec\\uc778\\ud2b8\", \"\\ud3ec\\uc778\\ud2b8\", \"\\ud3ec\\ucc9c\", \"\\ud560\\uc778\", \"\\ud560\\uc778\", \"\\ud560\\uc778\", \"\\ud560\\uc778_\\uc801\\ub9bd\", \"\\ud574\\uc678\", \"\\ud574\\uc678\", \"\\ud574\\uc678\", \"\\ud574\\uc678\", \"\\ud574\\uc678_\\uc9c1\\ubc30\", \"\\ud578\\ub4dc\\uba54\\uc774\\ub4dc\", \"\\ud578\\ub4dc\\uba54\\uc774\\ub4dc\", \"\\ud578\\ub4dc\\uba54\\uc774\\ub4dc\", \"\\ud654\\uace1\", \"\\ud654\\ubcf4\", \"\\ud655\\uc778\", \"\\ud655\\uc778\", \"\\ud655\\uc778\", \"\\ud655\\uc778\", \"\\ud65c\\uc6a9\", \"\\ud65c\\uc6a9\", \"\\ud68c\\ud604\", \"\\ud6c4\\uae30\", \"\\ud6c4\\uae30\", \"\\ud6c4\\uae30\", \"\\ud6c4\\uae30\", \"\\ud6c4\\uae30_\\ubca0\\uc2a4\", \"\\ud6c4\\uae30_\\uc2a4\\ud2b8\", \"\\ud6c4\\ub4dc\", \"\\ud6c4\\ub4dc\", \"\\ud6c4\\ub4dc\", \"\\ud6c4\\ub4dc\"]}, \"R\": 30, \"lambda.step\": 0.01, \"plot.opts\": {\"xlab\": \"PC1\", \"ylab\": \"PC2\"}, \"topic.order\": [1, 3, 2, 4]};\n",
       "\n",
       "function LDAvis_load_lib(url, callback){\n",
       "  var s = document.createElement('script');\n",
       "  s.src = url;\n",
       "  s.async = true;\n",
       "  s.onreadystatechange = s.onload = callback;\n",
       "  s.onerror = function(){console.warn(\"failed to load library \" + url);};\n",
       "  document.getElementsByTagName(\"head\")[0].appendChild(s);\n",
       "}\n",
       "\n",
       "if(typeof(LDAvis) !== \"undefined\"){\n",
       "   // already loaded: just create the visualization\n",
       "   !function(LDAvis){\n",
       "       new LDAvis(\"#\" + \"ldavis_el292121404722574166723928577918\", ldavis_el292121404722574166723928577918_data);\n",
       "   }(LDAvis);\n",
       "}else if(typeof define === \"function\" && define.amd){\n",
       "   // require.js is available: use it to load d3/LDAvis\n",
       "   require.config({paths: {d3: \"https://cdnjs.cloudflare.com/ajax/libs/d3/3.5.5/d3.min\"}});\n",
       "   require([\"d3\"], function(d3){\n",
       "      window.d3 = d3;\n",
       "      LDAvis_load_lib(\"https://cdn.rawgit.com/bmabey/pyLDAvis/files/ldavis.v1.0.0.js\", function(){\n",
       "        new LDAvis(\"#\" + \"ldavis_el292121404722574166723928577918\", ldavis_el292121404722574166723928577918_data);\n",
       "      });\n",
       "    });\n",
       "}else{\n",
       "    // require.js not available: dynamically load d3 & LDAvis\n",
       "    LDAvis_load_lib(\"https://cdnjs.cloudflare.com/ajax/libs/d3/3.5.5/d3.min.js\", function(){\n",
       "         LDAvis_load_lib(\"https://cdn.rawgit.com/bmabey/pyLDAvis/files/ldavis.v1.0.0.js\", function(){\n",
       "                 new LDAvis(\"#\" + \"ldavis_el292121404722574166723928577918\", ldavis_el292121404722574166723928577918_data);\n",
       "            })\n",
       "         });\n",
       "}\n",
       "</script>"
      ],
      "text/plain": [
       "<IPython.core.display.HTML object>"
      ]
     },
     "execution_count": 13,
     "metadata": {},
     "output_type": "execute_result"
    }
   ],
   "source": [
    "prepared_data = gensimvis.prepare(new_model, corpus, id2word)\n",
    "pyLDAvis.display(prepared_data)"
   ]
  }
 ],
 "metadata": {
  "kernelspec": {
   "display_name": "Python 3",
   "language": "python",
   "name": "python3"
  },
  "language_info": {
   "codemirror_mode": {
    "name": "ipython",
    "version": 3
   },
   "file_extension": ".py",
   "mimetype": "text/x-python",
   "name": "python",
   "nbconvert_exporter": "python",
   "pygments_lexer": "ipython3",
   "version": "3.7.3"
  }
 },
 "nbformat": 4,
 "nbformat_minor": 2
}
